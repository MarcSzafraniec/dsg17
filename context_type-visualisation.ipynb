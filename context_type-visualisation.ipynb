{
 "cells": [
  {
   "cell_type": "code",
   "execution_count": 1,
   "metadata": {
    "ExecuteTime": {
     "end_time": "2017-05-05T22:02:47.589357",
     "start_time": "2017-05-05T22:02:47.167794"
    },
    "collapsed": true,
    "run_control": {
     "frozen": false,
     "read_only": false
    }
   },
   "outputs": [],
   "source": [
    "import pandas as pd\n",
    "import numpy as np\n",
    "import matplotlib.pyplot as plt\n",
    "from datetime import datetime"
   ]
  },
  {
   "cell_type": "code",
   "execution_count": 35,
   "metadata": {
    "ExecuteTime": {
     "end_time": "2017-05-05T23:28:51.656619",
     "start_time": "2017-05-05T23:28:42.204107"
    },
    "collapsed": false,
    "run_control": {
     "frozen": false,
     "read_only": false
    }
   },
   "outputs": [],
   "source": [
    "#Read data files\n",
    "test = pd.read_csv('../data/test.csv')\n",
    "train = pd.read_csv('../data/train.csv')\n",
    "sample_submission = pd.read_csv('../data/sample_submission_kaggle.csv')\n",
    "extra_infos = pd.read_json('../data/extra_infos.json',lines=True)"
   ]
  },
  {
   "cell_type": "code",
   "execution_count": 44,
   "metadata": {
    "ExecuteTime": {
     "end_time": "2017-05-05T23:31:16.073093",
     "start_time": "2017-05-05T23:31:15.891216"
    },
    "collapsed": false,
    "run_control": {
     "frozen": false,
     "read_only": false
    }
   },
   "outputs": [
    {
     "name": "stdout",
     "output_type": "stream",
     "text": [
      "1\n",
      "1617653\n",
      "5\n",
      "167428\n",
      "20\n",
      "17489\n",
      "23\n",
      "13168\n"
     ]
    }
   ],
   "source": [
    "# for context in test['context_type'].unique():\n",
    "#     print(context)\n",
    "#     print(len(train[train['context_type'] == context]))\n",
    "    \n",
    "    \n",
    "count_per_context_test = test.groupby(['context_type'])['media_id'].count()\n",
    "print(count_per_context_test)"
   ]
  },
  {
   "cell_type": "markdown",
   "metadata": {
    "run_control": {
     "frozen": false,
     "read_only": false
    }
   },
   "source": [
    "# Looking at the influence of the context: data exploration"
   ]
  },
  {
   "cell_type": "code",
   "execution_count": 43,
   "metadata": {
    "ExecuteTime": {
     "end_time": "2017-05-05T23:30:55.527529",
     "start_time": "2017-05-05T23:30:54.957104"
    },
    "collapsed": false,
    "run_control": {
     "frozen": false,
     "read_only": false
    }
   },
   "outputs": [
    {
     "name": "stdout",
     "output_type": "stream",
     "text": [
      "[0, 1, 2, 3, 4, 5, 6, 7, 8, 9, 10, 11, 12, 13, 14, 15, 16, 17, 18, 19, 20, 21, 22, 23, 24, 25, 26, 27, 28, 29, 30, 31, 32, 33, 34, 35, 36, 37, 38, 39, 40, 41, 42, 43, 44, 45, 46, 47, 48, 49, 50, 51, 52, 53, 54, 55, 56, 57, 58, 59, 60, 61, 62, 63, 64, 65, 66, 67, 68, 69, 70, 71, 72, 73]\n"
     ]
    },
    {
     "data": {
      "image/png": "[encoded data removed]",
      "text/plain": [
       "<matplotlib.figure.Figure at 0x7efb88619da0>"
      ]
     },
     "metadata": {},
     "output_type": "display_data"
    },
    {
     "name": "stdout",
     "output_type": "stream",
     "text": [
      "context_type\n",
      "0     3198365\n",
      "1     1617653\n",
      "2     1052844\n",
      "3      433456\n",
      "4      230259\n",
      "5      167428\n",
      "6       98523\n",
      "7       97645\n",
      "8       79330\n",
      "9       71572\n",
      "10      71026\n",
      "11      68775\n",
      "12      58460\n",
      "13      55830\n",
      "14      21641\n",
      "15      20826\n",
      "16      20725\n",
      "17      20075\n",
      "18      18933\n",
      "19      17973\n",
      "20      17489\n",
      "21      16918\n",
      "22      16625\n",
      "23      13168\n",
      "24      11200\n",
      "25      10206\n",
      "26       6158\n",
      "27       5017\n",
      "28       4256\n",
      "29       3739\n",
      "       ...   \n",
      "44        658\n",
      "45        593\n",
      "46        510\n",
      "47        474\n",
      "48        375\n",
      "49        278\n",
      "50        278\n",
      "51        265\n",
      "52        206\n",
      "53        162\n",
      "54        153\n",
      "55        147\n",
      "56        127\n",
      "57        118\n",
      "58        112\n",
      "59        100\n",
      "60         98\n",
      "61         92\n",
      "62         91\n",
      "63         72\n",
      "64         35\n",
      "65         33\n",
      "66         27\n",
      "67          7\n",
      "68          7\n",
      "69          3\n",
      "70          2\n",
      "71          2\n",
      "72          2\n",
      "73          1\n",
      "Name: media_id, dtype: int64\n"
     ]
    },
    {
     "data": {
      "image/png": "[encoded data removed]",
      "text/plain": [
       "<matplotlib.figure.Figure at 0x7efb9fa60748>"
      ]
     },
     "metadata": {},
     "output_type": "display_data"
    }
   ],
   "source": [
    "#Train set\n",
    "\n",
    "print(sorted(train['context_type'].unique()))\n",
    "avg_per_context = train.groupby(['context_type'])['is_listened'].mean()\n",
    "count_per_context = train.groupby(['context_type'])['media_id'].count()\n",
    "# print(avg_per_context)\n",
    "\n",
    "plt.scatter(avg_per_context[4:],count_per_context[4:])\n",
    "plt.xlabel('Mean of is_listened')\n",
    "plt.ylabel('Number of songs with this context type')\n",
    "plt.show()\n",
    "\n",
    "# plt.hist2d(avg_per_context,count_per_context, bins=50, cmap = plt.cm.gist_ncar)#colormaps:  plt.cm.jet, plt.cm.nipy_spectral\n",
    "# plt.xlabel('Mean of is_listened')\n",
    "# plt.ylabel('Number of songs that the user listened to')\n",
    "# plt.title('Density')\n",
    "# plt.colorbar()\n",
    "# plt.show()\n",
    "\n",
    "\n",
    "print(count_per_context)\n",
    "\n",
    "plt.plot(count_per_context)\n",
    "plt.show()"
   ]
  },
  {
   "cell_type": "markdown",
   "metadata": {
    "run_control": {
     "frozen": false,
     "read_only": false
    }
   },
   "source": [
    "The context_type is, for the train set, a number from 0 to 73 (both included) without interruption"
   ]
  },
  {
   "cell_type": "code",
   "execution_count": 7,
   "metadata": {
    "ExecuteTime": {
     "end_time": "2017-05-05T22:11:18.538852",
     "start_time": "2017-05-05T22:11:18.533583"
    },
    "collapsed": false,
    "run_control": {
     "frozen": false,
     "read_only": false
    }
   },
   "outputs": [
    {
     "name": "stdout",
     "output_type": "stream",
     "text": [
      "[1, 5, 20, 23]\n",
      "context_type\n",
      "1     16167\n",
      "5      3312\n",
      "20      251\n",
      "23      188\n",
      "Name: media_id, dtype: int64\n"
     ]
    }
   ],
   "source": [
    "#Test set\n",
    "\n",
    "print(sorted(test['context_type'].unique()))\n",
    "count_per_context_test = test.groupby(['context_type'])['media_id'].count()\n",
    "print(count_per_context_test)"
   ]
  },
  {
   "cell_type": "code",
   "execution_count": 9,
   "metadata": {
    "ExecuteTime": {
     "end_time": "2017-05-05T22:11:45.133250",
     "start_time": "2017-05-05T22:11:45.127924"
    },
    "collapsed": false,
    "run_control": {
     "frozen": false,
     "read_only": false
    }
   },
   "outputs": [
    {
     "name": "stdout",
     "output_type": "stream",
     "text": [
      "context_type\n",
      "1     81.167788\n",
      "5     16.628176\n",
      "20     1.260167\n",
      "23     0.943870\n",
      "Name: media_id, dtype: float64\n"
     ]
    }
   ],
   "source": [
    "print(count_per_context_test * 100 / count_per_context_test.sum())"
   ]
  },
  {
   "cell_type": "code",
   "execution_count": 10,
   "metadata": {
    "ExecuteTime": {
     "end_time": "2017-05-05T22:12:06.973068",
     "start_time": "2017-05-05T22:12:06.966720"
    },
    "collapsed": false,
    "run_control": {
     "frozen": false,
     "read_only": false
    }
   },
   "outputs": [
    {
     "name": "stdout",
     "output_type": "stream",
     "text": [
      "context_type\n",
      "0     42.312941\n",
      "1     21.400827\n",
      "2     13.928656\n",
      "3      5.734429\n",
      "4      3.046224\n",
      "5      2.214998\n",
      "6      1.303415\n",
      "7      1.291800\n",
      "8      1.049500\n",
      "9      0.946866\n",
      "10     0.939642\n",
      "11     0.909863\n",
      "12     0.773400\n",
      "13     0.738606\n",
      "14     0.286301\n",
      "15     0.275519\n",
      "16     0.274182\n",
      "17     0.265583\n",
      "18     0.250475\n",
      "19     0.237775\n",
      "20     0.231372\n",
      "21     0.223818\n",
      "22     0.219941\n",
      "23     0.174207\n",
      "24     0.148171\n",
      "25     0.135021\n",
      "26     0.081468\n",
      "27     0.066373\n",
      "28     0.056305\n",
      "29     0.049465\n",
      "        ...    \n",
      "44     0.008705\n",
      "45     0.007845\n",
      "46     0.006747\n",
      "47     0.006271\n",
      "48     0.004961\n",
      "49     0.003678\n",
      "50     0.003678\n",
      "51     0.003506\n",
      "52     0.002725\n",
      "53     0.002143\n",
      "54     0.002024\n",
      "55     0.001945\n",
      "56     0.001680\n",
      "57     0.001561\n",
      "58     0.001482\n",
      "59     0.001323\n",
      "60     0.001296\n",
      "61     0.001217\n",
      "62     0.001204\n",
      "63     0.000953\n",
      "64     0.000463\n",
      "65     0.000437\n",
      "66     0.000357\n",
      "67     0.000093\n",
      "68     0.000093\n",
      "69     0.000040\n",
      "70     0.000026\n",
      "71     0.000026\n",
      "72     0.000026\n",
      "73     0.000013\n",
      "Name: media_id, dtype: float64\n"
     ]
    }
   ],
   "source": [
    "print(count_per_context * 100 / count_per_context.sum())"
   ]
  },
  {
   "cell_type": "markdown",
   "metadata": {
    "run_control": {
     "frozen": false,
     "read_only": false
    }
   },
   "source": [
    "The context_type is, for the test set, a number among 1,5,20 or 23."
   ]
  },
  {
   "cell_type": "code",
   "execution_count": 21,
   "metadata": {
    "ExecuteTime": {
     "end_time": "2017-05-05T23:17:27.116408",
     "start_time": "2017-05-05T23:17:26.733513"
    },
    "collapsed": false,
    "run_control": {
     "frozen": false,
     "read_only": false
    }
   },
   "outputs": [
    {
     "name": "stdout",
     "output_type": "stream",
     "text": [
      "[0, 1, 2, 3, 4, 5, 6, 7, 8, 9, 11, 12, 13, 15, 17, 18, 20, 22, 23, 24, 28, 29, 30, 37, 38, 40, 43, 46, 47, 48, 49, 51, 52, 53, 55, 61, 63, 69]\n"
     ]
    },
    {
     "data": {
      "image/png": "[encoded data removed]",
      "text/plain": [
       "<matplotlib.figure.Figure at 0x7efbb429d390>"
      ]
     },
     "metadata": {},
     "output_type": "display_data"
    }
   ],
   "source": [
    "#Which contexts in Flow mode?\n",
    "train_flow = train[train['listen_type'] == 1]\n",
    "print(sorted(train_flow['context_type'].unique()))\n",
    "\n",
    "avg_per_context_flow = train_flow.groupby(['context_type'])['is_listened'].mean()\n",
    "count_per_context_flow = train_flow.groupby(['context_type'])['media_id'].count()\n",
    "\n",
    "plt.scatter(avg_per_context_flow,count_per_context_flow)\n",
    "plt.xlabel('Mean of is_listened')\n",
    "plt.ylabel('Number of songs with this context type')\n",
    "plt.title('Only in flow mode now')\n",
    "plt.show()"
   ]
  },
  {
   "cell_type": "markdown",
   "metadata": {
    "run_control": {
     "frozen": false,
     "read_only": false
    }
   },
   "source": [
    "The context_type is, for the train set with FLOW MODE only, is a list that included the ones of the test set, but also a lot of others..."
   ]
  },
  {
   "cell_type": "code",
   "execution_count": 16,
   "metadata": {
    "ExecuteTime": {
     "end_time": "2017-05-05T22:20:39.802658",
     "start_time": "2017-05-05T22:20:38.623506"
    },
    "collapsed": false,
    "run_control": {
     "frozen": false,
     "read_only": false
    }
   },
   "outputs": [],
   "source": [
    "list_times_max = []\n",
    "list_times_min = []\n",
    "for context in sorted(train['context_type'].unique()):\n",
    "#     print(context)\n",
    "    train_context_times = train[train['context_type'] == context]['ts_listen']\n",
    "#     print(train_context_times.min(), train_context_times.max(), train_context_times.median() )\n",
    "    list_times_max.append(train_context_times.max())\n",
    "    list_times_min.append(train_context_times.min())"
   ]
  },
  {
   "cell_type": "code",
   "execution_count": 19,
   "metadata": {
    "ExecuteTime": {
     "end_time": "2017-05-05T22:21:19.702957",
     "start_time": "2017-05-05T22:21:19.531094"
    },
    "collapsed": false,
    "run_control": {
     "frozen": false,
     "read_only": false
    }
   },
   "outputs": [
    {
     "data": {
      "image/png": "[encoded data removed]",
      "text/plain": [
       "<matplotlib.figure.Figure at 0x7efbaf137048>"
      ]
     },
     "metadata": {},
     "output_type": "display_data"
    }
   ],
   "source": [
    "plt.plot(list_times_max,label='max')\n",
    "# plt.plot(list_times_min,label='min')\n",
    "plt.legend()\n",
    "plt.show()"
   ]
  },
  {
   "cell_type": "code",
   "execution_count": 45,
   "metadata": {
    "ExecuteTime": {
     "end_time": "2017-05-05T23:31:50.914542",
     "start_time": "2017-05-05T23:31:50.903029"
    },
    "collapsed": false,
    "run_control": {
     "frozen": false,
     "read_only": false
    }
   },
   "outputs": [],
   "source": [
    "#We need to group some context_types together, based on their frequency\n",
    "\n",
    "train.loc[train['context_type'] >= 26, 'context_type'] = 26 #grouping all context_type with less than 10000 rows"
   ]
  },
  {
   "cell_type": "code",
   "execution_count": 46,
   "metadata": {
    "ExecuteTime": {
     "end_time": "2017-05-05T23:31:53.283445",
     "start_time": "2017-05-05T23:31:53.028433"
    },
    "collapsed": false,
    "run_control": {
     "frozen": false,
     "read_only": false
    }
   },
   "outputs": [
    {
     "name": "stdout",
     "output_type": "stream",
     "text": [
      "[0, 1, 2, 3, 4, 5, 6, 7, 8, 9, 10, 11, 12, 13, 14, 15, 16, 17, 18, 19, 20, 21, 22, 23, 24, 25, 26]\n",
      "context_type\n",
      "0     3198365\n",
      "1     1617653\n",
      "2     1052844\n",
      "3      433456\n",
      "4      230259\n",
      "5      167428\n",
      "6       98523\n",
      "7       97645\n",
      "8       79330\n",
      "9       71572\n",
      "10      71026\n",
      "11      68775\n",
      "12      58460\n",
      "13      55830\n",
      "14      21641\n",
      "15      20826\n",
      "16      20725\n",
      "17      20075\n",
      "18      18933\n",
      "19      17973\n",
      "20      17489\n",
      "21      16918\n",
      "22      16625\n",
      "23      13168\n",
      "24      11200\n",
      "25      10206\n",
      "26      51889\n",
      "Name: media_id, dtype: int64\n"
     ]
    }
   ],
   "source": [
    "print(sorted(train['context_type'].unique()))\n",
    "avg_per_context = train.groupby(['context_type'])['is_listened'].mean()\n",
    "count_per_context = train.groupby(['context_type'])['media_id'].count()\n",
    "print(count_per_context)"
   ]
  },
  {
   "cell_type": "code",
   "execution_count": null,
   "metadata": {
    "collapsed": true,
    "run_control": {
     "frozen": false,
     "read_only": false
    }
   },
   "outputs": [],
   "source": []
  }
 ],
 "metadata": {
  "kernelspec": {
   "display_name": "Python [conda root]",
   "language": "python",
   "name": "conda-root-py"
  },
  "language_info": {
   "codemirror_mode": {
    "name": "ipython",
    "version": 3
   },
   "file_extension": ".py",
   "mimetype": "text/x-python",
   "name": "python",
   "nbconvert_exporter": "python",
   "pygments_lexer": "ipython3",
   "version": "3.5.2"
  }
 },
 "nbformat": 4,
 "nbformat_minor": 2
}
