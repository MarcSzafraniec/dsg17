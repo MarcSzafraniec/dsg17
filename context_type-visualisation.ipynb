{
 "cells": [
  {
   "cell_type": "code",
   "execution_count": 1,
   "metadata": {
    "ExecuteTime": {
     "end_time": "2017-04-18T00:34:52.974021",
     "start_time": "2017-04-18T00:34:48.737041"
    },
    "collapsed": true,
    "run_control": {
     "frozen": false,
     "read_only": false
    }
   },
   "outputs": [],
   "source": [
    "import pandas as pd\n",
    "import numpy as np\n",
    "import matplotlib.pyplot as plt\n",
    "from datetime import datetime"
   ]
  },
  {
   "cell_type": "code",
   "execution_count": 2,
   "metadata": {
    "ExecuteTime": {
     "end_time": "2017-04-18T00:35:52.230552",
     "start_time": "2017-04-18T00:34:52.975617"
    },
    "collapsed": true,
    "run_control": {
     "frozen": false,
     "read_only": false
    }
   },
   "outputs": [],
   "source": [
    "#Read data files\n",
    "test = pd.read_csv('test.csv')\n",
    "train = pd.read_csv('train.csv')\n",
    "sample_submission = pd.read_csv('sample_submission_kaggle.csv')\n",
    "extra_infos = pd.read_json('extra_infos.json',lines=True)"
   ]
  },
  {
   "cell_type": "markdown",
   "metadata": {
    "run_control": {
     "frozen": false,
     "read_only": false
    }
   },
   "source": [
    "# Looking at the influence of the context"
   ]
  },
  {
   "cell_type": "code",
   "execution_count": 8,
   "metadata": {
    "ExecuteTime": {
     "end_time": "2017-04-18T00:49:14.923432",
     "start_time": "2017-04-18T00:49:14.456786"
    },
    "collapsed": false,
    "run_control": {
     "frozen": false,
     "read_only": false
    }
   },
   "outputs": [
    {
     "name": "stdout",
     "output_type": "stream",
     "text": [
      "[0, 1, 2, 3, 4, 5, 6, 7, 8, 9, 10, 11, 12, 13, 14, 15, 16, 17, 18, 19, 20, 21, 22, 23, 24, 25, 26, 27, 28, 29, 30, 31, 32, 33, 34, 35, 36, 37, 38, 39, 40, 41, 42, 43, 44, 45, 46, 47, 48, 49, 50, 51, 52, 53, 54, 55, 56, 57, 58, 59, 60, 61, 62, 63, 64, 65, 66, 67, 68, 69, 70, 71, 72, 73]\n"
     ]
    },
    {
     "data": {
      "image/png": "[encoded data removed]",
      "text/plain": [
       "<matplotlib.figure.Figure at 0x7ff0800f09e8>"
      ]
     },
     "metadata": {},
     "output_type": "display_data"
    },
    {
     "name": "stdout",
     "output_type": "stream",
     "text": [
      "context_type\n",
      "0     3198365\n",
      "1     1617653\n",
      "2     1052844\n",
      "3      433456\n",
      "4      230259\n",
      "5      167428\n",
      "6       98523\n",
      "7       97645\n",
      "8       79330\n",
      "9       71572\n",
      "10      71026\n",
      "11      68775\n",
      "12      58460\n",
      "13      55830\n",
      "14      21641\n",
      "15      20826\n",
      "16      20725\n",
      "17      20075\n",
      "18      18933\n",
      "19      17973\n",
      "20      17489\n",
      "21      16918\n",
      "22      16625\n",
      "23      13168\n",
      "24      11200\n",
      "25      10206\n",
      "26       6158\n",
      "27       5017\n",
      "28       4256\n",
      "29       3739\n",
      "       ...   \n",
      "44        658\n",
      "45        593\n",
      "46        510\n",
      "47        474\n",
      "48        375\n",
      "49        278\n",
      "50        278\n",
      "51        265\n",
      "52        206\n",
      "53        162\n",
      "54        153\n",
      "55        147\n",
      "56        127\n",
      "57        118\n",
      "58        112\n",
      "59        100\n",
      "60         98\n",
      "61         92\n",
      "62         91\n",
      "63         72\n",
      "64         35\n",
      "65         33\n",
      "66         27\n",
      "67          7\n",
      "68          7\n",
      "69          3\n",
      "70          2\n",
      "71          2\n",
      "72          2\n",
      "73          1\n",
      "Name: media_id, dtype: int64\n"
     ]
    }
   ],
   "source": [
    "#Train set\n",
    "\n",
    "print(sorted(train['context_type'].unique()))\n",
    "avg_per_context = train.groupby(['context_type'])['is_listened'].mean()\n",
    "count_per_context = train.groupby(['context_type'])['media_id'].count()\n",
    "\n",
    "\n",
    "plt.scatter(avg_per_context,count_per_context)\n",
    "plt.xlabel('Mean of is_listened')\n",
    "plt.ylabel('Number of songs with this context type')\n",
    "plt.show()\n",
    "\n",
    "# plt.hist2d(avg_per_context,count_per_context, bins=50, cmap = plt.cm.gist_ncar)#colormaps:  plt.cm.jet, plt.cm.nipy_spectral\n",
    "# plt.xlabel('Mean of is_listened')\n",
    "# plt.ylabel('Number of songs that the user listened to')\n",
    "# plt.title('Density')\n",
    "# plt.colorbar()\n",
    "# plt.show()\n",
    "\n",
    "\n",
    "print(count_per_context)"
   ]
  },
  {
   "cell_type": "markdown",
   "metadata": {
    "run_control": {
     "frozen": false,
     "read_only": false
    }
   },
   "source": [
    "The context_type is, for the train set, a number from 0 to 73 (both included) without interruption"
   ]
  },
  {
   "cell_type": "code",
   "execution_count": 6,
   "metadata": {
    "ExecuteTime": {
     "end_time": "2017-04-18T00:47:13.457959",
     "start_time": "2017-04-18T00:47:13.449744"
    },
    "collapsed": false,
    "run_control": {
     "frozen": false,
     "read_only": false
    }
   },
   "outputs": [
    {
     "name": "stdout",
     "output_type": "stream",
     "text": [
      "[1, 5, 20, 23]\n",
      "context_type\n",
      "1     16167\n",
      "5      3312\n",
      "20      251\n",
      "23      188\n",
      "Name: media_id, dtype: int64\n"
     ]
    }
   ],
   "source": [
    "#Test set\n",
    "\n",
    "print(sorted(test['context_type'].unique()))\n",
    "count_per_context_test = test.groupby(['context_type'])['media_id'].count()\n",
    "print(count_per_context_test)"
   ]
  },
  {
   "cell_type": "markdown",
   "metadata": {
    "run_control": {
     "frozen": false,
     "read_only": false
    }
   },
   "source": [
    "The context_type is, for the test set, a number among 1,5,20 or 23."
   ]
  },
  {
   "cell_type": "code",
   "execution_count": 11,
   "metadata": {
    "ExecuteTime": {
     "end_time": "2017-04-18T00:51:36.601311",
     "start_time": "2017-04-18T00:51:34.756930"
    },
    "collapsed": false,
    "run_control": {
     "frozen": false,
     "read_only": false
    }
   },
   "outputs": [
    {
     "name": "stdout",
     "output_type": "stream",
     "text": [
      "[0, 1, 2, 3, 4, 5, 6, 7, 8, 9, 11, 12, 13, 15, 17, 18, 20, 22, 23, 24, 28, 29, 30, 37, 38, 40, 43, 46, 47, 48, 49, 51, 52, 53, 55, 61, 63, 69]\n"
     ]
    },
    {
     "data": {
      "image/png": "[encoded data removed]",
      "text/plain": [
       "<matplotlib.figure.Figure at 0x7ff0297d30b8>"
      ]
     },
     "metadata": {},
     "output_type": "display_data"
    }
   ],
   "source": [
    "#Which contexts in Flow mode?\n",
    "train_flow = train[train['listen_type'] == 1]\n",
    "print(sorted(train_flow['context_type'].unique()))\n",
    "\n",
    "avg_per_context_flow = train_flow.groupby(['context_type'])['is_listened'].mean()\n",
    "count_per_context_flow = train_flow.groupby(['context_type'])['media_id'].count()\n",
    "\n",
    "plt.scatter(avg_per_context_flow,count_per_context_flow)\n",
    "plt.xlabel('Mean of is_listened')\n",
    "plt.ylabel('Number of songs with this context type')\n",
    "plt.title('Only in flow mode now')\n",
    "plt.show()"
   ]
  },
  {
   "cell_type": "markdown",
   "metadata": {
    "run_control": {
     "frozen": false,
     "read_only": false
    }
   },
   "source": [
    "The context_type is, for the train set with FLOW MODE only, is a list that included the ones of the test set, but also a lot of others..."
   ]
  },
  {
   "cell_type": "code",
   "execution_count": null,
   "metadata": {
    "collapsed": true,
    "run_control": {
     "frozen": false,
     "read_only": false
    }
   },
   "outputs": [],
   "source": []
  }
 ],
 "metadata": {
  "kernelspec": {
   "display_name": "Python [conda root]",
   "language": "python",
   "name": "conda-root-py"
  },
  "language_info": {
   "codemirror_mode": {
    "name": "ipython",
    "version": 3
   },
   "file_extension": ".py",
   "mimetype": "text/x-python",
   "name": "python",
   "nbconvert_exporter": "python",
   "pygments_lexer": "ipython3",
   "version": "3.5.2"
  }
 },
 "nbformat": 4,
 "nbformat_minor": 2
}
