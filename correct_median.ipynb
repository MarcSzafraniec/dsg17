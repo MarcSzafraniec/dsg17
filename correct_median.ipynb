{
 "cells": [
  {
   "cell_type": "code",
   "execution_count": 1,
   "metadata": {
    "ExecuteTime": {
     "end_time": "2017-05-31T00:47:26.268510",
     "start_time": "2017-05-31T00:47:25.621885"
    },
    "collapsed": true,
    "run_control": {
     "frozen": false,
     "read_only": false
    }
   },
   "outputs": [],
   "source": [
    "import pandas as pd\n",
    "import numpy as np\n",
    "from sklearn.metrics import roc_auc_score\n",
    "from sklearn import metrics\n",
    "import matplotlib.pyplot as plt\n",
    "from datetime import datetime"
   ]
  },
  {
   "cell_type": "code",
   "execution_count": null,
   "metadata": {
    "collapsed": true
   },
   "outputs": [],
   "source": [
    "#Read data files\n",
    "test = pd.read_csv('./data/test.csv')\n",
    "train = pd.read_csv('./data/train.csv')"
   ]
  },
  {
   "cell_type": "code",
   "execution_count": null,
   "metadata": {
    "collapsed": true
   },
   "outputs": [],
   "source": [
    "count_user = train.groupby('user_id').size()\n",
    "count_user.name = 'count_user'\n",
    "desc_users = count_user.to_frame()\n",
    "desc_users['avg_listened'] = train.groupby('user_id')['is_listened'].mean().values\n",
    "desc_users"
   ]
  },
  {
   "cell_type": "code",
   "execution_count": null,
   "metadata": {
    "collapsed": true
   },
   "outputs": [],
   "source": [
    "for n in range(5,0,-1):\n",
    "    print(n)\n",
    "    \n",
    "    train_head = train.sort_values('user_id').groupby('user_id').head(n)\n",
    "    avg_head = train_head.groupby('user_id')['is_listened'].mean()\n",
    "    avg_head.name = 'avg_head_'+str(n)\n",
    "    desc_users = desc_users.join(avg_head)"
   ]
  },
  {
   "cell_type": "code",
   "execution_count": null,
   "metadata": {
    "collapsed": true
   },
   "outputs": [],
   "source": [
    "def predict_is_listened(row):\n",
    "    count_user = row['count_user']\n",
    "    if count_user > 5:\n",
    "        return row['avg_listened']\n",
    "    else:\n",
    "        column_name = 'avg_head_'+str(int(count_user))\n",
    "        print(column_name)\n",
    "        return_that = desc_users[desc_users[column_name] == row[column_name]]['avg_listened'].median()\n",
    "#         print(row.index,return_that)\n",
    "        return return_that\n",
    "    \n",
    "desc_users['new_avg_listened_user_id'] = desc_users.apply(lambda row: predict_is_listened(row),axis=1)"
   ]
  },
  {
   "cell_type": "markdown",
   "metadata": {},
   "source": [
    "Et il suffit de faire un join avec le train set"
   ]
  },
  {
   "cell_type": "code",
   "execution_count": null,
   "metadata": {
    "collapsed": true
   },
   "outputs": [],
   "source": []
  }
 ],
 "metadata": {
  "kernelspec": {
   "display_name": "Python [conda root]",
   "language": "python",
   "name": "conda-root-py"
  },
  "language_info": {
   "codemirror_mode": {
    "name": "ipython",
    "version": 3
   },
   "file_extension": ".py",
   "mimetype": "text/x-python",
   "name": "python",
   "nbconvert_exporter": "python",
   "pygments_lexer": "ipython3",
   "version": "3.5.2"
  }
 },
 "nbformat": 4,
 "nbformat_minor": 2
}
