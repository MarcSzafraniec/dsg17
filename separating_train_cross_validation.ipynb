{
 "cells": [
  {
   "cell_type": "code",
   "execution_count": 1,
   "metadata": {
    "ExecuteTime": {
     "end_time": "2017-05-12T11:01:36.008777",
     "start_time": "2017-05-12T11:01:35.989586"
    },
    "collapsed": true,
    "run_control": {
     "frozen": false,
     "read_only": false
    }
   },
   "outputs": [],
   "source": [
    "def separate_train_cross_val():  #separating train from cross val\n",
    "    #We first remove the users that listened to 1 song only (as we cannot separate between train and test)\n",
    "    #We separate in order to have once (and only once) each user in the test set\n",
    "    #Separate train_set from cross_validation_set\n",
    "    \n",
    "    global train\n",
    "\n",
    "    train_2 = train.copy()\n",
    "    count_user = train_2.groupby(['user_id'])['media_id'].count().to_frame()\n",
    "    count_user = count_user[count_user['media_id'] >= 2]\n",
    "\n",
    "    train_2 = train_2.loc[train_2['user_id'].isin(count_user.index)] #we select the users with >= 2 songs\n",
    "    train_2.sort_values(by='ts_listen',inplace=True)\n",
    "\n",
    "    test_new = train_2.groupby(['user_id']).tail(1) #we select for each user, the last song\n",
    "    train_new = train_2.drop(test_new.index)\n",
    "    \n",
    "    return train_new,test_new\n",
    "\n",
    "# train_new,test_new = separate_train_cross_val()"
   ]
  },
  {
   "cell_type": "code",
   "execution_count": null,
   "metadata": {
    "collapsed": true
   },
   "outputs": [],
   "source": []
  }
 ],
 "metadata": {
  "kernelspec": {
   "display_name": "Python [conda root]",
   "language": "python",
   "name": "conda-root-py"
  },
  "language_info": {
   "codemirror_mode": {
    "name": "ipython",
    "version": 3
   },
   "file_extension": ".py",
   "mimetype": "text/x-python",
   "name": "python",
   "nbconvert_exporter": "python",
   "pygments_lexer": "ipython3",
   "version": "3.5.2"
  }
 },
 "nbformat": 4,
 "nbformat_minor": 2
}
