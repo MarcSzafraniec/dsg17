{
 "cells": [
  {
   "cell_type": "markdown",
   "metadata": {
    "collapsed": true,
    "run_control": {
     "frozen": false,
     "read_only": false
    }
   },
   "source": [
    "<h1> I. Beginning </h1>"
   ]
  },
  {
   "cell_type": "code",
   "execution_count": 69,
   "metadata": {
    "ExecuteTime": {
<<<<<<< HEAD
     "end_time": "2017-04-27T23:10:50.798228",
     "start_time": "2017-04-27T23:10:50.143794"
=======
     "end_time": "2017-05-06T19:27:06.033257",
     "start_time": "2017-05-06T19:27:06.023119"
>>>>>>> 92b0d022dee0c8857217aed86aeb2545e17081a2
    },
    "code_folding": [],
    "collapsed": false,
    "init_cell": true,
    "run_control": {
     "frozen": false,
     "read_only": false
    }
   },
<<<<<<< HEAD
   "outputs": [
    {
     "name": "stderr",
     "output_type": "stream",
     "text": [
      "/home/vincent/anaconda3/lib/python3.5/site-packages/sklearn/cross_validation.py:44: DeprecationWarning: This module was deprecated in version 0.18 in favor of the model_selection module into which all the refactored classes and functions are moved. Also note that the interface of the new CV iterators are different from that of this module. This module will be removed in 0.20.\n",
      "  \"This module will be removed in 0.20.\", DeprecationWarning)\n",
      "/home/vincent/anaconda3/lib/python3.5/site-packages/sklearn/grid_search.py:43: DeprecationWarning: This module was deprecated in version 0.18 in favor of the model_selection module into which all the refactored classes and functions are moved. This module will be removed in 0.20.\n",
      "  DeprecationWarning)\n"
     ]
    }
   ],
=======
   "outputs": [],
>>>>>>> 92b0d022dee0c8857217aed86aeb2545e17081a2
   "source": [
    "# remove warnings\n",
    "import warnings\n",
    "warnings.filterwarnings('ignore')\n",
    "# ---\n",
    "\n",
    "%matplotlib inline\n",
    "import pandas as pd\n",
    "pd.options.display.max_columns = 100\n",
    "from matplotlib import pyplot as plt\n",
    "import matplotlib\n",
    "matplotlib.style.use('ggplot')\n",
    "import seaborn as sns\n",
    "sns.set(color_codes=True)\n",
    "import numpy as np\n",
    "import xgboost as xgb\n",
    "from xgboost.sklearn import XGBClassifier\n",
    "from sklearn import cross_validation, metrics   #Additional scklearn functions\n",
    "from sklearn.grid_search import GridSearchCV   #Performing grid search\n",
    "\n",
    "pd.options.display.max_rows = 100"
   ]
  },
  {
   "cell_type": "code",
   "execution_count": 70,
   "metadata": {
    "ExecuteTime": {
<<<<<<< HEAD
     "end_time": "2017-04-27T23:10:53.327342",
     "start_time": "2017-04-27T23:10:53.289101"
=======
     "end_time": "2017-05-06T19:27:06.091497",
     "start_time": "2017-05-06T19:27:06.034566"
>>>>>>> 92b0d022dee0c8857217aed86aeb2545e17081a2
    },
    "collapsed": false,
    "init_cell": true,
    "run_control": {
     "frozen": false,
     "read_only": false
    }
   },
   "outputs": [],
   "source": [
    "# Feature Importance\n",
    "from sklearn import datasets\n",
    "from sklearn.ensemble import ExtraTreesClassifier\n",
    "from sklearn.feature_selection import SelectFromModel"
   ]
  },
  {
   "cell_type": "markdown",
   "metadata": {
    "run_control": {
     "frozen": false,
     "read_only": false
    }
   },
   "source": [
    "## Import Data"
   ]
  },
  {
   "cell_type": "code",
   "execution_count": 71,
   "metadata": {
    "ExecuteTime": {
<<<<<<< HEAD
     "end_time": "2017-04-27T23:19:55.628578",
     "start_time": "2017-04-27T23:19:55.593312"
=======
     "end_time": "2017-05-06T19:27:07.211627",
     "start_time": "2017-05-06T19:27:06.092593"
>>>>>>> 92b0d022dee0c8857217aed86aeb2545e17081a2
    },
    "collapsed": false,
    "init_cell": true,
    "run_control": {
     "frozen": false,
     "read_only": false
    }
   },
   "outputs": [],
   "source": [
<<<<<<< HEAD
    "train = pd.read_csv('../data/train.csv', sep = \",\")\n",
    "test = pd.read_csv('../data/test.csv', sep = \",\")"
=======
    "train = pd.read_csv('./data/train.csv', sep = \",\", nrows = 1000000)\n",
    "test = pd.read_csv('./data/test.csv', sep = \",\", nrows = 1000000)"
>>>>>>> 92b0d022dee0c8857217aed86aeb2545e17081a2
   ]
  },
  {
   "cell_type": "code",
   "execution_count": 72,
   "metadata": {
    "ExecuteTime": {
<<<<<<< HEAD
     "end_time": "2017-04-27T23:19:58.591586",
     "start_time": "2017-04-27T23:19:58.587823"
=======
     "end_time": "2017-05-06T19:27:07.217830",
     "start_time": "2017-05-06T19:27:07.213790"
>>>>>>> 92b0d022dee0c8857217aed86aeb2545e17081a2
    },
    "collapsed": false,
    "init_cell": true,
    "run_control": {
     "frozen": false,
     "read_only": false
    }
   },
   "outputs": [],
   "source": [
    "IDtest = test['sample_id']\n",
    "test.drop('sample_id',inplace=True,axis=1)"
   ]
  },
  {
   "cell_type": "code",
   "execution_count": 73,
   "metadata": {
    "ExecuteTime": {
<<<<<<< HEAD
     "end_time": "2017-04-27T23:20:00.593375",
     "start_time": "2017-04-27T23:20:00.580721"
=======
     "end_time": "2017-05-06T19:27:07.287207",
     "start_time": "2017-05-06T19:27:07.219402"
>>>>>>> 92b0d022dee0c8857217aed86aeb2545e17081a2
    },
    "collapsed": false,
    "init_cell": true,
    "run_control": {
     "frozen": false,
     "read_only": false
    }
   },
   "outputs": [
    {
     "data": {
      "text/html": [
       "<div>\n",
       "<table border=\"1\" class=\"dataframe\">\n",
       "  <thead>\n",
       "    <tr style=\"text-align: right;\">\n",
       "      <th></th>\n",
       "      <th>genre_id</th>\n",
       "      <th>ts_listen</th>\n",
       "      <th>media_id</th>\n",
       "      <th>album_id</th>\n",
       "      <th>context_type</th>\n",
       "      <th>release_date</th>\n",
       "      <th>platform_name</th>\n",
       "      <th>platform_family</th>\n",
       "      <th>media_duration</th>\n",
       "      <th>listen_type</th>\n",
       "      <th>user_gender</th>\n",
       "      <th>user_id</th>\n",
       "      <th>artist_id</th>\n",
       "      <th>user_age</th>\n",
       "    </tr>\n",
       "  </thead>\n",
       "  <tbody>\n",
       "    <tr>\n",
       "      <th>0</th>\n",
       "      <td>50</td>\n",
       "      <td>1478104371</td>\n",
       "      <td>683078</td>\n",
       "      <td>82356</td>\n",
       "      <td>1</td>\n",
       "      <td>20021008</td>\n",
       "      <td>0</td>\n",
       "      <td>0</td>\n",
       "      <td>542</td>\n",
       "      <td>1</td>\n",
       "      <td>0</td>\n",
       "      <td>17698</td>\n",
       "      <td>2076</td>\n",
       "      <td>30</td>\n",
       "    </tr>\n",
       "    <tr>\n",
       "      <th>1</th>\n",
       "      <td>2744</td>\n",
       "      <td>1479317140</td>\n",
       "      <td>876497</td>\n",
       "      <td>99692</td>\n",
       "      <td>1</td>\n",
       "      <td>19851231</td>\n",
       "      <td>0</td>\n",
       "      <td>0</td>\n",
       "      <td>307</td>\n",
       "      <td>1</td>\n",
       "      <td>0</td>\n",
       "      <td>10525</td>\n",
       "      <td>26</td>\n",
       "      <td>28</td>\n",
       "    </tr>\n",
       "    <tr>\n",
       "      <th>2</th>\n",
       "      <td>2744</td>\n",
       "      <td>1479546361</td>\n",
       "      <td>876497</td>\n",
       "      <td>99692</td>\n",
       "      <td>1</td>\n",
       "      <td>19851231</td>\n",
       "      <td>0</td>\n",
       "      <td>0</td>\n",
       "      <td>307</td>\n",
       "      <td>1</td>\n",
       "      <td>0</td>\n",
       "      <td>8716</td>\n",
       "      <td>26</td>\n",
       "      <td>27</td>\n",
       "    </tr>\n",
       "    <tr>\n",
       "      <th>3</th>\n",
       "      <td>2744</td>\n",
       "      <td>1478457729</td>\n",
       "      <td>876500</td>\n",
       "      <td>99692</td>\n",
       "      <td>1</td>\n",
       "      <td>19851231</td>\n",
       "      <td>2</td>\n",
       "      <td>1</td>\n",
       "      <td>265</td>\n",
       "      <td>1</td>\n",
       "      <td>0</td>\n",
       "      <td>5443</td>\n",
       "      <td>26</td>\n",
       "      <td>30</td>\n",
       "    </tr>\n",
       "    <tr>\n",
       "      <th>4</th>\n",
       "      <td>2744</td>\n",
       "      <td>1480448560</td>\n",
       "      <td>876504</td>\n",
       "      <td>99692</td>\n",
       "      <td>1</td>\n",
       "      <td>19851231</td>\n",
       "      <td>2</td>\n",
       "      <td>1</td>\n",
       "      <td>356</td>\n",
       "      <td>1</td>\n",
       "      <td>0</td>\n",
       "      <td>7600</td>\n",
       "      <td>26</td>\n",
       "      <td>29</td>\n",
       "    </tr>\n",
       "  </tbody>\n",
       "</table>\n",
       "</div>"
      ],
      "text/plain": [
       "   genre_id   ts_listen  media_id  album_id  context_type  release_date  \\\n",
       "0        50  1478104371    683078     82356             1      20021008   \n",
       "1      2744  1479317140    876497     99692             1      19851231   \n",
       "2      2744  1479546361    876497     99692             1      19851231   \n",
       "3      2744  1478457729    876500     99692             1      19851231   \n",
       "4      2744  1480448560    876504     99692             1      19851231   \n",
       "\n",
       "   platform_name  platform_family  media_duration  listen_type  user_gender  \\\n",
       "0              0                0             542            1            0   \n",
       "1              0                0             307            1            0   \n",
       "2              0                0             307            1            0   \n",
       "3              2                1             265            1            0   \n",
       "4              2                1             356            1            0   \n",
       "\n",
       "   user_id  artist_id  user_age  \n",
       "0    17698       2076        30  \n",
       "1    10525         26        28  \n",
       "2     8716         26        27  \n",
       "3     5443         26        30  \n",
       "4     7600         26        29  "
      ]
     },
     "execution_count": 73,
     "metadata": {},
     "output_type": "execute_result"
    }
   ],
   "source": [
    "test.head()"
   ]
  },
  {
   "cell_type": "code",
<<<<<<< HEAD
   "execution_count": 7,
   "metadata": {
    "ExecuteTime": {
     "end_time": "2017-04-27T23:11:32.888026",
     "start_time": "2017-04-27T23:11:32.874994"
=======
   "execution_count": 74,
   "metadata": {
    "ExecuteTime": {
     "end_time": "2017-05-06T19:27:07.336796",
     "start_time": "2017-05-06T19:27:07.288674"
>>>>>>> 92b0d022dee0c8857217aed86aeb2545e17081a2
    },
    "collapsed": false,
    "run_control": {
     "frozen": false,
     "read_only": false
    }
   },
   "outputs": [
    {
     "data": {
      "text/html": [
       "<div>\n",
       "<table border=\"1\" class=\"dataframe\">\n",
       "  <thead>\n",
       "    <tr style=\"text-align: right;\">\n",
       "      <th></th>\n",
       "      <th>genre_id</th>\n",
       "      <th>ts_listen</th>\n",
       "      <th>media_id</th>\n",
       "      <th>album_id</th>\n",
       "      <th>context_type</th>\n",
       "      <th>release_date</th>\n",
       "      <th>platform_name</th>\n",
       "      <th>platform_family</th>\n",
       "      <th>media_duration</th>\n",
       "      <th>listen_type</th>\n",
       "      <th>user_gender</th>\n",
       "      <th>user_id</th>\n",
       "      <th>artist_id</th>\n",
       "      <th>user_age</th>\n",
       "      <th>is_listened</th>\n",
       "    </tr>\n",
       "  </thead>\n",
       "  <tbody>\n",
       "    <tr>\n",
       "      <th>0</th>\n",
       "      <td>25471</td>\n",
       "      <td>1480597215</td>\n",
       "      <td>222606</td>\n",
       "      <td>41774</td>\n",
       "      <td>12</td>\n",
       "      <td>20040704</td>\n",
       "      <td>1</td>\n",
       "      <td>0</td>\n",
       "      <td>223</td>\n",
       "      <td>0</td>\n",
       "      <td>0</td>\n",
       "      <td>9241</td>\n",
       "      <td>55164</td>\n",
       "      <td>29</td>\n",
       "      <td>0</td>\n",
       "    </tr>\n",
       "    <tr>\n",
       "      <th>1</th>\n",
       "      <td>25571</td>\n",
       "      <td>1480544735</td>\n",
       "      <td>250467</td>\n",
       "      <td>43941</td>\n",
       "      <td>0</td>\n",
       "      <td>20060301</td>\n",
       "      <td>2</td>\n",
       "      <td>1</td>\n",
       "      <td>171</td>\n",
       "      <td>0</td>\n",
       "      <td>0</td>\n",
       "      <td>16547</td>\n",
       "      <td>55830</td>\n",
       "      <td>30</td>\n",
       "      <td>1</td>\n",
       "    </tr>\n",
       "    <tr>\n",
       "      <th>2</th>\n",
       "      <td>16</td>\n",
       "      <td>1479563953</td>\n",
       "      <td>305197</td>\n",
       "      <td>48078</td>\n",
       "      <td>1</td>\n",
       "      <td>20140714</td>\n",
       "      <td>2</td>\n",
       "      <td>1</td>\n",
       "      <td>149</td>\n",
       "      <td>1</td>\n",
       "      <td>1</td>\n",
       "      <td>7665</td>\n",
       "      <td>2704</td>\n",
       "      <td>29</td>\n",
       "      <td>1</td>\n",
       "    </tr>\n",
       "    <tr>\n",
       "      <th>3</th>\n",
       "      <td>7</td>\n",
       "      <td>1480152098</td>\n",
       "      <td>900502</td>\n",
       "      <td>71521</td>\n",
       "      <td>0</td>\n",
       "      <td>20001030</td>\n",
       "      <td>0</td>\n",
       "      <td>0</td>\n",
       "      <td>240</td>\n",
       "      <td>0</td>\n",
       "      <td>1</td>\n",
       "      <td>1580</td>\n",
       "      <td>938</td>\n",
       "      <td>30</td>\n",
       "      <td>0</td>\n",
       "    </tr>\n",
       "    <tr>\n",
       "      <th>4</th>\n",
       "      <td>7</td>\n",
       "      <td>1478368974</td>\n",
       "      <td>542335</td>\n",
       "      <td>71718</td>\n",
       "      <td>0</td>\n",
       "      <td>20080215</td>\n",
       "      <td>0</td>\n",
       "      <td>0</td>\n",
       "      <td>150</td>\n",
       "      <td>0</td>\n",
       "      <td>1</td>\n",
       "      <td>1812</td>\n",
       "      <td>2939</td>\n",
       "      <td>24</td>\n",
       "      <td>1</td>\n",
       "    </tr>\n",
       "  </tbody>\n",
       "</table>\n",
       "</div>"
      ],
      "text/plain": [
       "   genre_id   ts_listen  media_id  album_id  context_type  release_date  \\\n",
       "0     25471  1480597215    222606     41774            12      20040704   \n",
       "1     25571  1480544735    250467     43941             0      20060301   \n",
       "2        16  1479563953    305197     48078             1      20140714   \n",
       "3         7  1480152098    900502     71521             0      20001030   \n",
       "4         7  1478368974    542335     71718             0      20080215   \n",
       "\n",
       "   platform_name  platform_family  media_duration  listen_type  user_gender  \\\n",
       "0              1                0             223            0            0   \n",
       "1              2                1             171            0            0   \n",
       "2              2                1             149            1            1   \n",
       "3              0                0             240            0            1   \n",
       "4              0                0             150            0            1   \n",
       "\n",
       "   user_id  artist_id  user_age  is_listened  \n",
       "0     9241      55164        29            0  \n",
       "1    16547      55830        30            1  \n",
       "2     7665       2704        29            1  \n",
       "3     1580        938        30            0  \n",
       "4     1812       2939        24            1  "
      ]
     },
<<<<<<< HEAD
     "execution_count": 7,
=======
     "execution_count": 74,
>>>>>>> 92b0d022dee0c8857217aed86aeb2545e17081a2
     "metadata": {},
     "output_type": "execute_result"
    }
   ],
   "source": [
    "train.head()"
   ]
  },
  {
   "cell_type": "markdown",
   "metadata": {
    "ExecuteTime": {
     "end_time": "2017-04-17T23:17:05.309327",
     "start_time": "2017-04-17T23:17:05.278754"
    },
    "run_control": {
     "frozen": false,
     "read_only": false
    }
   },
   "source": [
    "### Take out absurd data"
   ]
  },
  {
   "cell_type": "code",
<<<<<<< HEAD
   "execution_count": 22,
   "metadata": {
    "ExecuteTime": {
     "end_time": "2017-04-27T23:20:55.488937",
     "start_time": "2017-04-27T23:20:53.742151"
=======
   "execution_count": 75,
   "metadata": {
    "ExecuteTime": {
     "end_time": "2017-05-06T19:27:07.557122",
     "start_time": "2017-05-06T19:27:07.337976"
>>>>>>> 92b0d022dee0c8857217aed86aeb2545e17081a2
    },
    "collapsed": false,
    "run_control": {
     "frozen": false,
     "read_only": false
    }
   },
   "outputs": [],
   "source": [
    "train.drop(train.index[(train['media_duration'] <= 30)*(train['is_listened'] == 1)], axis = 0, inplace = True)"
   ]
  },
  {
   "cell_type": "code",
<<<<<<< HEAD
   "execution_count": 23,
   "metadata": {
    "ExecuteTime": {
     "end_time": "2017-04-27T23:22:52.712919",
     "start_time": "2017-04-27T23:20:57.410067"
=======
   "execution_count": 76,
   "metadata": {
    "ExecuteTime": {
     "end_time": "2017-05-06T19:27:23.489751",
     "start_time": "2017-05-06T19:27:07.558314"
>>>>>>> 92b0d022dee0c8857217aed86aeb2545e17081a2
    },
    "collapsed": false,
    "run_control": {
     "frozen": false,
     "read_only": false
    }
   },
   "outputs": [],
   "source": [
    "import time\n",
    "import datetime\n",
    "conv_date = lambda x: time.mktime(datetime.datetime.strptime(str(x), '%Y%m%d').timetuple())\n",
    "train['release_date'] = train['release_date'].apply(conv_date)\n",
    "test['release_date'] = test['release_date'].apply(conv_date)"
   ]
  },
  {
   "cell_type": "code",
<<<<<<< HEAD
   "execution_count": 24,
   "metadata": {
    "ExecuteTime": {
     "end_time": "2017-04-27T23:23:36.858984",
     "start_time": "2017-04-27T23:23:30.683001"
=======
   "execution_count": 77,
   "metadata": {
    "ExecuteTime": {
     "end_time": "2017-05-06T19:27:23.868038",
     "start_time": "2017-05-06T19:27:23.491185"
>>>>>>> 92b0d022dee0c8857217aed86aeb2545e17081a2
    },
    "collapsed": false,
    "run_control": {
     "frozen": false,
     "read_only": false
    }
   },
   "outputs": [],
   "source": [
    "train.drop(train.index[train['ts_listen'] > time.time()], axis = 0, inplace = True)\n",
    "train.drop(train.index[train['ts_listen'] < 1477500000], axis = 0, inplace = True)\n",
    "train.drop(train.index[train['release_date'] > time.time()], axis = 0, inplace = True)\n",
    "# train.drop(train.index[train['ts_listen'] < train['release_date']], axis = 0, inplace = True) 28827 valeurs dans le train, 32 dans le test, presques toutes avec genre_id == 0"
   ]
  },
  {
   "cell_type": "code",
<<<<<<< HEAD
   "execution_count": 25,
   "metadata": {
    "ExecuteTime": {
     "end_time": "2017-04-27T23:23:41.008671",
     "start_time": "2017-04-27T23:23:41.006402"
=======
   "execution_count": 78,
   "metadata": {
    "ExecuteTime": {
     "end_time": "2017-05-06T19:27:23.871508",
     "start_time": "2017-05-06T19:27:23.869426"
>>>>>>> 92b0d022dee0c8857217aed86aeb2545e17081a2
    },
    "collapsed": false,
    "run_control": {
     "frozen": false,
     "read_only": false
    }
   },
   "outputs": [],
   "source": [
    "# not so bad anyways... - and none in the test\n",
    "# len(train[train['ts_listen'] < 1230764491]) (= 631)"
   ]
  },
  {
   "cell_type": "markdown",
   "metadata": {
    "collapsed": true,
    "run_control": {
     "frozen": false,
     "read_only": false
    }
   },
   "source": [
    "### Combined contains the common columns to the test and train set, in order to apply the same transformations on all the data"
   ]
  },
  {
   "cell_type": "code",
<<<<<<< HEAD
   "execution_count": 26,
   "metadata": {
    "ExecuteTime": {
     "end_time": "2017-04-27T23:23:49.827111",
     "start_time": "2017-04-27T23:23:44.888247"
=======
   "execution_count": 79,
   "metadata": {
    "ExecuteTime": {
     "end_time": "2017-05-06T19:27:24.144036",
     "start_time": "2017-05-06T19:27:23.872624"
>>>>>>> 92b0d022dee0c8857217aed86aeb2545e17081a2
    },
    "collapsed": false,
    "init_cell": true,
    "run_control": {
     "frozen": false,
     "read_only": false
    }
   },
   "outputs": [],
   "source": [
    "target = train['is_listened']\n",
    "train.drop('is_listened', axis = 1, inplace = True)\n",
    "combined = train.append(test)\n",
    "combined.reset_index(inplace=True)\n",
    "combined.drop('index', axis = 1, inplace = True)\n",
    "train['is_listened'] = target"
   ]
  },
  {
   "cell_type": "code",
<<<<<<< HEAD
   "execution_count": 27,
   "metadata": {
    "ExecuteTime": {
     "end_time": "2017-04-27T23:24:39.830351",
     "start_time": "2017-04-27T23:24:39.815644"
=======
   "execution_count": 80,
   "metadata": {
    "ExecuteTime": {
     "end_time": "2017-05-06T19:27:24.158593",
     "start_time": "2017-05-06T19:27:24.145454"
>>>>>>> 92b0d022dee0c8857217aed86aeb2545e17081a2
    },
    "collapsed": false,
    "init_cell": true,
    "run_control": {
     "frozen": false,
     "read_only": false
    }
   },
   "outputs": [
    {
     "data": {
      "text/html": [
       "<div>\n",
       "<table border=\"1\" class=\"dataframe\">\n",
       "  <thead>\n",
       "    <tr style=\"text-align: right;\">\n",
       "      <th></th>\n",
       "      <th>genre_id</th>\n",
       "      <th>ts_listen</th>\n",
       "      <th>media_id</th>\n",
       "      <th>album_id</th>\n",
       "      <th>context_type</th>\n",
       "      <th>release_date</th>\n",
       "      <th>platform_name</th>\n",
       "      <th>platform_family</th>\n",
       "      <th>media_duration</th>\n",
       "      <th>listen_type</th>\n",
       "      <th>user_gender</th>\n",
       "      <th>user_id</th>\n",
       "      <th>artist_id</th>\n",
       "      <th>user_age</th>\n",
       "    </tr>\n",
       "  </thead>\n",
       "  <tbody>\n",
       "    <tr>\n",
       "      <th>0</th>\n",
       "      <td>25471</td>\n",
       "      <td>1480597215</td>\n",
       "      <td>222606</td>\n",
       "      <td>41774</td>\n",
       "      <td>12</td>\n",
       "      <td>1.088892e+09</td>\n",
       "      <td>1</td>\n",
       "      <td>0</td>\n",
       "      <td>223</td>\n",
       "      <td>0</td>\n",
       "      <td>0</td>\n",
       "      <td>9241</td>\n",
       "      <td>55164</td>\n",
       "      <td>29</td>\n",
       "    </tr>\n",
       "    <tr>\n",
       "      <th>1</th>\n",
       "      <td>25571</td>\n",
       "      <td>1480544735</td>\n",
       "      <td>250467</td>\n",
       "      <td>43941</td>\n",
       "      <td>0</td>\n",
       "      <td>1.141168e+09</td>\n",
       "      <td>2</td>\n",
       "      <td>1</td>\n",
       "      <td>171</td>\n",
       "      <td>0</td>\n",
       "      <td>0</td>\n",
       "      <td>16547</td>\n",
       "      <td>55830</td>\n",
       "      <td>30</td>\n",
       "    </tr>\n",
       "    <tr>\n",
       "      <th>2</th>\n",
       "      <td>16</td>\n",
       "      <td>1479563953</td>\n",
       "      <td>305197</td>\n",
       "      <td>48078</td>\n",
       "      <td>1</td>\n",
       "      <td>1.405289e+09</td>\n",
       "      <td>2</td>\n",
       "      <td>1</td>\n",
       "      <td>149</td>\n",
       "      <td>1</td>\n",
       "      <td>1</td>\n",
       "      <td>7665</td>\n",
       "      <td>2704</td>\n",
       "      <td>29</td>\n",
       "    </tr>\n",
       "    <tr>\n",
       "      <th>3</th>\n",
       "      <td>7</td>\n",
       "      <td>1480152098</td>\n",
       "      <td>900502</td>\n",
       "      <td>71521</td>\n",
       "      <td>0</td>\n",
       "      <td>9.728604e+08</td>\n",
       "      <td>0</td>\n",
       "      <td>0</td>\n",
       "      <td>240</td>\n",
       "      <td>0</td>\n",
       "      <td>1</td>\n",
       "      <td>1580</td>\n",
       "      <td>938</td>\n",
       "      <td>30</td>\n",
       "    </tr>\n",
       "    <tr>\n",
       "      <th>4</th>\n",
       "      <td>7</td>\n",
       "      <td>1478368974</td>\n",
       "      <td>542335</td>\n",
       "      <td>71718</td>\n",
       "      <td>0</td>\n",
       "      <td>1.203030e+09</td>\n",
       "      <td>0</td>\n",
       "      <td>0</td>\n",
       "      <td>150</td>\n",
       "      <td>0</td>\n",
       "      <td>1</td>\n",
       "      <td>1812</td>\n",
       "      <td>2939</td>\n",
       "      <td>24</td>\n",
       "    </tr>\n",
       "  </tbody>\n",
       "</table>\n",
       "</div>"
      ],
      "text/plain": [
       "   genre_id   ts_listen  media_id  album_id  context_type  release_date  \\\n",
       "0     25471  1480597215    222606     41774            12  1.088892e+09   \n",
       "1     25571  1480544735    250467     43941             0  1.141168e+09   \n",
       "2        16  1479563953    305197     48078             1  1.405289e+09   \n",
       "3         7  1480152098    900502     71521             0  9.728604e+08   \n",
       "4         7  1478368974    542335     71718             0  1.203030e+09   \n",
       "\n",
       "   platform_name  platform_family  media_duration  listen_type  user_gender  \\\n",
       "0              1                0             223            0            0   \n",
       "1              2                1             171            0            0   \n",
       "2              2                1             149            1            1   \n",
       "3              0                0             240            0            1   \n",
       "4              0                0             150            0            1   \n",
       "\n",
       "   user_id  artist_id  user_age  \n",
       "0     9241      55164        29  \n",
       "1    16547      55830        30  \n",
       "2     7665       2704        29  \n",
       "3     1580        938        30  \n",
       "4     1812       2939        24  "
      ]
     },
<<<<<<< HEAD
     "execution_count": 27,
=======
     "execution_count": 80,
>>>>>>> 92b0d022dee0c8857217aed86aeb2545e17081a2
     "metadata": {},
     "output_type": "execute_result"
    }
   ],
   "source": [
    "combined.head()"
   ]
  },
  {
   "cell_type": "code",
<<<<<<< HEAD
   "execution_count": 28,
   "metadata": {
    "ExecuteTime": {
     "end_time": "2017-04-27T23:24:42.126919",
     "start_time": "2017-04-27T23:24:42.123637"
=======
   "execution_count": 81,
   "metadata": {
    "ExecuteTime": {
     "end_time": "2017-05-06T19:27:24.246829",
     "start_time": "2017-05-06T19:27:24.159619"
>>>>>>> 92b0d022dee0c8857217aed86aeb2545e17081a2
    },
    "collapsed": false,
    "init_cell": true,
    "run_control": {
     "frozen": false,
     "read_only": false
    }
   },
   "outputs": [],
   "source": [
    "# Took the data from \"input.csv\"\n",
    "\n",
    "# How to process it?\n",
    "\n",
    "# Genre_id, media_id, album_id, user_id, artist_id -> aggregate (e.g. count)\n",
    "# Ts_listen, release_date: date under 2 different formats -> put to same format\n",
    "# Context_type -> one-hot-encode\n",
    "# Platform_name, platform_family -> one-hot encode? Aggregate?\n",
    "# Media_duration -> this one seems simple, keep as is\n",
    "# Listen_type -> probably keep as is, but not sure\n",
    "# User_gender -> keep as is (sexism!)\n",
    "# User_age -> keep as is\n",
    "\n",
    "# Other ideas: compute mean length for an album, an artist, a genre, mean of is_listened for each user, each artist, etc using the date \n",
    "# Using the date, we can compute the number of songs he listened in a row\n",
    "\n",
    "# I think the key here is correctly using the information about artist, etc...\n"
   ]
  },
  {
   "cell_type": "markdown",
   "metadata": {
    "run_control": {
     "frozen": false,
     "read_only": false
    }
   },
   "source": [
    "<h1> II. Feature Preparation </h1>"
   ]
  },
  {
   "cell_type": "code",
<<<<<<< HEAD
   "execution_count": 29,
   "metadata": {
    "ExecuteTime": {
     "end_time": "2017-04-27T23:24:46.950817",
     "start_time": "2017-04-27T23:24:46.947376"
=======
   "execution_count": 82,
   "metadata": {
    "ExecuteTime": {
     "end_time": "2017-05-06T19:27:24.318369",
     "start_time": "2017-05-06T19:27:24.248279"
>>>>>>> 92b0d022dee0c8857217aed86aeb2545e17081a2
    },
    "collapsed": false,
    "init_cell": true,
    "run_control": {
     "frozen": false,
     "read_only": false
    }
   },
   "outputs": [],
   "source": [
    "# def medianNan(s):\n",
    "#     global combined\n",
    "#     combined[s].fillna(np.median(combined[~np.isnan(combined[s])][s]), inplace=True)"
   ]
  },
  {
   "cell_type": "markdown",
   "metadata": {
    "collapsed": true,
    "run_control": {
     "frozen": false,
     "read_only": false
    }
   },
   "source": [
    "### Filling NaN values with the median of the column"
   ]
  },
  {
   "cell_type": "code",
<<<<<<< HEAD
   "execution_count": 30,
   "metadata": {
    "ExecuteTime": {
     "end_time": "2017-04-27T23:24:47.986727",
     "start_time": "2017-04-27T23:24:47.982606"
=======
   "execution_count": 83,
   "metadata": {
    "ExecuteTime": {
     "end_time": "2017-05-06T19:27:24.485011",
     "start_time": "2017-05-06T19:27:24.319863"
>>>>>>> 92b0d022dee0c8857217aed86aeb2545e17081a2
    },
    "collapsed": false,
    "init_cell": true,
    "run_control": {
     "frozen": false,
     "read_only": false
    }
   },
   "outputs": [],
   "source": [
    "# for s in combined.columns[1:]:\n",
    "# #     print(s,type(combined[s][0]))\n",
    "#     medianNan(s)"
   ]
  },
  {
   "cell_type": "markdown",
   "metadata": {
    "run_control": {
     "frozen": false,
     "read_only": false
    }
   },
   "source": [
    "### Dealing with categoricals"
   ]
  },
  {
   "cell_type": "code",
<<<<<<< HEAD
   "execution_count": 31,
   "metadata": {
    "ExecuteTime": {
     "end_time": "2017-04-27T23:24:51.201602",
     "start_time": "2017-04-27T23:24:51.198641"
=======
   "execution_count": 84,
   "metadata": {
    "ExecuteTime": {
     "end_time": "2017-05-06T19:27:24.563163",
     "start_time": "2017-05-06T19:27:24.486439"
>>>>>>> 92b0d022dee0c8857217aed86aeb2545e17081a2
    },
    "collapsed": false,
    "init_cell": true,
    "run_control": {
     "frozen": false,
     "read_only": false
    }
   },
   "outputs": [],
   "source": [
    "categorical = ['platform_name', 'platform_family'] ## 'context_type' TOO BIG! (MemoryError)"
   ]
  },
  {
   "cell_type": "code",
<<<<<<< HEAD
   "execution_count": 32,
   "metadata": {
    "ExecuteTime": {
     "end_time": "2017-04-27T23:24:52.110467",
     "start_time": "2017-04-27T23:24:52.030109"
=======
   "execution_count": 85,
   "metadata": {
    "ExecuteTime": {
     "end_time": "2017-05-06T19:27:24.651681",
     "start_time": "2017-05-06T19:27:24.564545"
>>>>>>> 92b0d022dee0c8857217aed86aeb2545e17081a2
    },
    "collapsed": false,
    "init_cell": true,
    "run_control": {
     "frozen": false,
     "read_only": false
    }
   },
   "outputs": [],
   "source": [
    "def dummify(variable):\n",
    "    global combined\n",
    "    local_dummies = pd.get_dummies(combined[variable],prefix=variable)\n",
    "    combined = pd.concat([combined,local_dummies],axis=1)\n",
    "    combined.drop(variable,axis=1,inplace=True)"
   ]
  },
  {
   "cell_type": "code",
<<<<<<< HEAD
   "execution_count": 33,
   "metadata": {
    "ExecuteTime": {
     "end_time": "2017-04-27T23:24:57.016350",
     "start_time": "2017-04-27T23:24:52.739523"
=======
   "execution_count": 86,
   "metadata": {
    "ExecuteTime": {
     "end_time": "2017-05-06T19:27:25.150305",
     "start_time": "2017-05-06T19:27:24.653519"
>>>>>>> 92b0d022dee0c8857217aed86aeb2545e17081a2
    },
    "collapsed": false,
    "init_cell": true,
    "run_control": {
     "frozen": false,
     "read_only": false
    }
   },
   "outputs": [],
   "source": [
    "for s in categorical:\n",
    "    dummify(s)"
   ]
  },
  {
   "cell_type": "markdown",
   "metadata": {
    "run_control": {
     "frozen": false,
     "read_only": false
    }
   },
   "source": [
    "## DATA VISUALISATION"
   ]
  },
  {
   "cell_type": "markdown",
   "metadata": {
    "run_control": {
     "frozen": false,
     "read_only": false
    }
   },
   "source": [
    "### Same user ID's in test and train"
   ]
  },
  {
   "cell_type": "code",
<<<<<<< HEAD
   "execution_count": 34,
   "metadata": {
    "ExecuteTime": {
     "end_time": "2017-04-27T23:25:03.134510",
     "start_time": "2017-04-27T23:25:03.031673"
=======
   "execution_count": 87,
   "metadata": {
    "ExecuteTime": {
     "end_time": "2017-05-06T19:27:25.175859",
     "start_time": "2017-05-06T19:27:25.151623"
>>>>>>> 92b0d022dee0c8857217aed86aeb2545e17081a2
    },
    "collapsed": false,
    "run_control": {
     "frozen": false,
     "read_only": false
    }
   },
   "outputs": [
    {
     "data": {
      "text/plain": [
       "False"
      ]
     },
<<<<<<< HEAD
     "execution_count": 34,
=======
     "execution_count": 87,
>>>>>>> 92b0d022dee0c8857217aed86aeb2545e17081a2
     "metadata": {},
     "output_type": "execute_result"
    }
   ],
   "source": [
    "sorted(train['user_id'].unique()) == sorted(test['user_id'].unique())"
   ]
  },
  {
   "cell_type": "markdown",
   "metadata": {
    "run_control": {
     "frozen": false,
     "read_only": false
    }
   },
   "source": [
    "### listen_type == 1 in test set (apart from one value)"
   ]
  },
  {
   "cell_type": "code",
<<<<<<< HEAD
   "execution_count": 35,
   "metadata": {
    "ExecuteTime": {
     "end_time": "2017-04-27T23:25:04.071535",
     "start_time": "2017-04-27T23:25:04.066681"
=======
   "execution_count": 88,
   "metadata": {
    "ExecuteTime": {
     "end_time": "2017-05-06T19:27:25.212420",
     "start_time": "2017-05-06T19:27:25.176928"
>>>>>>> 92b0d022dee0c8857217aed86aeb2545e17081a2
    },
    "collapsed": false,
    "run_control": {
     "frozen": false,
     "read_only": false
    }
   },
   "outputs": [
    {
     "data": {
      "text/plain": [
       "1"
      ]
     },
<<<<<<< HEAD
     "execution_count": 35,
=======
     "execution_count": 88,
>>>>>>> 92b0d022dee0c8857217aed86aeb2545e17081a2
     "metadata": {},
     "output_type": "execute_result"
    }
   ],
   "source": [
    "sorted(test['listen_type'])[1]"
   ]
  },
  {
   "cell_type": "markdown",
   "metadata": {
    "run_control": {
     "frozen": false,
     "read_only": false
    }
   },
   "source": [
    "<h1> III. Feature Engineering </h1>"
   ]
  },
  {
   "cell_type": "markdown",
   "metadata": {
    "run_control": {
     "frozen": false,
     "read_only": false
    }
   },
   "source": [
    "## Genre_id, media_id, album_id, user_id, artist_id -> aggregate (e.g. count)"
   ]
  },
  {
   "cell_type": "code",
<<<<<<< HEAD
   "execution_count": 36,
   "metadata": {
    "ExecuteTime": {
     "end_time": "2017-04-27T23:25:08.103791",
     "start_time": "2017-04-27T23:25:08.085689"
=======
   "execution_count": 89,
   "metadata": {
    "ExecuteTime": {
     "end_time": "2017-05-06T19:27:25.260608",
     "start_time": "2017-05-06T19:27:25.213630"
>>>>>>> 92b0d022dee0c8857217aed86aeb2545e17081a2
    },
    "collapsed": false,
    "run_control": {
     "frozen": false,
     "read_only": false
    }
   },
   "outputs": [],
   "source": [
    "def aggregation_functions(name):\n",
    "    \n",
    "    global combined\n",
    "    global train\n",
    "    \n",
    "    avrg = train.groupby([name + '_id'])['is_listened'].mean()\n",
    "    avrg_flow = train[train['listen_type'] == 1].groupby([name + '_id'])['is_listened'].mean()\n",
    "    avrg_noflow = train[train['listen_type'] == 0].groupby([name + '_id'])['is_listened'].mean()\n",
    "\n",
    "    avrg.name = 'avrg_listened_' + name\n",
    "    avrg_flow.name = 'avrg_listened_' + name + '_flow'\n",
    "    avrg_noflow.name = 'avrg_listened_' + name + '_noflow'\n",
    "\n",
    "    combined = combined.join(avrg, name + '_id', 'left')\n",
    "    combined = combined.join(avrg_flow, name + '_id', 'left')\n",
    "    combined = combined.join(avrg_noflow, name + '_id', 'left')\n",
    "\n",
    "    combined['avrg_listened_' + name].fillna(np.median(combined[~np.isnan(combined['avrg_listened_' + name])]['avrg_listened_' + name]), inplace=True)\n",
    "    \n",
    "    combined['avrg_listened_' + name + '_flow'].fillna(combined['avrg_listened_' + name], inplace=True)\n",
    "    combined['avrg_listened_' + name + '_noflow'].fillna(combined['avrg_listened_' + name], inplace=True)\n",
    "\n",
    "    combined['avrg_listened_' + name + '_current'] = combined['avrg_listened_' + name + '_flow']*combined['listen_type'] + combined['avrg_listened_' + name + '_noflow']*(1-combined['listen_type'])\n",
    "\n",
    "    count_ = combined.groupby([name + '_id'])[name + '_id'].count()\n",
    "    count_.name = 'count_' + name\n",
    "    combined = combined.join(count_, name + '_id', 'left')"
   ]
  },
  {
   "cell_type": "markdown",
   "metadata": {
    "run_control": {
     "frozen": false,
     "read_only": false
    }
   },
   "source": [
    "### Mean of is_listened by ___ on flow or not"
   ]
  },
  {
   "cell_type": "code",
<<<<<<< HEAD
   "execution_count": 37,
   "metadata": {
    "ExecuteTime": {
     "end_time": "2017-04-27T23:26:14.615360",
     "start_time": "2017-04-27T23:25:10.956802"
=======
   "execution_count": 90,
   "metadata": {
    "ExecuteTime": {
     "end_time": "2017-05-06T19:27:30.859034",
     "start_time": "2017-05-06T19:27:25.262289"
>>>>>>> 92b0d022dee0c8857217aed86aeb2545e17081a2
    },
    "collapsed": false,
    "run_control": {
     "frozen": false,
     "read_only": false
    }
   },
   "outputs": [],
   "source": [
    "aggregation_functions('user')\n",
    "aggregation_functions('artist')\n",
    "aggregation_functions('media')\n",
    "aggregation_functions('album')\n",
    "aggregation_functions('genre')"
   ]
  },
  {
   "cell_type": "markdown",
   "metadata": {
    "ExecuteTime": {
     "end_time": "2017-04-17T22:34:25.619502",
     "start_time": "2017-04-17T22:32:57.290189"
    },
    "collapsed": false,
    "run_control": {
     "frozen": false,
     "read_only": false
    }
   },
   "source": [
    "### Compute age of song at the moment of listening (still some weird things on very few points...)"
   ]
  },
  {
   "cell_type": "code",
<<<<<<< HEAD
   "execution_count": 38,
   "metadata": {
    "ExecuteTime": {
     "end_time": "2017-04-27T23:28:33.460243",
     "start_time": "2017-04-27T23:28:33.421008"
=======
   "execution_count": 91,
   "metadata": {
    "ExecuteTime": {
     "end_time": "2017-05-06T19:27:30.869957",
     "start_time": "2017-05-06T19:27:30.860500"
>>>>>>> 92b0d022dee0c8857217aed86aeb2545e17081a2
    },
    "collapsed": false,
    "run_control": {
     "frozen": false,
     "read_only": false
    }
   },
   "outputs": [],
   "source": [
    "combined['age_song'] = combined['ts_listen'] - combined['release_date']"
   ]
  },
  {
   "cell_type": "code",
<<<<<<< HEAD
   "execution_count": 39,
   "metadata": {
    "ExecuteTime": {
     "end_time": "2017-04-27T23:28:34.865878",
     "start_time": "2017-04-27T23:28:34.791420"
=======
   "execution_count": 92,
   "metadata": {
    "ExecuteTime": {
     "end_time": "2017-05-06T19:27:30.967625",
     "start_time": "2017-05-06T19:27:30.870982"
>>>>>>> 92b0d022dee0c8857217aed86aeb2545e17081a2
    },
    "collapsed": false,
    "run_control": {
     "frozen": false,
     "read_only": false
    }
   },
   "outputs": [
    {
     "data": {
      "text/html": [
       "<div>\n",
       "<table border=\"1\" class=\"dataframe\">\n",
       "  <thead>\n",
       "    <tr style=\"text-align: right;\">\n",
       "      <th></th>\n",
       "      <th>genre_id</th>\n",
       "      <th>ts_listen</th>\n",
       "      <th>media_id</th>\n",
       "      <th>album_id</th>\n",
       "      <th>context_type</th>\n",
       "      <th>release_date</th>\n",
       "      <th>media_duration</th>\n",
       "      <th>listen_type</th>\n",
       "      <th>user_gender</th>\n",
       "      <th>user_id</th>\n",
       "      <th>artist_id</th>\n",
       "      <th>user_age</th>\n",
       "      <th>platform_name_0</th>\n",
       "      <th>platform_name_1</th>\n",
       "      <th>platform_name_2</th>\n",
       "      <th>platform_family_0</th>\n",
       "      <th>platform_family_1</th>\n",
       "      <th>platform_family_2</th>\n",
       "      <th>avrg_listened_user</th>\n",
       "      <th>avrg_listened_user_flow</th>\n",
       "      <th>avrg_listened_user_noflow</th>\n",
       "      <th>avrg_listened_user_current</th>\n",
       "      <th>count_user</th>\n",
       "      <th>avrg_listened_artist</th>\n",
       "      <th>avrg_listened_artist_flow</th>\n",
       "      <th>avrg_listened_artist_noflow</th>\n",
       "      <th>avrg_listened_artist_current</th>\n",
       "      <th>count_artist</th>\n",
       "      <th>avrg_listened_media</th>\n",
       "      <th>avrg_listened_media_flow</th>\n",
       "      <th>avrg_listened_media_noflow</th>\n",
       "      <th>avrg_listened_media_current</th>\n",
       "      <th>count_media</th>\n",
       "      <th>avrg_listened_album</th>\n",
       "      <th>avrg_listened_album_flow</th>\n",
       "      <th>avrg_listened_album_noflow</th>\n",
       "      <th>avrg_listened_album_current</th>\n",
       "      <th>count_album</th>\n",
       "      <th>avrg_listened_genre</th>\n",
       "      <th>avrg_listened_genre_flow</th>\n",
       "      <th>avrg_listened_genre_noflow</th>\n",
       "      <th>avrg_listened_genre_current</th>\n",
       "      <th>count_genre</th>\n",
       "      <th>age_song</th>\n",
       "    </tr>\n",
       "  </thead>\n",
       "  <tbody>\n",
       "    <tr>\n",
       "      <th>0</th>\n",
       "      <td>25471</td>\n",
       "      <td>1480597215</td>\n",
       "      <td>222606</td>\n",
       "      <td>41774</td>\n",
       "      <td>12</td>\n",
       "      <td>1.088892e+09</td>\n",
       "      <td>223</td>\n",
       "      <td>0</td>\n",
       "      <td>0</td>\n",
       "      <td>9241</td>\n",
       "      <td>55164</td>\n",
       "      <td>29</td>\n",
<<<<<<< HEAD
       "      <td>0</td>\n",
       "      <td>1</td>\n",
       "      <td>0</td>\n",
       "      <td>1</td>\n",
       "      <td>0</td>\n",
       "      <td>0</td>\n",
       "      <td>0.676991</td>\n",
       "      <td>0.654762</td>\n",
       "      <td>0.690141</td>\n",
       "      <td>0.690141</td>\n",
       "      <td>227</td>\n",
=======
       "      <td>0.0</td>\n",
       "      <td>1.0</td>\n",
       "      <td>0.0</td>\n",
       "      <td>1.0</td>\n",
       "      <td>0.0</td>\n",
       "      <td>0.0</td>\n",
       "      <td>0.476190</td>\n",
       "      <td>0.750</td>\n",
       "      <td>0.307692</td>\n",
       "      <td>0.307692</td>\n",
       "      <td>22</td>\n",
>>>>>>> 92b0d022dee0c8857217aed86aeb2545e17081a2
       "      <td>0.000000</td>\n",
       "      <td>0.000000</td>\n",
       "      <td>0.000000</td>\n",
       "      <td>0.000000</td>\n",
       "      <td>1</td>\n",
       "      <td>0.000000</td>\n",
       "      <td>0.000000</td>\n",
       "      <td>0.0000</td>\n",
       "      <td>0.0000</td>\n",
       "      <td>1</td>\n",
       "      <td>0.000000</td>\n",
       "      <td>0.0</td>\n",
       "      <td>0.000000</td>\n",
       "      <td>0.000000</td>\n",
       "      <td>1</td>\n",
       "      <td>0.711538</td>\n",
       "      <td>0.596730</td>\n",
       "      <td>0.774146</td>\n",
       "      <td>0.774146</td>\n",
       "      <td>1085</td>\n",
       "      <td>391705215.0</td>\n",
       "    </tr>\n",
       "    <tr>\n",
       "      <th>1</th>\n",
       "      <td>25571</td>\n",
       "      <td>1480544735</td>\n",
       "      <td>250467</td>\n",
       "      <td>43941</td>\n",
       "      <td>0</td>\n",
       "      <td>1.141168e+09</td>\n",
       "      <td>171</td>\n",
       "      <td>0</td>\n",
       "      <td>0</td>\n",
       "      <td>16547</td>\n",
       "      <td>55830</td>\n",
       "      <td>30</td>\n",
<<<<<<< HEAD
       "      <td>0</td>\n",
       "      <td>0</td>\n",
       "      <td>1</td>\n",
       "      <td>0</td>\n",
       "      <td>1</td>\n",
       "      <td>0</td>\n",
       "      <td>0.575000</td>\n",
       "      <td>0.000000</td>\n",
       "      <td>0.589744</td>\n",
       "      <td>0.589744</td>\n",
       "      <td>41</td>\n",
       "      <td>0.379310</td>\n",
       "      <td>0.714286</td>\n",
       "      <td>0.272727</td>\n",
       "      <td>0.272727</td>\n",
       "      <td>30</td>\n",
=======
       "      <td>0.0</td>\n",
       "      <td>0.0</td>\n",
       "      <td>1.0</td>\n",
       "      <td>0.0</td>\n",
       "      <td>1.0</td>\n",
       "      <td>0.0</td>\n",
       "      <td>1.000000</td>\n",
       "      <td>1.000</td>\n",
       "      <td>1.000000</td>\n",
       "      <td>1.000000</td>\n",
       "      <td>3</td>\n",
       "      <td>1.000000</td>\n",
       "      <td>1.000000</td>\n",
       "      <td>1.000000</td>\n",
       "      <td>1.000000</td>\n",
       "      <td>3</td>\n",
>>>>>>> 92b0d022dee0c8857217aed86aeb2545e17081a2
       "      <td>1.000000</td>\n",
       "      <td>1.000000</td>\n",
       "      <td>1.0000</td>\n",
       "      <td>1.0000</td>\n",
       "      <td>1</td>\n",
       "      <td>1.000000</td>\n",
       "      <td>1.0</td>\n",
       "      <td>1.000000</td>\n",
       "      <td>1.000000</td>\n",
       "      <td>1</td>\n",
       "      <td>0.629526</td>\n",
       "      <td>0.616071</td>\n",
       "      <td>0.635628</td>\n",
       "      <td>0.635628</td>\n",
       "      <td>362</td>\n",
       "      <td>339377135.0</td>\n",
       "    </tr>\n",
       "    <tr>\n",
       "      <th>2</th>\n",
       "      <td>16</td>\n",
       "      <td>1479563953</td>\n",
       "      <td>305197</td>\n",
       "      <td>48078</td>\n",
       "      <td>1</td>\n",
       "      <td>1.405289e+09</td>\n",
       "      <td>149</td>\n",
       "      <td>1</td>\n",
       "      <td>1</td>\n",
       "      <td>7665</td>\n",
       "      <td>2704</td>\n",
       "      <td>29</td>\n",
<<<<<<< HEAD
       "      <td>0</td>\n",
       "      <td>0</td>\n",
       "      <td>1</td>\n",
       "      <td>0</td>\n",
       "      <td>1</td>\n",
       "      <td>0</td>\n",
       "      <td>0.986755</td>\n",
       "      <td>0.977273</td>\n",
       "      <td>0.990654</td>\n",
       "      <td>0.977273</td>\n",
       "      <td>303</td>\n",
       "      <td>0.781250</td>\n",
       "      <td>0.833333</td>\n",
       "      <td>0.775862</td>\n",
       "      <td>0.833333</td>\n",
       "      <td>128</td>\n",
=======
       "      <td>0.0</td>\n",
       "      <td>0.0</td>\n",
       "      <td>1.0</td>\n",
       "      <td>0.0</td>\n",
       "      <td>1.0</td>\n",
       "      <td>0.0</td>\n",
       "      <td>0.954545</td>\n",
       "      <td>1.000</td>\n",
       "      <td>0.933333</td>\n",
       "      <td>1.000000</td>\n",
       "      <td>23</td>\n",
       "      <td>0.444444</td>\n",
       "      <td>0.500000</td>\n",
       "      <td>0.428571</td>\n",
       "      <td>0.500000</td>\n",
       "      <td>9</td>\n",
>>>>>>> 92b0d022dee0c8857217aed86aeb2545e17081a2
       "      <td>1.000000</td>\n",
       "      <td>1.000000</td>\n",
       "      <td>1.0000</td>\n",
       "      <td>1.0000</td>\n",
       "      <td>1</td>\n",
       "      <td>1.000000</td>\n",
       "      <td>1.0</td>\n",
       "      <td>1.000000</td>\n",
       "      <td>1.000000</td>\n",
       "      <td>1</td>\n",
       "      <td>0.774917</td>\n",
       "      <td>0.641304</td>\n",
       "      <td>0.833732</td>\n",
       "      <td>0.641304</td>\n",
       "      <td>1212</td>\n",
       "      <td>74275153.0</td>\n",
       "    </tr>\n",
       "    <tr>\n",
       "      <th>3</th>\n",
       "      <td>7</td>\n",
       "      <td>1480152098</td>\n",
       "      <td>900502</td>\n",
       "      <td>71521</td>\n",
       "      <td>0</td>\n",
       "      <td>9.728604e+08</td>\n",
       "      <td>240</td>\n",
       "      <td>0</td>\n",
       "      <td>1</td>\n",
       "      <td>1580</td>\n",
       "      <td>938</td>\n",
       "      <td>30</td>\n",
<<<<<<< HEAD
       "      <td>1</td>\n",
       "      <td>0</td>\n",
       "      <td>0</td>\n",
       "      <td>1</td>\n",
       "      <td>0</td>\n",
       "      <td>0</td>\n",
       "      <td>0.586977</td>\n",
       "      <td>0.544218</td>\n",
       "      <td>0.603073</td>\n",
       "      <td>0.603073</td>\n",
       "      <td>1076</td>\n",
       "      <td>0.714563</td>\n",
       "      <td>0.666667</td>\n",
       "      <td>0.722919</td>\n",
       "      <td>0.722919</td>\n",
       "      <td>1031</td>\n",
=======
       "      <td>1.0</td>\n",
       "      <td>0.0</td>\n",
       "      <td>0.0</td>\n",
       "      <td>1.0</td>\n",
       "      <td>0.0</td>\n",
       "      <td>0.0</td>\n",
       "      <td>0.608696</td>\n",
       "      <td>0.475</td>\n",
       "      <td>0.663265</td>\n",
       "      <td>0.663265</td>\n",
       "      <td>139</td>\n",
       "      <td>0.484848</td>\n",
       "      <td>0.484848</td>\n",
       "      <td>0.484848</td>\n",
       "      <td>0.484848</td>\n",
       "      <td>34</td>\n",
>>>>>>> 92b0d022dee0c8857217aed86aeb2545e17081a2
       "      <td>0.000000</td>\n",
       "      <td>0.000000</td>\n",
       "      <td>0.0000</td>\n",
       "      <td>0.0000</td>\n",
       "      <td>1</td>\n",
       "      <td>0.000000</td>\n",
       "      <td>0.0</td>\n",
       "      <td>0.000000</td>\n",
       "      <td>0.000000</td>\n",
       "      <td>1</td>\n",
       "      <td>0.649713</td>\n",
       "      <td>0.583686</td>\n",
       "      <td>0.700462</td>\n",
       "      <td>0.700462</td>\n",
       "      <td>99915</td>\n",
       "      <td>507291698.0</td>\n",
       "    </tr>\n",
       "    <tr>\n",
       "      <th>4</th>\n",
       "      <td>7</td>\n",
       "      <td>1478368974</td>\n",
       "      <td>542335</td>\n",
       "      <td>71718</td>\n",
       "      <td>0</td>\n",
       "      <td>1.203030e+09</td>\n",
       "      <td>150</td>\n",
       "      <td>0</td>\n",
       "      <td>1</td>\n",
       "      <td>1812</td>\n",
       "      <td>2939</td>\n",
       "      <td>24</td>\n",
<<<<<<< HEAD
       "      <td>1</td>\n",
       "      <td>0</td>\n",
       "      <td>0</td>\n",
       "      <td>1</td>\n",
       "      <td>0</td>\n",
       "      <td>0</td>\n",
       "      <td>0.933868</td>\n",
       "      <td>0.937500</td>\n",
       "      <td>0.933002</td>\n",
       "      <td>0.933002</td>\n",
       "      <td>999</td>\n",
       "      <td>0.806763</td>\n",
       "      <td>0.750000</td>\n",
       "      <td>0.823899</td>\n",
       "      <td>0.823899</td>\n",
       "      <td>207</td>\n",
=======
       "      <td>1.0</td>\n",
       "      <td>0.0</td>\n",
       "      <td>0.0</td>\n",
       "      <td>1.0</td>\n",
       "      <td>0.0</td>\n",
       "      <td>0.0</td>\n",
       "      <td>0.942149</td>\n",
       "      <td>0.850</td>\n",
       "      <td>0.960396</td>\n",
       "      <td>0.960396</td>\n",
       "      <td>122</td>\n",
       "      <td>0.838710</td>\n",
       "      <td>0.800000</td>\n",
       "      <td>0.864865</td>\n",
       "      <td>0.864865</td>\n",
       "      <td>62</td>\n",
>>>>>>> 92b0d022dee0c8857217aed86aeb2545e17081a2
       "      <td>0.866667</td>\n",
       "      <td>0.785714</td>\n",
       "      <td>0.9375</td>\n",
       "      <td>0.9375</td>\n",
       "      <td>30</td>\n",
       "      <td>0.882353</td>\n",
       "      <td>0.8</td>\n",
       "      <td>0.947368</td>\n",
       "      <td>0.947368</td>\n",
       "      <td>34</td>\n",
       "      <td>0.649713</td>\n",
       "      <td>0.583686</td>\n",
       "      <td>0.700462</td>\n",
       "      <td>0.700462</td>\n",
       "      <td>99915</td>\n",
       "      <td>275338974.0</td>\n",
       "    </tr>\n",
       "  </tbody>\n",
       "</table>\n",
       "</div>"
      ],
      "text/plain": [
       "   genre_id   ts_listen  media_id  album_id  context_type  release_date  \\\n",
       "0     25471  1480597215    222606     41774            12  1.088892e+09   \n",
       "1     25571  1480544735    250467     43941             0  1.141168e+09   \n",
       "2        16  1479563953    305197     48078             1  1.405289e+09   \n",
       "3         7  1480152098    900502     71521             0  9.728604e+08   \n",
       "4         7  1478368974    542335     71718             0  1.203030e+09   \n",
       "\n",
       "   media_duration  listen_type  user_gender  user_id  artist_id  user_age  \\\n",
       "0             223            0            0     9241      55164        29   \n",
       "1             171            0            0    16547      55830        30   \n",
       "2             149            1            1     7665       2704        29   \n",
       "3             240            0            1     1580        938        30   \n",
       "4             150            0            1     1812       2939        24   \n",
       "\n",
       "   platform_name_0  platform_name_1  platform_name_2  platform_family_0  \\\n",
       "0                0                1                0                  1   \n",
       "1                0                0                1                  0   \n",
       "2                0                0                1                  0   \n",
       "3                1                0                0                  1   \n",
       "4                1                0                0                  1   \n",
       "\n",
       "   platform_family_1  platform_family_2  avrg_listened_user  \\\n",
<<<<<<< HEAD
       "0                  0                  0            0.676991   \n",
       "1                  1                  0            0.575000   \n",
       "2                  1                  0            0.986755   \n",
       "3                  0                  0            0.586977   \n",
       "4                  0                  0            0.933868   \n",
=======
       "0                0.0                0.0            0.476190   \n",
       "1                1.0                0.0            1.000000   \n",
       "2                1.0                0.0            0.954545   \n",
       "3                0.0                0.0            0.608696   \n",
       "4                0.0                0.0            0.942149   \n",
>>>>>>> 92b0d022dee0c8857217aed86aeb2545e17081a2
       "\n",
       "   avrg_listened_user_flow  avrg_listened_user_noflow  \\\n",
       "0                    0.750                   0.307692   \n",
       "1                    1.000                   1.000000   \n",
       "2                    1.000                   0.933333   \n",
       "3                    0.475                   0.663265   \n",
       "4                    0.850                   0.960396   \n",
       "\n",
       "   avrg_listened_user_current  count_user  avrg_listened_artist  \\\n",
       "0                    0.307692          22              0.000000   \n",
       "1                    1.000000           3              1.000000   \n",
       "2                    1.000000          23              0.444444   \n",
       "3                    0.663265         139              0.484848   \n",
       "4                    0.960396         122              0.838710   \n",
       "\n",
       "   avrg_listened_artist_flow  avrg_listened_artist_noflow  \\\n",
       "0                   0.000000                     0.000000   \n",
       "1                   1.000000                     1.000000   \n",
       "2                   0.500000                     0.428571   \n",
       "3                   0.484848                     0.484848   \n",
       "4                   0.800000                     0.864865   \n",
       "\n",
       "   avrg_listened_artist_current  count_artist  avrg_listened_media  \\\n",
       "0                      0.000000             1             0.000000   \n",
       "1                      1.000000             3             1.000000   \n",
       "2                      0.500000             9             1.000000   \n",
       "3                      0.484848            34             0.000000   \n",
       "4                      0.864865            62             0.866667   \n",
       "\n",
       "   avrg_listened_media_flow  avrg_listened_media_noflow  \\\n",
       "0                  0.000000                      0.0000   \n",
       "1                  1.000000                      1.0000   \n",
       "2                  1.000000                      1.0000   \n",
       "3                  0.000000                      0.0000   \n",
       "4                  0.785714                      0.9375   \n",
       "\n",
       "   avrg_listened_media_current  count_media  avrg_listened_album  \\\n",
       "0                       0.0000            1             0.000000   \n",
       "1                       1.0000            1             1.000000   \n",
       "2                       1.0000            1             1.000000   \n",
       "3                       0.0000            1             0.000000   \n",
       "4                       0.9375           30             0.882353   \n",
       "\n",
       "   avrg_listened_album_flow  avrg_listened_album_noflow  \\\n",
       "0                       0.0                    0.000000   \n",
       "1                       1.0                    1.000000   \n",
       "2                       1.0                    1.000000   \n",
       "3                       0.0                    0.000000   \n",
       "4                       0.8                    0.947368   \n",
       "\n",
       "   avrg_listened_album_current  count_album  avrg_listened_genre  \\\n",
       "0                     0.000000            1             0.711538   \n",
       "1                     1.000000            1             0.629526   \n",
       "2                     1.000000            1             0.774917   \n",
       "3                     0.000000            1             0.649713   \n",
       "4                     0.947368           34             0.649713   \n",
       "\n",
       "   avrg_listened_genre_flow  avrg_listened_genre_noflow  \\\n",
       "0                  0.596730                    0.774146   \n",
       "1                  0.616071                    0.635628   \n",
       "2                  0.641304                    0.833732   \n",
       "3                  0.583686                    0.700462   \n",
       "4                  0.583686                    0.700462   \n",
       "\n",
       "   avrg_listened_genre_current  count_genre     age_song  \n",
       "0                     0.774146         1085  391705215.0  \n",
       "1                     0.635628          362  339377135.0  \n",
       "2                     0.641304         1212   74275153.0  \n",
       "3                     0.700462        99915  507291698.0  \n",
       "4                     0.700462        99915  275338974.0  "
      ]
     },
<<<<<<< HEAD
     "execution_count": 39,
=======
     "execution_count": 92,
>>>>>>> 92b0d022dee0c8857217aed86aeb2545e17081a2
     "metadata": {},
     "output_type": "execute_result"
    }
   ],
   "source": [
    "combined.head()"
   ]
  },
  {
   "cell_type": "markdown",
   "metadata": {
    "run_control": {
     "frozen": false,
     "read_only": false
    }
   },
   "source": [
    "## Other ideas: compute mean length for an album, an artist, a genre, mean of is_listened for each user, each artist, etc using the date "
   ]
  },
  {
   "cell_type": "markdown",
   "metadata": {
    "run_control": {
     "frozen": false,
     "read_only": false
    }
   },
   "source": [
    "### Time since previous song (what to do with the first value?)"
   ]
  },
  {
   "cell_type": "code",
<<<<<<< HEAD
   "execution_count": 40,
   "metadata": {
    "ExecuteTime": {
     "end_time": "2017-04-27T23:28:51.074672",
     "start_time": "2017-04-27T23:28:40.996234"
=======
   "execution_count": 93,
   "metadata": {
    "ExecuteTime": {
     "end_time": "2017-05-06T19:27:31.759019",
     "start_time": "2017-05-06T19:27:30.968687"
>>>>>>> 92b0d022dee0c8857217aed86aeb2545e17081a2
    },
    "collapsed": false,
    "run_control": {
     "frozen": false,
     "read_only": false
    }
   },
   "outputs": [],
   "source": [
    "combined_sorted = combined[['ts_listen', 'user_id']].sort_values(['user_id', 'ts_listen'])"
   ]
  },
  {
   "cell_type": "code",
<<<<<<< HEAD
   "execution_count": 41,
   "metadata": {
    "ExecuteTime": {
     "end_time": "2017-04-27T23:28:53.677269",
     "start_time": "2017-04-27T23:28:53.332060"
=======
   "execution_count": 94,
   "metadata": {
    "ExecuteTime": {
     "end_time": "2017-05-06T19:27:31.763038",
     "start_time": "2017-05-06T19:27:31.760771"
>>>>>>> 92b0d022dee0c8857217aed86aeb2545e17081a2
    },
    "collapsed": false,
    "run_control": {
     "frozen": false,
     "read_only": false
    }
   },
   "outputs": [],
   "source": [
    "# ttnxt = -(combined_sorted - combined_sorted.shift(-1))\n",
    "# ttnxt['ts_listen'].ix[ttnxt['user_id'] != 0] = np.nan\n",
    "# ttnxt['ts_listen'].fillna(int(np.max(ttnxt[~np.isnan(ttnxt['ts_listen'])]['ts_listen'])), inplace=True)"
   ]
  },
  {
   "cell_type": "code",
<<<<<<< HEAD
   "execution_count": 42,
   "metadata": {
    "ExecuteTime": {
     "end_time": "2017-04-27T23:32:16.017161",
     "start_time": "2017-04-27T23:32:15.708889"
=======
   "execution_count": 95,
   "metadata": {
    "ExecuteTime": {
     "end_time": "2017-05-06T19:27:31.881425",
     "start_time": "2017-05-06T19:27:31.764227"
>>>>>>> 92b0d022dee0c8857217aed86aeb2545e17081a2
    },
    "collapsed": false,
    "run_control": {
     "frozen": false,
     "read_only": false
    }
   },
   "outputs": [],
   "source": [
    "ttprv = combined_sorted - combined_sorted.shift(1)\n",
    "ttprv['ts_listen'].ix[ttprv['user_id'] != 0] = np.nan\n",
    "ttprv['ts_listen'].fillna(int(np.max(ttprv[~np.isnan(ttprv['ts_listen'])]['ts_listen'])), inplace=True)"
   ]
  },
  {
   "cell_type": "code",
<<<<<<< HEAD
   "execution_count": 43,
   "metadata": {
    "ExecuteTime": {
     "end_time": "2017-04-27T23:32:16.939463",
     "start_time": "2017-04-27T23:32:16.912523"
=======
   "execution_count": 96,
   "metadata": {
    "ExecuteTime": {
     "end_time": "2017-05-06T19:27:31.887434",
     "start_time": "2017-05-06T19:27:31.882915"
>>>>>>> 92b0d022dee0c8857217aed86aeb2545e17081a2
    },
    "collapsed": false,
    "run_control": {
     "frozen": false,
     "read_only": false
    }
   },
   "outputs": [],
   "source": [
    "combined_sorted['time_to_prev'] = ttprv['ts_listen']\n",
    "# combined_sorted['time_to_next'] = ttnxt['ts_listen']"
   ]
  },
  {
   "cell_type": "code",
<<<<<<< HEAD
   "execution_count": 44,
   "metadata": {
    "ExecuteTime": {
     "end_time": "2017-04-27T23:32:18.473845",
     "start_time": "2017-04-27T23:32:18.465424"
=======
   "execution_count": 97,
   "metadata": {
    "ExecuteTime": {
     "end_time": "2017-05-06T19:27:31.998382",
     "start_time": "2017-05-06T19:27:31.888603"
>>>>>>> 92b0d022dee0c8857217aed86aeb2545e17081a2
    },
    "collapsed": false,
    "run_control": {
     "frozen": false,
     "read_only": false
    },
    "scrolled": true
   },
   "outputs": [
    {
     "data": {
      "text/html": [
       "<div>\n",
       "<table border=\"1\" class=\"dataframe\">\n",
       "  <thead>\n",
       "    <tr style=\"text-align: right;\">\n",
       "      <th></th>\n",
       "      <th>ts_listen</th>\n",
       "      <th>user_id</th>\n",
       "      <th>time_to_prev</th>\n",
       "    </tr>\n",
       "  </thead>\n",
       "  <tbody>\n",
       "    <tr>\n",
       "      <th>681200</th>\n",
       "      <td>1477939775</td>\n",
       "      <td>0</td>\n",
       "      <td>2769804.0</td>\n",
       "    </tr>\n",
       "    <tr>\n",
       "      <th>358531</th>\n",
       "      <td>1477985063</td>\n",
       "      <td>0</td>\n",
       "      <td>45288.0</td>\n",
       "    </tr>\n",
       "    <tr>\n",
       "      <th>917596</th>\n",
       "      <td>1477986106</td>\n",
       "      <td>0</td>\n",
       "      <td>1043.0</td>\n",
       "    </tr>\n",
       "    <tr>\n",
       "      <th>766677</th>\n",
       "      <td>1477987567</td>\n",
       "      <td>0</td>\n",
       "      <td>1461.0</td>\n",
       "    </tr>\n",
       "    <tr>\n",
       "      <th>631570</th>\n",
       "      <td>1477988897</td>\n",
       "      <td>0</td>\n",
       "      <td>1330.0</td>\n",
       "    </tr>\n",
       "  </tbody>\n",
       "</table>\n",
       "</div>"
      ],
      "text/plain": [
       "         ts_listen  user_id  time_to_prev\n",
       "681200  1477939775        0     2769804.0\n",
       "358531  1477985063        0       45288.0\n",
       "917596  1477986106        0        1043.0\n",
       "766677  1477987567        0        1461.0\n",
       "631570  1477988897        0        1330.0"
      ]
     },
     "execution_count": 97,
     "metadata": {},
     "output_type": "execute_result"
    }
   ],
   "source": [
    "combined_sorted.head()"
   ]
  },
  {
   "cell_type": "markdown",
   "metadata": {
    "run_control": {
     "frozen": false,
     "read_only": false
    }
   },
   "source": [
    "## Compute the number of songs listened in a row"
   ]
  },
  {
   "cell_type": "code",
   "execution_count": 98,
   "metadata": {
    "ExecuteTime": {
     "end_time": "2017-05-06T19:27:32.655628",
     "start_time": "2017-05-06T19:27:31.999607"
    },
    "collapsed": false,
    "run_control": {
     "frozen": false,
     "read_only": false
    },
    "scrolled": true
   },
   "outputs": [
    {
     "data": {
      "text/html": [
       "<div>\n",
       "<table border=\"1\" class=\"dataframe\">\n",
       "  <thead>\n",
       "    <tr style=\"text-align: right;\">\n",
       "      <th></th>\n",
       "      <th>ts_listen</th>\n",
       "      <th>user_id</th>\n",
       "      <th>time_to_prev</th>\n",
       "      <th>just_after</th>\n",
       "      <th>just_after2</th>\n",
       "      <th>just_after3</th>\n",
       "      <th>just_after4</th>\n",
       "      <th>n_in_a_row_30</th>\n",
       "      <th>n_in_a_row_60</th>\n",
       "      <th>n_in_a_row_180</th>\n",
       "      <th>n_in_a_row_300</th>\n",
       "      <th>n_in_a_row_600</th>\n",
       "      <th>n_in_a_row_1800</th>\n",
       "      <th>n_in_a_row_3600</th>\n",
       "      <th>n_in_a_row_43200</th>\n",
       "      <th>n_in_a_row_86400</th>\n",
       "    </tr>\n",
       "  </thead>\n",
       "  <tbody>\n",
       "    <tr>\n",
       "      <th>681200</th>\n",
       "      <td>1477939775</td>\n",
       "      <td>0</td>\n",
       "      <td>2769804.0</td>\n",
       "      <td>False</td>\n",
       "      <td>0</td>\n",
       "      <td>NaN</td>\n",
       "      <td>NaN</td>\n",
       "      <td>0.0</td>\n",
       "      <td>0.0</td>\n",
       "      <td>0.0</td>\n",
       "      <td>0.0</td>\n",
       "      <td>0.0</td>\n",
       "      <td>0.0</td>\n",
       "      <td>0.0</td>\n",
       "      <td>0.0</td>\n",
       "      <td>0.0</td>\n",
       "    </tr>\n",
       "    <tr>\n",
       "      <th>358531</th>\n",
       "      <td>1477985063</td>\n",
       "      <td>0</td>\n",
       "      <td>45288.0</td>\n",
       "      <td>True</td>\n",
       "      <td>1</td>\n",
       "      <td>0.0</td>\n",
       "      <td>0.0</td>\n",
       "      <td>0.0</td>\n",
       "      <td>0.0</td>\n",
       "      <td>0.0</td>\n",
       "      <td>0.0</td>\n",
       "      <td>0.0</td>\n",
       "      <td>0.0</td>\n",
       "      <td>0.0</td>\n",
       "      <td>0.0</td>\n",
       "      <td>1.0</td>\n",
       "    </tr>\n",
       "    <tr>\n",
       "      <th>917596</th>\n",
       "      <td>1477986106</td>\n",
       "      <td>0</td>\n",
       "      <td>1043.0</td>\n",
       "      <td>True</td>\n",
       "      <td>2</td>\n",
       "      <td>0.0</td>\n",
       "      <td>0.0</td>\n",
       "      <td>0.0</td>\n",
       "      <td>0.0</td>\n",
       "      <td>0.0</td>\n",
       "      <td>0.0</td>\n",
       "      <td>0.0</td>\n",
       "      <td>1.0</td>\n",
       "      <td>1.0</td>\n",
       "      <td>1.0</td>\n",
       "      <td>2.0</td>\n",
       "    </tr>\n",
       "    <tr>\n",
       "      <th>766677</th>\n",
       "      <td>1477987567</td>\n",
       "      <td>0</td>\n",
       "      <td>1461.0</td>\n",
       "      <td>True</td>\n",
       "      <td>3</td>\n",
       "      <td>0.0</td>\n",
       "      <td>0.0</td>\n",
       "      <td>0.0</td>\n",
       "      <td>0.0</td>\n",
       "      <td>0.0</td>\n",
       "      <td>0.0</td>\n",
       "      <td>0.0</td>\n",
       "      <td>2.0</td>\n",
       "      <td>2.0</td>\n",
       "      <td>2.0</td>\n",
       "      <td>3.0</td>\n",
       "    </tr>\n",
       "    <tr>\n",
       "      <th>631570</th>\n",
       "      <td>1477988897</td>\n",
       "      <td>0</td>\n",
       "      <td>1330.0</td>\n",
       "      <td>True</td>\n",
       "      <td>4</td>\n",
       "      <td>0.0</td>\n",
       "      <td>0.0</td>\n",
       "      <td>0.0</td>\n",
       "      <td>0.0</td>\n",
       "      <td>0.0</td>\n",
       "      <td>0.0</td>\n",
       "      <td>0.0</td>\n",
       "      <td>3.0</td>\n",
       "      <td>3.0</td>\n",
       "      <td>3.0</td>\n",
       "      <td>4.0</td>\n",
       "    </tr>\n",
       "  </tbody>\n",
       "</table>\n",
       "</div>"
      ],
      "text/plain": [
       "         ts_listen  user_id  time_to_prev just_after  just_after2  \\\n",
       "681200  1477939775        0     2769804.0      False            0   \n",
       "358531  1477985063        0       45288.0       True            1   \n",
       "917596  1477986106        0        1043.0       True            2   \n",
       "766677  1477987567        0        1461.0       True            3   \n",
       "631570  1477988897        0        1330.0       True            4   \n",
       "\n",
       "        just_after3  just_after4  n_in_a_row_30  n_in_a_row_60  \\\n",
       "681200          NaN          NaN            0.0            0.0   \n",
       "358531          0.0          0.0            0.0            0.0   \n",
       "917596          0.0          0.0            0.0            0.0   \n",
       "766677          0.0          0.0            0.0            0.0   \n",
       "631570          0.0          0.0            0.0            0.0   \n",
       "\n",
       "        n_in_a_row_180  n_in_a_row_300  n_in_a_row_600  n_in_a_row_1800  \\\n",
       "681200             0.0             0.0             0.0              0.0   \n",
       "358531             0.0             0.0             0.0              0.0   \n",
       "917596             0.0             0.0             0.0              1.0   \n",
       "766677             0.0             0.0             0.0              2.0   \n",
       "631570             0.0             0.0             0.0              3.0   \n",
       "\n",
       "        n_in_a_row_3600  n_in_a_row_43200  n_in_a_row_86400  \n",
       "681200              0.0               0.0               0.0  \n",
       "358531              0.0               0.0               1.0  \n",
       "917596              1.0               1.0               2.0  \n",
       "766677              2.0               2.0               3.0  \n",
       "631570              3.0               3.0               4.0  "
      ]
     },
<<<<<<< HEAD
     "execution_count": 44,
=======
     "execution_count": 98,
>>>>>>> 92b0d022dee0c8857217aed86aeb2545e17081a2
     "metadata": {},
     "output_type": "execute_result"
    }
   ],
   "source": [
    "lintervals = [30, 60, 180, 300, 600, 1800, 3600, 12*3600, 24*3600]\n",
    "for t in lintervals:    \n",
    "    combined_sorted['just_after'] = (combined_sorted['time_to_prev'] < t)*(1-ttprv['user_id']).fillna(0) == 1\n",
    "\n",
    "    combined_sorted['just_after2'] = combined_sorted['just_after'].cumsum()\n",
    "    combined_sorted['just_after3'] = (1-combined_sorted['just_after'])*combined_sorted['just_after2'].shift(1)\n",
    "    combined_sorted['just_after4'] = combined_sorted['just_after3'].cummax()\n",
    "    combined_sorted['n_in_a_row_' + str(t)] = (combined_sorted['just_after2'] - combined_sorted['just_after4']).fillna(0)\n",
    "\n",
    "combined_sorted.head()"
   ]
  },
  {
   "cell_type": "code",
<<<<<<< HEAD
   "execution_count": 45,
   "metadata": {
    "ExecuteTime": {
     "end_time": "2017-04-27T23:32:23.394798",
     "start_time": "2017-04-27T23:32:19.895625"
=======
   "execution_count": 99,
   "metadata": {
    "ExecuteTime": {
     "end_time": "2017-05-06T19:27:33.001776",
     "start_time": "2017-05-06T19:27:32.656972"
>>>>>>> 92b0d022dee0c8857217aed86aeb2545e17081a2
    },
    "collapsed": false,
    "run_control": {
     "frozen": false,
     "read_only": false
    }
   },
   "outputs": [],
   "source": [
    "combined = combined.join(combined_sorted[['time_to_prev'] + ['n_in_a_row_' + str(t) for t in lintervals]], None, 'left', 'l')\n",
    "combined_sorted = None"
   ]
  },
  {
   "cell_type": "code",
<<<<<<< HEAD
   "execution_count": 46,
   "metadata": {
    "ExecuteTime": {
     "end_time": "2017-04-27T23:32:23.433963",
     "start_time": "2017-04-27T23:32:23.396429"
=======
   "execution_count": 100,
   "metadata": {
    "ExecuteTime": {
     "end_time": "2017-05-06T19:27:33.044646",
     "start_time": "2017-05-06T19:27:33.002973"
>>>>>>> 92b0d022dee0c8857217aed86aeb2545e17081a2
    },
    "collapsed": false,
    "run_control": {
     "frozen": false,
     "read_only": false
    }
   },
   "outputs": [
    {
     "data": {
      "text/html": [
       "<div>\n",
       "<table border=\"1\" class=\"dataframe\">\n",
       "  <thead>\n",
       "    <tr style=\"text-align: right;\">\n",
       "      <th></th>\n",
       "      <th>genre_id</th>\n",
       "      <th>ts_listen</th>\n",
       "      <th>media_id</th>\n",
       "      <th>album_id</th>\n",
       "      <th>context_type</th>\n",
       "      <th>release_date</th>\n",
       "      <th>media_duration</th>\n",
       "      <th>listen_type</th>\n",
       "      <th>user_gender</th>\n",
       "      <th>user_id</th>\n",
       "      <th>artist_id</th>\n",
       "      <th>user_age</th>\n",
       "      <th>platform_name_0</th>\n",
       "      <th>platform_name_1</th>\n",
       "      <th>platform_name_2</th>\n",
       "      <th>platform_family_0</th>\n",
       "      <th>platform_family_1</th>\n",
       "      <th>platform_family_2</th>\n",
       "      <th>avrg_listened_user</th>\n",
       "      <th>avrg_listened_user_flow</th>\n",
       "      <th>avrg_listened_user_noflow</th>\n",
       "      <th>avrg_listened_user_current</th>\n",
       "      <th>count_user</th>\n",
       "      <th>avrg_listened_artist</th>\n",
       "      <th>avrg_listened_artist_flow</th>\n",
       "      <th>avrg_listened_artist_noflow</th>\n",
       "      <th>avrg_listened_artist_current</th>\n",
       "      <th>count_artist</th>\n",
       "      <th>avrg_listened_media</th>\n",
       "      <th>avrg_listened_media_flow</th>\n",
       "      <th>avrg_listened_media_noflow</th>\n",
       "      <th>avrg_listened_media_current</th>\n",
       "      <th>count_media</th>\n",
       "      <th>avrg_listened_album</th>\n",
       "      <th>avrg_listened_album_flow</th>\n",
       "      <th>avrg_listened_album_noflow</th>\n",
       "      <th>avrg_listened_album_current</th>\n",
       "      <th>count_album</th>\n",
       "      <th>avrg_listened_genre</th>\n",
       "      <th>avrg_listened_genre_flow</th>\n",
       "      <th>avrg_listened_genre_noflow</th>\n",
       "      <th>avrg_listened_genre_current</th>\n",
       "      <th>count_genre</th>\n",
       "      <th>age_song</th>\n",
       "      <th>time_to_prev</th>\n",
       "      <th>n_in_a_row_30</th>\n",
       "      <th>n_in_a_row_60</th>\n",
       "      <th>n_in_a_row_180</th>\n",
       "      <th>n_in_a_row_300</th>\n",
       "      <th>n_in_a_row_600</th>\n",
       "      <th>n_in_a_row_1800</th>\n",
       "      <th>n_in_a_row_3600</th>\n",
       "      <th>n_in_a_row_43200</th>\n",
       "      <th>n_in_a_row_86400</th>\n",
       "    </tr>\n",
       "  </thead>\n",
       "  <tbody>\n",
       "    <tr>\n",
       "      <th>0</th>\n",
       "      <td>25471</td>\n",
       "      <td>1480597215</td>\n",
       "      <td>222606</td>\n",
       "      <td>41774</td>\n",
       "      <td>12</td>\n",
       "      <td>1.088892e+09</td>\n",
       "      <td>223</td>\n",
       "      <td>0</td>\n",
       "      <td>0</td>\n",
       "      <td>9241</td>\n",
       "      <td>55164</td>\n",
       "      <td>29</td>\n",
<<<<<<< HEAD
       "      <td>0</td>\n",
       "      <td>1</td>\n",
       "      <td>0</td>\n",
       "      <td>1</td>\n",
       "      <td>0</td>\n",
       "      <td>0</td>\n",
       "      <td>0.676991</td>\n",
       "      <td>0.654762</td>\n",
       "      <td>0.690141</td>\n",
       "      <td>0.690141</td>\n",
       "      <td>227</td>\n",
=======
       "      <td>0.0</td>\n",
       "      <td>1.0</td>\n",
       "      <td>0.0</td>\n",
       "      <td>1.0</td>\n",
       "      <td>0.0</td>\n",
       "      <td>0.0</td>\n",
       "      <td>0.476190</td>\n",
       "      <td>0.750</td>\n",
       "      <td>0.307692</td>\n",
       "      <td>0.307692</td>\n",
       "      <td>22</td>\n",
>>>>>>> 92b0d022dee0c8857217aed86aeb2545e17081a2
       "      <td>0.000000</td>\n",
       "      <td>0.000000</td>\n",
       "      <td>0.000000</td>\n",
       "      <td>0.000000</td>\n",
       "      <td>1</td>\n",
       "      <td>0.000000</td>\n",
       "      <td>0.000000</td>\n",
       "      <td>0.0000</td>\n",
       "      <td>0.0000</td>\n",
       "      <td>1</td>\n",
       "      <td>0.000000</td>\n",
       "      <td>0.0</td>\n",
       "      <td>0.000000</td>\n",
       "      <td>0.000000</td>\n",
       "      <td>1</td>\n",
       "      <td>0.711538</td>\n",
       "      <td>0.596730</td>\n",
       "      <td>0.774146</td>\n",
       "      <td>0.774146</td>\n",
       "      <td>1085</td>\n",
       "      <td>391705215.0</td>\n",
       "      <td>12.0</td>\n",
       "      <td>1.0</td>\n",
       "      <td>1.0</td>\n",
       "      <td>1.0</td>\n",
       "      <td>1.0</td>\n",
       "      <td>3.0</td>\n",
       "      <td>3.0</td>\n",
       "      <td>3.0</td>\n",
       "      <td>7.0</td>\n",
       "      <td>17.0</td>\n",
       "    </tr>\n",
       "    <tr>\n",
       "      <th>1</th>\n",
       "      <td>25571</td>\n",
       "      <td>1480544735</td>\n",
       "      <td>250467</td>\n",
       "      <td>43941</td>\n",
       "      <td>0</td>\n",
       "      <td>1.141168e+09</td>\n",
       "      <td>171</td>\n",
       "      <td>0</td>\n",
       "      <td>0</td>\n",
       "      <td>16547</td>\n",
       "      <td>55830</td>\n",
       "      <td>30</td>\n",
<<<<<<< HEAD
       "      <td>0</td>\n",
       "      <td>0</td>\n",
       "      <td>1</td>\n",
       "      <td>0</td>\n",
       "      <td>1</td>\n",
       "      <td>0</td>\n",
       "      <td>0.575000</td>\n",
       "      <td>0.000000</td>\n",
       "      <td>0.589744</td>\n",
       "      <td>0.589744</td>\n",
       "      <td>41</td>\n",
       "      <td>0.379310</td>\n",
       "      <td>0.714286</td>\n",
       "      <td>0.272727</td>\n",
       "      <td>0.272727</td>\n",
       "      <td>30</td>\n",
=======
       "      <td>0.0</td>\n",
       "      <td>0.0</td>\n",
       "      <td>1.0</td>\n",
       "      <td>0.0</td>\n",
       "      <td>1.0</td>\n",
       "      <td>0.0</td>\n",
       "      <td>1.000000</td>\n",
       "      <td>1.000</td>\n",
       "      <td>1.000000</td>\n",
       "      <td>1.000000</td>\n",
       "      <td>3</td>\n",
       "      <td>1.000000</td>\n",
       "      <td>1.000000</td>\n",
       "      <td>1.000000</td>\n",
       "      <td>1.000000</td>\n",
       "      <td>3</td>\n",
>>>>>>> 92b0d022dee0c8857217aed86aeb2545e17081a2
       "      <td>1.000000</td>\n",
       "      <td>1.000000</td>\n",
       "      <td>1.0000</td>\n",
       "      <td>1.0000</td>\n",
       "      <td>1</td>\n",
       "      <td>1.000000</td>\n",
       "      <td>1.0</td>\n",
       "      <td>1.000000</td>\n",
       "      <td>1.000000</td>\n",
       "      <td>1</td>\n",
       "      <td>0.629526</td>\n",
       "      <td>0.616071</td>\n",
       "      <td>0.635628</td>\n",
       "      <td>0.635628</td>\n",
       "      <td>362</td>\n",
       "      <td>339377135.0</td>\n",
       "      <td>2769804.0</td>\n",
       "      <td>0.0</td>\n",
       "      <td>0.0</td>\n",
       "      <td>0.0</td>\n",
       "      <td>0.0</td>\n",
       "      <td>0.0</td>\n",
       "      <td>0.0</td>\n",
       "      <td>0.0</td>\n",
       "      <td>0.0</td>\n",
       "      <td>0.0</td>\n",
       "    </tr>\n",
       "    <tr>\n",
       "      <th>2</th>\n",
       "      <td>16</td>\n",
       "      <td>1479563953</td>\n",
       "      <td>305197</td>\n",
       "      <td>48078</td>\n",
       "      <td>1</td>\n",
       "      <td>1.405289e+09</td>\n",
       "      <td>149</td>\n",
       "      <td>1</td>\n",
       "      <td>1</td>\n",
       "      <td>7665</td>\n",
       "      <td>2704</td>\n",
       "      <td>29</td>\n",
<<<<<<< HEAD
       "      <td>0</td>\n",
       "      <td>0</td>\n",
       "      <td>1</td>\n",
       "      <td>0</td>\n",
       "      <td>1</td>\n",
       "      <td>0</td>\n",
       "      <td>0.986755</td>\n",
       "      <td>0.977273</td>\n",
       "      <td>0.990654</td>\n",
       "      <td>0.977273</td>\n",
       "      <td>303</td>\n",
       "      <td>0.781250</td>\n",
       "      <td>0.833333</td>\n",
       "      <td>0.775862</td>\n",
       "      <td>0.833333</td>\n",
       "      <td>128</td>\n",
=======
       "      <td>0.0</td>\n",
       "      <td>0.0</td>\n",
       "      <td>1.0</td>\n",
       "      <td>0.0</td>\n",
       "      <td>1.0</td>\n",
       "      <td>0.0</td>\n",
       "      <td>0.954545</td>\n",
       "      <td>1.000</td>\n",
       "      <td>0.933333</td>\n",
       "      <td>1.000000</td>\n",
       "      <td>23</td>\n",
       "      <td>0.444444</td>\n",
       "      <td>0.500000</td>\n",
       "      <td>0.428571</td>\n",
       "      <td>0.500000</td>\n",
       "      <td>9</td>\n",
>>>>>>> 92b0d022dee0c8857217aed86aeb2545e17081a2
       "      <td>1.000000</td>\n",
       "      <td>1.000000</td>\n",
       "      <td>1.0000</td>\n",
       "      <td>1.0000</td>\n",
       "      <td>1</td>\n",
       "      <td>1.000000</td>\n",
       "      <td>1.0</td>\n",
       "      <td>1.000000</td>\n",
       "      <td>1.000000</td>\n",
       "      <td>1</td>\n",
       "      <td>0.774917</td>\n",
       "      <td>0.641304</td>\n",
       "      <td>0.833732</td>\n",
       "      <td>0.641304</td>\n",
       "      <td>1212</td>\n",
       "      <td>74275153.0</td>\n",
       "      <td>4866.0</td>\n",
       "      <td>0.0</td>\n",
       "      <td>0.0</td>\n",
       "      <td>0.0</td>\n",
       "      <td>0.0</td>\n",
       "      <td>0.0</td>\n",
       "      <td>0.0</td>\n",
       "      <td>0.0</td>\n",
       "      <td>1.0</td>\n",
       "      <td>5.0</td>\n",
       "    </tr>\n",
       "    <tr>\n",
       "      <th>3</th>\n",
       "      <td>7</td>\n",
       "      <td>1480152098</td>\n",
       "      <td>900502</td>\n",
       "      <td>71521</td>\n",
       "      <td>0</td>\n",
       "      <td>9.728604e+08</td>\n",
       "      <td>240</td>\n",
       "      <td>0</td>\n",
       "      <td>1</td>\n",
       "      <td>1580</td>\n",
       "      <td>938</td>\n",
       "      <td>30</td>\n",
<<<<<<< HEAD
       "      <td>1</td>\n",
       "      <td>0</td>\n",
       "      <td>0</td>\n",
       "      <td>1</td>\n",
       "      <td>0</td>\n",
       "      <td>0</td>\n",
       "      <td>0.586977</td>\n",
       "      <td>0.544218</td>\n",
       "      <td>0.603073</td>\n",
       "      <td>0.603073</td>\n",
       "      <td>1076</td>\n",
       "      <td>0.714563</td>\n",
       "      <td>0.666667</td>\n",
       "      <td>0.722919</td>\n",
       "      <td>0.722919</td>\n",
       "      <td>1031</td>\n",
=======
       "      <td>1.0</td>\n",
       "      <td>0.0</td>\n",
       "      <td>0.0</td>\n",
       "      <td>1.0</td>\n",
       "      <td>0.0</td>\n",
       "      <td>0.0</td>\n",
       "      <td>0.608696</td>\n",
       "      <td>0.475</td>\n",
       "      <td>0.663265</td>\n",
       "      <td>0.663265</td>\n",
       "      <td>139</td>\n",
       "      <td>0.484848</td>\n",
       "      <td>0.484848</td>\n",
       "      <td>0.484848</td>\n",
       "      <td>0.484848</td>\n",
       "      <td>34</td>\n",
>>>>>>> 92b0d022dee0c8857217aed86aeb2545e17081a2
       "      <td>0.000000</td>\n",
       "      <td>0.000000</td>\n",
       "      <td>0.0000</td>\n",
       "      <td>0.0000</td>\n",
       "      <td>1</td>\n",
       "      <td>0.000000</td>\n",
       "      <td>0.0</td>\n",
       "      <td>0.000000</td>\n",
       "      <td>0.000000</td>\n",
       "      <td>1</td>\n",
       "      <td>0.649713</td>\n",
       "      <td>0.583686</td>\n",
       "      <td>0.700462</td>\n",
       "      <td>0.700462</td>\n",
       "      <td>99915</td>\n",
       "      <td>507291698.0</td>\n",
       "      <td>1962.0</td>\n",
       "      <td>0.0</td>\n",
       "      <td>0.0</td>\n",
       "      <td>0.0</td>\n",
       "      <td>0.0</td>\n",
       "      <td>0.0</td>\n",
       "      <td>0.0</td>\n",
       "      <td>8.0</td>\n",
       "      <td>23.0</td>\n",
       "      <td>32.0</td>\n",
       "    </tr>\n",
       "    <tr>\n",
       "      <th>4</th>\n",
       "      <td>7</td>\n",
       "      <td>1478368974</td>\n",
       "      <td>542335</td>\n",
       "      <td>71718</td>\n",
       "      <td>0</td>\n",
       "      <td>1.203030e+09</td>\n",
       "      <td>150</td>\n",
       "      <td>0</td>\n",
       "      <td>1</td>\n",
       "      <td>1812</td>\n",
       "      <td>2939</td>\n",
       "      <td>24</td>\n",
<<<<<<< HEAD
       "      <td>1</td>\n",
       "      <td>0</td>\n",
       "      <td>0</td>\n",
       "      <td>1</td>\n",
       "      <td>0</td>\n",
       "      <td>0</td>\n",
       "      <td>0.933868</td>\n",
       "      <td>0.937500</td>\n",
       "      <td>0.933002</td>\n",
       "      <td>0.933002</td>\n",
       "      <td>999</td>\n",
       "      <td>0.806763</td>\n",
       "      <td>0.750000</td>\n",
       "      <td>0.823899</td>\n",
       "      <td>0.823899</td>\n",
       "      <td>207</td>\n",
=======
       "      <td>1.0</td>\n",
       "      <td>0.0</td>\n",
       "      <td>0.0</td>\n",
       "      <td>1.0</td>\n",
       "      <td>0.0</td>\n",
       "      <td>0.0</td>\n",
       "      <td>0.942149</td>\n",
       "      <td>0.850</td>\n",
       "      <td>0.960396</td>\n",
       "      <td>0.960396</td>\n",
       "      <td>122</td>\n",
       "      <td>0.838710</td>\n",
       "      <td>0.800000</td>\n",
       "      <td>0.864865</td>\n",
       "      <td>0.864865</td>\n",
       "      <td>62</td>\n",
>>>>>>> 92b0d022dee0c8857217aed86aeb2545e17081a2
       "      <td>0.866667</td>\n",
       "      <td>0.785714</td>\n",
       "      <td>0.9375</td>\n",
       "      <td>0.9375</td>\n",
       "      <td>30</td>\n",
       "      <td>0.882353</td>\n",
       "      <td>0.8</td>\n",
       "      <td>0.947368</td>\n",
       "      <td>0.947368</td>\n",
       "      <td>34</td>\n",
       "      <td>0.649713</td>\n",
       "      <td>0.583686</td>\n",
       "      <td>0.700462</td>\n",
       "      <td>0.700462</td>\n",
       "      <td>99915</td>\n",
       "      <td>275338974.0</td>\n",
       "      <td>26938.0</td>\n",
       "      <td>0.0</td>\n",
       "      <td>0.0</td>\n",
       "      <td>0.0</td>\n",
       "      <td>0.0</td>\n",
       "      <td>0.0</td>\n",
       "      <td>0.0</td>\n",
       "      <td>0.0</td>\n",
       "      <td>3.0</td>\n",
       "      <td>12.0</td>\n",
       "    </tr>\n",
       "  </tbody>\n",
       "</table>\n",
       "</div>"
      ],
      "text/plain": [
       "   genre_id   ts_listen  media_id  album_id  context_type  release_date  \\\n",
       "0     25471  1480597215    222606     41774            12  1.088892e+09   \n",
       "1     25571  1480544735    250467     43941             0  1.141168e+09   \n",
       "2        16  1479563953    305197     48078             1  1.405289e+09   \n",
       "3         7  1480152098    900502     71521             0  9.728604e+08   \n",
       "4         7  1478368974    542335     71718             0  1.203030e+09   \n",
       "\n",
       "   media_duration  listen_type  user_gender  user_id  artist_id  user_age  \\\n",
       "0             223            0            0     9241      55164        29   \n",
       "1             171            0            0    16547      55830        30   \n",
       "2             149            1            1     7665       2704        29   \n",
       "3             240            0            1     1580        938        30   \n",
       "4             150            0            1     1812       2939        24   \n",
       "\n",
       "   platform_name_0  platform_name_1  platform_name_2  platform_family_0  \\\n",
<<<<<<< HEAD
       "0                0                1                0                  1   \n",
       "1                0                0                1                  0   \n",
       "2                0                0                1                  0   \n",
       "3                1                0                0                  1   \n",
       "4                1                0                0                  1   \n",
       "\n",
       "   platform_family_1  platform_family_2  avrg_listened_user  \\\n",
       "0                  0                  0            0.676991   \n",
       "1                  1                  0            0.575000   \n",
       "2                  1                  0            0.986755   \n",
       "3                  0                  0            0.586977   \n",
       "4                  0                  0            0.933868   \n",
       "\n",
       "   avrg_listened_user_flow  avrg_listened_user_noflow  \\\n",
       "0                 0.654762                   0.690141   \n",
       "1                 0.000000                   0.589744   \n",
       "2                 0.977273                   0.990654   \n",
       "3                 0.544218                   0.603073   \n",
       "4                 0.937500                   0.933002   \n",
=======
       "0              0.0              1.0              0.0                1.0   \n",
       "1              0.0              0.0              1.0                0.0   \n",
       "2              0.0              0.0              1.0                0.0   \n",
       "3              1.0              0.0              0.0                1.0   \n",
       "4              1.0              0.0              0.0                1.0   \n",
       "\n",
       "   platform_family_1  platform_family_2  avrg_listened_user  \\\n",
       "0                0.0                0.0            0.476190   \n",
       "1                1.0                0.0            1.000000   \n",
       "2                1.0                0.0            0.954545   \n",
       "3                0.0                0.0            0.608696   \n",
       "4                0.0                0.0            0.942149   \n",
       "\n",
       "   avrg_listened_user_flow  avrg_listened_user_noflow  \\\n",
       "0                    0.750                   0.307692   \n",
       "1                    1.000                   1.000000   \n",
       "2                    1.000                   0.933333   \n",
       "3                    0.475                   0.663265   \n",
       "4                    0.850                   0.960396   \n",
>>>>>>> 92b0d022dee0c8857217aed86aeb2545e17081a2
       "\n",
       "   avrg_listened_user_current  count_user  avrg_listened_artist  \\\n",
       "0                    0.307692          22              0.000000   \n",
       "1                    1.000000           3              1.000000   \n",
       "2                    1.000000          23              0.444444   \n",
       "3                    0.663265         139              0.484848   \n",
       "4                    0.960396         122              0.838710   \n",
       "\n",
       "   avrg_listened_artist_flow  avrg_listened_artist_noflow  \\\n",
       "0                   0.000000                     0.000000   \n",
       "1                   1.000000                     1.000000   \n",
       "2                   0.500000                     0.428571   \n",
       "3                   0.484848                     0.484848   \n",
       "4                   0.800000                     0.864865   \n",
       "\n",
       "   avrg_listened_artist_current  count_artist  avrg_listened_media  \\\n",
       "0                      0.000000             1             0.000000   \n",
       "1                      1.000000             3             1.000000   \n",
       "2                      0.500000             9             1.000000   \n",
       "3                      0.484848            34             0.000000   \n",
       "4                      0.864865            62             0.866667   \n",
       "\n",
       "   avrg_listened_media_flow  avrg_listened_media_noflow  \\\n",
       "0                  0.000000                      0.0000   \n",
       "1                  1.000000                      1.0000   \n",
       "2                  1.000000                      1.0000   \n",
       "3                  0.000000                      0.0000   \n",
       "4                  0.785714                      0.9375   \n",
       "\n",
       "   avrg_listened_media_current  count_media  avrg_listened_album  \\\n",
       "0                       0.0000            1             0.000000   \n",
       "1                       1.0000            1             1.000000   \n",
       "2                       1.0000            1             1.000000   \n",
       "3                       0.0000            1             0.000000   \n",
       "4                       0.9375           30             0.882353   \n",
       "\n",
       "   avrg_listened_album_flow  avrg_listened_album_noflow  \\\n",
       "0                       0.0                    0.000000   \n",
       "1                       1.0                    1.000000   \n",
       "2                       1.0                    1.000000   \n",
       "3                       0.0                    0.000000   \n",
       "4                       0.8                    0.947368   \n",
       "\n",
       "   avrg_listened_album_current  count_album  avrg_listened_genre  \\\n",
       "0                     0.000000            1             0.711538   \n",
       "1                     1.000000            1             0.629526   \n",
       "2                     1.000000            1             0.774917   \n",
       "3                     0.000000            1             0.649713   \n",
       "4                     0.947368           34             0.649713   \n",
       "\n",
       "   avrg_listened_genre_flow  avrg_listened_genre_noflow  \\\n",
       "0                  0.596730                    0.774146   \n",
       "1                  0.616071                    0.635628   \n",
       "2                  0.641304                    0.833732   \n",
       "3                  0.583686                    0.700462   \n",
       "4                  0.583686                    0.700462   \n",
       "\n",
       "   avrg_listened_genre_current  count_genre     age_song  time_to_prev  \\\n",
       "0                     0.774146         1085  391705215.0          12.0   \n",
       "1                     0.635628          362  339377135.0     2769804.0   \n",
       "2                     0.641304         1212   74275153.0        4866.0   \n",
       "3                     0.700462        99915  507291698.0        1962.0   \n",
       "4                     0.700462        99915  275338974.0       26938.0   \n",
       "\n",
       "   n_in_a_row_30  n_in_a_row_60  n_in_a_row_180  n_in_a_row_300  \\\n",
       "0            1.0            1.0             1.0             1.0   \n",
       "1            0.0            0.0             0.0             0.0   \n",
       "2            0.0            0.0             0.0             0.0   \n",
       "3            0.0            0.0             0.0             0.0   \n",
       "4            0.0            0.0             0.0             0.0   \n",
       "\n",
       "   n_in_a_row_600  n_in_a_row_1800  n_in_a_row_3600  n_in_a_row_43200  \\\n",
       "0             3.0              3.0              3.0               7.0   \n",
       "1             0.0              0.0              0.0               0.0   \n",
       "2             0.0              0.0              0.0               1.0   \n",
       "3             0.0              0.0              8.0              23.0   \n",
       "4             0.0              0.0              0.0               3.0   \n",
       "\n",
       "   n_in_a_row_86400  \n",
       "0              17.0  \n",
       "1               0.0  \n",
       "2               5.0  \n",
       "3              32.0  \n",
       "4              12.0  "
      ]
     },
<<<<<<< HEAD
     "execution_count": 46,
=======
     "execution_count": 100,
>>>>>>> 92b0d022dee0c8857217aed86aeb2545e17081a2
     "metadata": {},
     "output_type": "execute_result"
    }
   ],
   "source": [
    "combined.head()"
   ]
  },
  {
   "cell_type": "code",
   "execution_count": null,
   "metadata": {
    "collapsed": false,
    "run_control": {
     "frozen": false,
     "read_only": false
    }
   },
   "outputs": [],
   "source": []
  },
  {
   "cell_type": "markdown",
   "metadata": {
    "ExecuteTime": {
     "end_time": "2017-05-06T14:20:04.747327",
     "start_time": "2017-05-06T14:20:04.745540"
    },
    "run_control": {
     "frozen": false,
     "read_only": false
    }
   },
   "source": [
    "## Date and time"
   ]
  },
  {
   "cell_type": "markdown",
   "metadata": {
    "run_control": {
     "frozen": false,
     "read_only": false
    }
   },
   "source": [
    "### Hourly average..."
   ]
  },
  {
   "cell_type": "code",
<<<<<<< HEAD
   "execution_count": 48,
   "metadata": {
    "ExecuteTime": {
     "end_time": "2017-04-27T23:38:17.641228",
     "start_time": "2017-04-27T23:38:17.586574"
=======
   "execution_count": 101,
   "metadata": {
    "ExecuteTime": {
     "end_time": "2017-05-06T19:27:33.094455",
     "start_time": "2017-05-06T19:27:33.045786"
>>>>>>> 92b0d022dee0c8857217aed86aeb2545e17081a2
    },
    "collapsed": false,
    "run_control": {
     "frozen": false,
     "read_only": false
    }
   },
   "outputs": [],
   "source": [
<<<<<<< HEAD
    "# combined.to_csv('temp_combined.csv')\n",
    "# target.to_csv('temp_target.csv')"
=======
    "def create_column_date(combined):\n",
    "    combined['date'] = pd.to_datetime(combined['ts_listen'],unit='s')\n",
    "    return combined\n",
    "\n",
    "combined = create_column_date(combined)"
>>>>>>> 92b0d022dee0c8857217aed86aeb2545e17081a2
   ]
  },
  {
   "cell_type": "code",
<<<<<<< HEAD
   "execution_count": 49,
   "metadata": {
    "ExecuteTime": {
     "end_time": "2017-04-27T23:38:21.812255",
     "start_time": "2017-04-27T23:38:21.810158"
=======
   "execution_count": 102,
   "metadata": {
    "ExecuteTime": {
     "end_time": "2017-05-06T19:27:34.390197",
     "start_time": "2017-05-06T19:27:33.095605"
>>>>>>> 92b0d022dee0c8857217aed86aeb2545e17081a2
    },
    "collapsed": false,
    "run_control": {
     "frozen": false,
     "read_only": false
    }
   },
   "outputs": [],
   "source": [
<<<<<<< HEAD
    "# combined = pd.read_csv('temp_combined.csv')\n",
    "# target = pd.read_csv('temp_target.csv', header = None)[1]"
=======
    "train['hour'] = combined[:len(train)]['date'].dt.hour\n",
    "combined['hour'] = combined['date'].dt.hour\n",
    "avg_is_listened_per_hour = train.groupby(['hour'])['is_listened'].mean()\n",
    "avg_is_listened_per_hour.name = 'avg_per_hour'\n",
    "combined = combined.join(avg_is_listened_per_hour, 'hour', 'left')\n",
    "\n",
    "combined.drop('date',axis=1,inplace=True)"
>>>>>>> 92b0d022dee0c8857217aed86aeb2545e17081a2
   ]
  },
  {
   "cell_type": "code",
<<<<<<< HEAD
   "execution_count": 50,
   "metadata": {
    "ExecuteTime": {
     "end_time": "2017-04-27T23:38:43.019821",
     "start_time": "2017-04-27T23:38:27.039236"
=======
   "execution_count": 103,
   "metadata": {
    "ExecuteTime": {
     "end_time": "2017-05-06T19:27:34.515071",
     "start_time": "2017-05-06T19:27:34.391641"
>>>>>>> 92b0d022dee0c8857217aed86aeb2545e17081a2
    },
    "collapsed": false,
    "run_control": {
     "frozen": false,
     "read_only": false
    }
   },
   "outputs": [],
   "source": [
    "newtrain = combined[:len(target)]\n",
    "newtrain['is_listened'] = train['is_listened']\n",
    "newtest = combined[len(target):]"
   ]
  },
  {
   "cell_type": "code",
   "execution_count": 117,
   "metadata": {
    "ExecuteTime": {
     "end_time": "2017-05-06T19:32:11.821602",
     "start_time": "2017-05-06T19:32:11.579434"
    },
    "collapsed": false,
    "run_control": {
     "frozen": false,
     "read_only": false
    }
   },
   "outputs": [
    {
     "data": {
      "text/plain": [
       "(0.0, 80)"
      ]
     },
     "execution_count": 117,
     "metadata": {},
     "output_type": "execute_result"
    },
    {
     "data": {
      "image/png": "iVBORw0KGgoAAAANSUhEUgAAAqQAAAHcCAYAAAAA37iYAAAABHNCSVQICAgIfAhkiAAAAAlwSFlz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\nAKsopAAAALCKQgoAAACr/j+6hm0LakqnwQAAAABJRU5ErkJggg==\n",
      "text/plain": [
       "<matplotlib.figure.Figure at 0x7f049e2e7d30>"
      ]
     },
     "metadata": {},
     "output_type": "display_data"
    }
   ],
   "source": [
    "plt.plot(newtrain.groupby(['n_in_a_row_300'])['is_listened'].mean())\n",
    "plt.xlim(xmax = 80)"
   ]
  },
  {
   "cell_type": "code",
   "execution_count": 174,
   "metadata": {
    "ExecuteTime": {
     "end_time": "2017-05-06T20:16:20.288686",
     "start_time": "2017-05-06T20:16:20.063509"
    },
    "collapsed": false,
    "run_control": {
     "frozen": false,
     "read_only": false
    }
   },
   "outputs": [
    {
     "data": {
      "text/plain": [
       "[<matplotlib.lines.Line2D at 0x7f049ca44748>]"
      ]
     },
     "execution_count": 174,
     "metadata": {},
     "output_type": "execute_result"
    },
    {
     "data": {
      "image/png": "iVBORw0KGgoAAAANSUhEUgAAArgAAAHvCAYAAAC/o6z9AAAABHNCSVQICAgIfAhkiAAAAAlwSFlz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\nSUVORK5CYII=\n",
      "text/plain": [
       "<matplotlib.figure.Figure at 0x7f049ce29470>"
      ]
     },
     "metadata": {},
     "output_type": "display_data"
    }
   ],
   "source": [
    "p = newtrain[newtrain['user_id'] == 150][['ts_listen', 'is_listened', 'avrg_listened_user']].sort_values(['ts_listen'])\n",
    "plt.plot(p['ts_listen'], pd.ewma(p['is_listened'], span = 1000), '-')\n",
    "plt.plot(p['ts_listen'], p['avrg_listened_user'], '-')"
   ]
  },
  {
   "cell_type": "code",
   "execution_count": null,
   "metadata": {
    "ExecuteTime": {
     "end_time": "2017-05-06T20:06:37.102620",
     "start_time": "2017-05-06T20:06:37.082017"
    },
    "collapsed": false,
    "run_control": {
     "frozen": false,
     "read_only": false
    }
   },
   "outputs": [],
   "source": []
  },
  {
   "cell_type": "code",
   "execution_count": 118,
   "metadata": {
    "ExecuteTime": {
     "end_time": "2017-05-06T20:03:01.771593",
     "start_time": "2017-05-06T20:03:01.769594"
    },
    "collapsed": false,
    "run_control": {
     "frozen": false,
     "read_only": false
    }
   },
   "outputs": [],
   "source": [
    "# chanson écoutée combien de fois, album, etc? a creuser"
   ]
  },
  {
   "cell_type": "code",
   "execution_count": null,
   "metadata": {
    "collapsed": false,
    "run_control": {
     "frozen": false,
     "read_only": false
    }
   },
   "outputs": [],
   "source": []
  },
  {
   "cell_type": "markdown",
   "metadata": {
    "run_control": {
     "frozen": false,
     "read_only": false
    }
   },
   "source": [
    "## CENTER DATA"
   ]
  },
  {
   "cell_type": "code",
   "execution_count": 7,
   "metadata": {
    "ExecuteTime": {
     "end_time": "2017-04-19T00:21:29.528555",
     "start_time": "2017-04-19T00:12:00.603052"
    },
    "collapsed": false,
    "run_control": {
     "frozen": false,
     "read_only": false
    }
   },
   "outputs": [],
   "source": [
    "combined.to_csv('temp_combined.csv', index=False)\n",
    "target.to_csv('temp_target.csv', index=False)"
   ]
  },
  {
   "cell_type": "code",
   "execution_count": 10,
   "metadata": {
    "ExecuteTime": {
     "end_time": "2017-04-25T22:40:29.827332",
     "start_time": "2017-04-25T22:36:09.800446"
    },
    "collapsed": false,
    "run_control": {
     "frozen": false,
     "read_only": false
    }
   },
   "outputs": [],
   "source": [
    "combined = pd.read_csv('temp_combined.csv')\n",
    "target = pd.read_csv('temp_target.csv', header = None)"
   ]
  },
  {
   "cell_type": "code",
   "execution_count": 6,
   "metadata": {
    "ExecuteTime": {
     "end_time": "2017-04-25T22:30:28.561759",
     "start_time": "2017-04-25T22:27:47.606829"
    },
    "collapsed": false,
    "init_cell": true,
    "run_control": {
     "frozen": false,
     "read_only": false
    }
   },
   "outputs": [],
   "source": [
    "for _ in combined.columns:\n",
    "    if np.std(combined[_][:len(target)]) != 0:\n",
    "        combined[_] = (combined[_] - np.mean(combined[_][:len(target)]))/np.std(combined[_][:len(target)])"
   ]
  },
  {
   "cell_type": "code",
   "execution_count": 52,
   "metadata": {
    "ExecuteTime": {
     "end_time": "2017-04-27T23:40:36.881949",
     "start_time": "2017-04-27T23:40:36.556954"
    },
    "collapsed": false
   },
   "outputs": [
    {
     "data": {
      "text/html": [
       "<div>\n",
       "<table border=\"1\" class=\"dataframe\">\n",
       "  <thead>\n",
       "    <tr style=\"text-align: right;\">\n",
       "      <th></th>\n",
       "      <th>genre_id</th>\n",
       "      <th>ts_listen</th>\n",
       "      <th>media_id</th>\n",
       "      <th>album_id</th>\n",
       "      <th>context_type</th>\n",
       "      <th>release_date</th>\n",
       "      <th>media_duration</th>\n",
       "      <th>listen_type</th>\n",
       "      <th>user_gender</th>\n",
       "      <th>user_id</th>\n",
       "      <th>artist_id</th>\n",
       "      <th>user_age</th>\n",
       "      <th>platform_name_0</th>\n",
       "      <th>platform_name_1</th>\n",
       "      <th>platform_name_2</th>\n",
       "      <th>platform_family_0</th>\n",
       "      <th>platform_family_1</th>\n",
       "      <th>platform_family_2</th>\n",
       "      <th>avrg_listened_user</th>\n",
       "      <th>avrg_listened_user_flow</th>\n",
       "      <th>avrg_listened_user_noflow</th>\n",
       "      <th>avrg_listened_user_current</th>\n",
       "      <th>count_user</th>\n",
       "      <th>avrg_listened_artist</th>\n",
       "      <th>avrg_listened_artist_flow</th>\n",
       "      <th>avrg_listened_artist_noflow</th>\n",
       "      <th>avrg_listened_artist_current</th>\n",
       "      <th>count_artist</th>\n",
       "      <th>avrg_listened_media</th>\n",
       "      <th>avrg_listened_media_flow</th>\n",
       "      <th>avrg_listened_media_noflow</th>\n",
       "      <th>avrg_listened_media_current</th>\n",
       "      <th>count_media</th>\n",
       "      <th>avrg_listened_album</th>\n",
       "      <th>avrg_listened_album_flow</th>\n",
       "      <th>avrg_listened_album_noflow</th>\n",
       "      <th>avrg_listened_album_current</th>\n",
       "      <th>count_album</th>\n",
       "      <th>avrg_listened_genre</th>\n",
       "      <th>avrg_listened_genre_flow</th>\n",
       "      <th>avrg_listened_genre_noflow</th>\n",
       "      <th>avrg_listened_genre_current</th>\n",
       "      <th>count_genre</th>\n",
       "      <th>age_song</th>\n",
       "      <th>time_to_prev</th>\n",
       "      <th>time_to_next</th>\n",
       "    </tr>\n",
       "  </thead>\n",
       "  <tbody>\n",
       "    <tr>\n",
       "      <th>0</th>\n",
       "      <td>1.774745</td>\n",
       "      <td>1.158382</td>\n",
       "      <td>-1.522825</td>\n",
       "      <td>-1.482514</td>\n",
       "      <td>2.068712</td>\n",
       "      <td>-0.994849</td>\n",
       "      <td>-0.102113</td>\n",
       "      <td>-0.665451</td>\n",
       "      <td>-0.805855</td>\n",
       "      <td>1.315845</td>\n",
       "      <td>-0.573743</td>\n",
       "      <td>1.244082</td>\n",
       "      <td>-1.433228</td>\n",
       "      <td>2.121950</td>\n",
       "      <td>-0.412966</td>\n",
       "      <td>0.501176</td>\n",
       "      <td>-0.412966</td>\n",
       "      <td>-0.241385</td>\n",
       "      <td>-0.031681</td>\n",
       "      <td>0.159513</td>\n",
       "      <td>-0.139486</td>\n",
       "      <td>0.026107</td>\n",
       "      <td>-0.880922</td>\n",
       "      <td>-6.647186</td>\n",
       "      <td>-4.471016</td>\n",
       "      <td>-7.244555</td>\n",
       "      <td>-5.602837</td>\n",
       "      <td>-0.500640</td>\n",
       "      <td>-4.321252</td>\n",
       "      <td>-3.043865</td>\n",
       "      <td>-4.575888</td>\n",
       "      <td>-3.885676</td>\n",
       "      <td>-0.555216</td>\n",
       "      <td>-5.340078</td>\n",
       "      <td>-3.704285</td>\n",
       "      <td>-5.733618</td>\n",
       "      <td>-4.694586</td>\n",
       "      <td>-0.354854</td>\n",
       "      <td>0.081955</td>\n",
       "      <td>-0.109914</td>\n",
       "      <td>0.449885</td>\n",
       "      <td>0.724415</td>\n",
       "      <td>-1.125511</td>\n",
       "      <td>1.001100</td>\n",
       "      <td>-0.051674</td>\n",
       "      <td>-0.009863</td>\n",
       "    </tr>\n",
       "    <tr>\n",
       "      <th>1</th>\n",
       "      <td>1.782386</td>\n",
       "      <td>1.117291</td>\n",
       "      <td>-1.522282</td>\n",
       "      <td>-1.482118</td>\n",
       "      <td>-0.506459</td>\n",
       "      <td>-0.771604</td>\n",
       "      <td>-0.752274</td>\n",
       "      <td>-0.665451</td>\n",
       "      <td>-0.805855</td>\n",
       "      <td>3.163239</td>\n",
       "      <td>-0.573479</td>\n",
       "      <td>1.509492</td>\n",
       "      <td>-1.433228</td>\n",
       "      <td>-0.471265</td>\n",
       "      <td>2.421507</td>\n",
       "      <td>-1.995307</td>\n",
       "      <td>2.421507</td>\n",
       "      <td>-0.241385</td>\n",
       "      <td>-0.493090</td>\n",
       "      <td>-2.067320</td>\n",
       "      <td>-0.636094</td>\n",
       "      <td>-0.400305</td>\n",
       "      <td>-1.077348</td>\n",
       "      <td>-2.960975</td>\n",
       "      <td>0.763389</td>\n",
       "      <td>-4.500485</td>\n",
       "      <td>-3.368832</td>\n",
       "      <td>-0.499816</td>\n",
       "      <td>1.996423</td>\n",
       "      <td>1.775825</td>\n",
       "      <td>1.788680</td>\n",
       "      <td>1.795186</td>\n",
       "      <td>-0.555216</td>\n",
       "      <td>2.467122</td>\n",
       "      <td>2.236673</td>\n",
       "      <td>2.241150</td>\n",
       "      <td>2.168904</td>\n",
       "      <td>-0.354854</td>\n",
       "      <td>-2.311629</td>\n",
       "      <td>-0.891681</td>\n",
       "      <td>-3.634541</td>\n",
       "      <td>-1.442039</td>\n",
       "      <td>-1.137662</td>\n",
       "      <td>0.777645</td>\n",
       "      <td>-0.051659</td>\n",
       "      <td>-0.009793</td>\n",
       "    </tr>\n",
       "    <tr>\n",
       "      <th>2</th>\n",
       "      <td>-0.170279</td>\n",
       "      <td>0.349350</td>\n",
       "      <td>-1.521216</td>\n",
       "      <td>-1.481360</td>\n",
       "      <td>-0.291861</td>\n",
       "      <td>0.356340</td>\n",
       "      <td>-1.027343</td>\n",
       "      <td>1.502740</td>\n",
       "      <td>1.240919</td>\n",
       "      <td>0.917338</td>\n",
       "      <td>-0.594565</td>\n",
       "      <td>1.244082</td>\n",
       "      <td>-1.433228</td>\n",
       "      <td>-0.471265</td>\n",
       "      <td>2.421507</td>\n",
       "      <td>-1.995307</td>\n",
       "      <td>2.421507</td>\n",
       "      <td>-0.241385</td>\n",
       "      <td>1.369695</td>\n",
       "      <td>1.256366</td>\n",
       "      <td>1.346983</td>\n",
       "      <td>1.245628</td>\n",
       "      <td>-0.800662</td>\n",
       "      <td>0.945152</td>\n",
       "      <td>1.635789</td>\n",
       "      <td>0.561850</td>\n",
       "      <td>1.223291</td>\n",
       "      <td>-0.497032</td>\n",
       "      <td>1.996423</td>\n",
       "      <td>1.775825</td>\n",
       "      <td>1.788680</td>\n",
       "      <td>1.795186</td>\n",
       "      <td>-0.555216</td>\n",
       "      <td>2.467122</td>\n",
       "      <td>2.236673</td>\n",
       "      <td>2.241150</td>\n",
       "      <td>2.168904</td>\n",
       "      <td>-0.354854</td>\n",
       "      <td>1.189264</td>\n",
       "      <td>0.972029</td>\n",
       "      <td>1.503675</td>\n",
       "      <td>-0.280132</td>\n",
       "      <td>-1.136317</td>\n",
       "      <td>-0.354411</td>\n",
       "      <td>-0.051672</td>\n",
       "      <td>-0.009503</td>\n",
       "    </tr>\n",
       "    <tr>\n",
       "      <th>3</th>\n",
       "      <td>-0.170967</td>\n",
       "      <td>0.809861</td>\n",
       "      <td>-1.509620</td>\n",
       "      <td>-1.477066</td>\n",
       "      <td>-0.506459</td>\n",
       "      <td>-1.490368</td>\n",
       "      <td>0.110440</td>\n",
       "      <td>-0.665451</td>\n",
       "      <td>1.240919</td>\n",
       "      <td>-0.621315</td>\n",
       "      <td>-0.595266</td>\n",
       "      <td>1.509492</td>\n",
       "      <td>0.697726</td>\n",
       "      <td>-0.471265</td>\n",
       "      <td>-0.412966</td>\n",
       "      <td>0.501176</td>\n",
       "      <td>-0.412966</td>\n",
       "      <td>-0.241385</td>\n",
       "      <td>-0.438907</td>\n",
       "      <td>-0.216446</td>\n",
       "      <td>-0.570161</td>\n",
       "      <td>-0.343692</td>\n",
       "      <td>0.015665</td>\n",
       "      <td>0.297076</td>\n",
       "      <td>0.414428</td>\n",
       "      <td>0.029159</td>\n",
       "      <td>0.318849</td>\n",
       "      <td>-0.471378</td>\n",
       "      <td>-4.321252</td>\n",
       "      <td>-3.043865</td>\n",
       "      <td>-4.575888</td>\n",
       "      <td>-3.885676</td>\n",
       "      <td>-0.555216</td>\n",
       "      <td>-5.340078</td>\n",
       "      <td>-3.704285</td>\n",
       "      <td>-5.733618</td>\n",
       "      <td>-4.694586</td>\n",
       "      <td>-0.354854</td>\n",
       "      <td>-0.415169</td>\n",
       "      <td>-0.033103</td>\n",
       "      <td>-0.360790</td>\n",
       "      <td>0.294418</td>\n",
       "      <td>-0.591984</td>\n",
       "      <td>1.494685</td>\n",
       "      <td>-0.051674</td>\n",
       "      <td>-0.009861</td>\n",
       "    </tr>\n",
       "    <tr>\n",
       "      <th>4</th>\n",
       "      <td>-0.170967</td>\n",
       "      <td>-0.586304</td>\n",
       "      <td>-1.516597</td>\n",
       "      <td>-1.477030</td>\n",
       "      <td>-0.506459</td>\n",
       "      <td>-0.507417</td>\n",
       "      <td>-1.014840</td>\n",
       "      <td>-0.665451</td>\n",
       "      <td>1.240919</td>\n",
       "      <td>-0.562651</td>\n",
       "      <td>-0.594471</td>\n",
       "      <td>-0.082970</td>\n",
       "      <td>0.697726</td>\n",
       "      <td>-0.471265</td>\n",
       "      <td>-0.412966</td>\n",
       "      <td>0.501176</td>\n",
       "      <td>-0.412966</td>\n",
       "      <td>-0.241385</td>\n",
       "      <td>1.130432</td>\n",
       "      <td>1.121100</td>\n",
       "      <td>1.061813</td>\n",
       "      <td>1.057601</td>\n",
       "      <td>-0.065651</td>\n",
       "      <td>1.193095</td>\n",
       "      <td>1.025109</td>\n",
       "      <td>1.045181</td>\n",
       "      <td>1.146014</td>\n",
       "      <td>-0.494787</td>\n",
       "      <td>1.154066</td>\n",
       "      <td>0.743034</td>\n",
       "      <td>1.390895</td>\n",
       "      <td>1.440133</td>\n",
       "      <td>-0.544945</td>\n",
       "      <td>1.548628</td>\n",
       "      <td>1.048482</td>\n",
       "      <td>1.821425</td>\n",
       "      <td>1.807668</td>\n",
       "      <td>-0.353031</td>\n",
       "      <td>-0.415169</td>\n",
       "      <td>-0.033103</td>\n",
       "      <td>-0.360790</td>\n",
       "      <td>0.294418</td>\n",
       "      <td>-0.591984</td>\n",
       "      <td>0.504185</td>\n",
       "      <td>-0.049634</td>\n",
       "      <td>-0.008459</td>\n",
       "    </tr>\n",
       "  </tbody>\n",
       "</table>\n",
       "</div>"
      ],
      "text/plain": [
       "   genre_id  ts_listen  media_id  album_id  context_type  release_date  \\\n",
       "0  1.774745   1.158382 -1.522825 -1.482514      2.068712     -0.994849   \n",
       "1  1.782386   1.117291 -1.522282 -1.482118     -0.506459     -0.771604   \n",
       "2 -0.170279   0.349350 -1.521216 -1.481360     -0.291861      0.356340   \n",
       "3 -0.170967   0.809861 -1.509620 -1.477066     -0.506459     -1.490368   \n",
       "4 -0.170967  -0.586304 -1.516597 -1.477030     -0.506459     -0.507417   \n",
       "\n",
       "   media_duration  listen_type  user_gender   user_id  artist_id  user_age  \\\n",
       "0       -0.102113    -0.665451    -0.805855  1.315845  -0.573743  1.244082   \n",
       "1       -0.752274    -0.665451    -0.805855  3.163239  -0.573479  1.509492   \n",
       "2       -1.027343     1.502740     1.240919  0.917338  -0.594565  1.244082   \n",
       "3        0.110440    -0.665451     1.240919 -0.621315  -0.595266  1.509492   \n",
       "4       -1.014840    -0.665451     1.240919 -0.562651  -0.594471 -0.082970   \n",
       "\n",
       "   platform_name_0  platform_name_1  platform_name_2  platform_family_0  \\\n",
       "0        -1.433228         2.121950        -0.412966           0.501176   \n",
       "1        -1.433228        -0.471265         2.421507          -1.995307   \n",
       "2        -1.433228        -0.471265         2.421507          -1.995307   \n",
       "3         0.697726        -0.471265        -0.412966           0.501176   \n",
       "4         0.697726        -0.471265        -0.412966           0.501176   \n",
       "\n",
       "   platform_family_1  platform_family_2  avrg_listened_user  \\\n",
       "0          -0.412966          -0.241385           -0.031681   \n",
       "1           2.421507          -0.241385           -0.493090   \n",
       "2           2.421507          -0.241385            1.369695   \n",
       "3          -0.412966          -0.241385           -0.438907   \n",
       "4          -0.412966          -0.241385            1.130432   \n",
       "\n",
       "   avrg_listened_user_flow  avrg_listened_user_noflow  \\\n",
       "0                 0.159513                  -0.139486   \n",
       "1                -2.067320                  -0.636094   \n",
       "2                 1.256366                   1.346983   \n",
       "3                -0.216446                  -0.570161   \n",
       "4                 1.121100                   1.061813   \n",
       "\n",
       "   avrg_listened_user_current  count_user  avrg_listened_artist  \\\n",
       "0                    0.026107   -0.880922             -6.647186   \n",
       "1                   -0.400305   -1.077348             -2.960975   \n",
       "2                    1.245628   -0.800662              0.945152   \n",
       "3                   -0.343692    0.015665              0.297076   \n",
       "4                    1.057601   -0.065651              1.193095   \n",
       "\n",
       "   avrg_listened_artist_flow  avrg_listened_artist_noflow  \\\n",
       "0                  -4.471016                    -7.244555   \n",
       "1                   0.763389                    -4.500485   \n",
       "2                   1.635789                     0.561850   \n",
       "3                   0.414428                     0.029159   \n",
       "4                   1.025109                     1.045181   \n",
       "\n",
       "   avrg_listened_artist_current  count_artist  avrg_listened_media  \\\n",
       "0                     -5.602837     -0.500640            -4.321252   \n",
       "1                     -3.368832     -0.499816             1.996423   \n",
       "2                      1.223291     -0.497032             1.996423   \n",
       "3                      0.318849     -0.471378            -4.321252   \n",
       "4                      1.146014     -0.494787             1.154066   \n",
       "\n",
       "   avrg_listened_media_flow  avrg_listened_media_noflow  \\\n",
       "0                 -3.043865                   -4.575888   \n",
       "1                  1.775825                    1.788680   \n",
       "2                  1.775825                    1.788680   \n",
       "3                 -3.043865                   -4.575888   \n",
       "4                  0.743034                    1.390895   \n",
       "\n",
       "   avrg_listened_media_current  count_media  avrg_listened_album  \\\n",
       "0                    -3.885676    -0.555216            -5.340078   \n",
       "1                     1.795186    -0.555216             2.467122   \n",
       "2                     1.795186    -0.555216             2.467122   \n",
       "3                    -3.885676    -0.555216            -5.340078   \n",
       "4                     1.440133    -0.544945             1.548628   \n",
       "\n",
       "   avrg_listened_album_flow  avrg_listened_album_noflow  \\\n",
       "0                 -3.704285                   -5.733618   \n",
       "1                  2.236673                    2.241150   \n",
       "2                  2.236673                    2.241150   \n",
       "3                 -3.704285                   -5.733618   \n",
       "4                  1.048482                    1.821425   \n",
       "\n",
       "   avrg_listened_album_current  count_album  avrg_listened_genre  \\\n",
       "0                    -4.694586    -0.354854             0.081955   \n",
       "1                     2.168904    -0.354854            -2.311629   \n",
       "2                     2.168904    -0.354854             1.189264   \n",
       "3                    -4.694586    -0.354854            -0.415169   \n",
       "4                     1.807668    -0.353031            -0.415169   \n",
       "\n",
       "   avrg_listened_genre_flow  avrg_listened_genre_noflow  \\\n",
       "0                 -0.109914                    0.449885   \n",
       "1                 -0.891681                   -3.634541   \n",
       "2                  0.972029                    1.503675   \n",
       "3                 -0.033103                   -0.360790   \n",
       "4                 -0.033103                   -0.360790   \n",
       "\n",
       "   avrg_listened_genre_current  count_genre  age_song  time_to_prev  \\\n",
       "0                     0.724415    -1.125511  1.001100     -0.051674   \n",
       "1                    -1.442039    -1.137662  0.777645     -0.051659   \n",
       "2                    -0.280132    -1.136317 -0.354411     -0.051672   \n",
       "3                     0.294418    -0.591984  1.494685     -0.051674   \n",
       "4                     0.294418    -0.591984  0.504185     -0.049634   \n",
       "\n",
       "   time_to_next  \n",
       "0     -0.009863  \n",
       "1     -0.009793  \n",
       "2     -0.009503  \n",
       "3     -0.009861  \n",
       "4     -0.008459  "
      ]
     },
     "execution_count": 52,
     "metadata": {},
     "output_type": "execute_result"
    }
   ],
   "source": [
    "combined.head()"
   ]
  },
  {
   "cell_type": "markdown",
   "metadata": {
    "run_control": {
     "frozen": false,
     "read_only": false
    }
   },
   "source": [
    "<h1> IV. Modeling </h1>"
   ]
  },
  {
   "cell_type": "markdown",
   "metadata": {
    "run_control": {
     "frozen": false,
     "read_only": false
    }
   },
   "source": [
    "## Separate the modified train and test sets"
   ]
  },
  {
   "cell_type": "code",
   "execution_count": 11,
   "metadata": {
    "ExecuteTime": {
     "end_time": "2017-04-25T22:40:39.278535",
     "start_time": "2017-04-25T22:40:33.828041"
    },
    "collapsed": false,
    "run_control": {
     "frozen": false,
     "read_only": false
    }
   },
   "outputs": [],
   "source": [
    "newtrain = combined[:len(target)]\n",
    "newtest = combined[len(target):]"
   ]
  },
  {
   "cell_type": "code",
   "execution_count": 14,
   "metadata": {
    "ExecuteTime": {
     "end_time": "2017-04-25T22:43:11.236303",
     "start_time": "2017-04-25T22:43:10.129638"
    },
    "collapsed": false,
    "run_control": {
     "frozen": false,
     "read_only": false
    }
   },
   "outputs": [
    {
     "name": "stdout",
     "output_type": "stream",
     "text": [
      "248540550.0\n",
      "1.0\n",
      "85029.68475750578\n",
      "4142.0\n"
     ]
    }
   ],
   "source": [
    "print(newtest['time_to_prev'].max())\n",
    "print(newtest['time_to_prev'].min())\n",
    "print(np.mean(newtest['time_to_prev']))\n",
    "print(np.median(newtest['time_to_prev']))"
   ]
  },
  {
   "cell_type": "code",
   "execution_count": 15,
   "metadata": {
    "ExecuteTime": {
     "end_time": "2017-04-25T22:43:25.531063",
     "start_time": "2017-04-25T22:43:25.338040"
    },
    "collapsed": false,
    "run_control": {
     "frozen": false,
     "read_only": false
    }
   },
   "outputs": [
    {
     "name": "stdout",
     "output_type": "stream",
     "text": [
      "248904905.0\n",
      "1.0\n",
      "659703.2117299706\n",
      "187.0\n"
     ]
    }
   ],
   "source": [
    "print(newtrain['time_to_prev'].max())\n",
    "print(newtrain['time_to_prev'].min())\n",
    "print(np.mean(newtrain['time_to_prev']))\n",
    "print(np.median(newtrain['time_to_prev']))"
   ]
  },
  {
   "cell_type": "markdown",
   "metadata": {
    "run_control": {
     "frozen": false,
     "read_only": false
    }
   },
   "source": [
    "## A function to visualize the importance of the features"
   ]
  },
  {
   "cell_type": "code",
   "execution_count": 15,
   "metadata": {
    "ExecuteTime": {
     "end_time": "2017-04-19T23:22:52.246410",
     "start_time": "2017-04-19T23:22:52.056627"
    },
    "collapsed": false,
    "run_control": {
     "frozen": false,
     "read_only": false
    }
   },
   "outputs": [
    {
     "data": {
      "text/plain": [
       "Index(['platform_name_2', 'platform_name_0', 'avrg_listened_media',\n",
       "       'platform_name_1', 'avrg_listened_album_noflow',\n",
       "       'avrg_listened_user_flow', 'count_album', 'avrg_listened_user',\n",
       "       'avrg_listened_user_noflow', 'avrg_listened_artist_flow',\n",
       "       'avrg_listened_genre_current', 'count_media',\n",
       "       'avrg_listened_media_noflow', 'avrg_listened_artist_noflow',\n",
       "       'platform_family_0', 'time_to_prev', 'avrg_listened_artist_current',\n",
       "       'avrg_listened_media_current', 'context_type',\n",
       "       'avrg_listened_user_current'],\n",
       "      dtype='object')"
      ]
     },
     "execution_count": 15,
     "metadata": {},
     "output_type": "execute_result"
    }
   ],
   "source": [
    "sorted_idx = np.argsort(gbr.feature_importances_)"
   ]
  },
  {
   "cell_type": "code",
   "execution_count": 8,
   "metadata": {
    "ExecuteTime": {
     "end_time": "2017-04-24T00:28:15.477563",
     "start_time": "2017-04-24T00:28:13.404396"
    },
    "code_folding": [],
    "collapsed": false,
    "run_control": {
     "frozen": false,
     "read_only": false
    }
   },
   "outputs": [],
   "source": [
    "def importanceVisualisation(feature_importance, predictors, firstN = 40):\n",
    "    \n",
    "    plt.rcParams[\"figure.figsize\"] = [40,10]\n",
    "    # make importances relative to max importance\n",
    "    feature_importance = 100.0 * (feature_importance / feature_importance.max())\n",
    "    sorted_idx = np.argsort(feature_importance)\n",
    "    pos = np.arange(sorted_idx.shape[0]) + .5\n",
    "    plt.subplot(1, 2, 2)\n",
    "    plt.bar(pos[-firstN:], feature_importance[sorted_idx][-firstN:], align='center')\n",
    "    plt.xticks(pos[-firstN:], predictors[sorted_idx][-firstN:], rotation='vertical')\n",
    "    plt.ylabel('Relative Importance')\n",
    "    plt.title('Variable Importance')\n",
    "    plt.show()"
   ]
  },
  {
   "cell_type": "markdown",
   "metadata": {
    "run_control": {
     "frozen": false,
     "read_only": false
    }
   },
   "source": [
    "<h1> IV - 1. Gradient Boosting </h1>"
   ]
  },
  {
   "cell_type": "code",
   "execution_count": 19,
   "metadata": {
    "ExecuteTime": {
     "end_time": "2017-04-19T23:25:30.595900",
     "start_time": "2017-04-19T23:25:30.588798"
    },
    "collapsed": false,
    "run_control": {
     "frozen": false,
     "read_only": false
    }
   },
   "outputs": [],
   "source": [
    "from sklearn import ensemble\n",
    "params = {'n_estimators': 1000, 'max_depth': 4, 'min_samples_split': 2,\n",
    "          'learning_rate': 0.01, 'loss': 'huber', 'verbose':1}\n",
    "gbr = ensemble.GradientBoostingRegressor(**params)"
   ]
  },
  {
   "cell_type": "code",
   "execution_count": 20,
   "metadata": {
    "ExecuteTime": {
     "end_time": "2017-04-20T06:01:35.184642",
     "start_time": "2017-04-19T23:25:30.767009"
    },
    "collapsed": false,
    "run_control": {
     "frozen": false,
     "read_only": false
    },
    "scrolled": true
   },
   "outputs": [
    {
     "name": "stdout",
     "output_type": "stream",
     "text": [
      "      Iter       Train Loss   Remaining Time \n",
      "         1           0.1564          624.20m\n",
      "         2           0.1548          511.87m\n",
      "         3           0.1532          473.27m\n",
      "         4           0.1517          453.87m\n",
      "         5           0.1502          442.46m\n",
      "         6           0.1487          433.91m\n",
      "         7           0.1473          428.52m\n",
      "         8           0.1459          424.35m\n",
      "         9           0.1445          421.04m\n",
      "        10           0.1431          418.24m\n",
      "        20           0.1309          404.49m\n",
      "        30           0.1208          394.43m\n",
      "        40           0.1126          389.10m\n",
      "        50           0.1057          384.77m\n",
      "        60           0.1001          380.71m\n",
      "        70           0.0954          374.82m\n",
      "        80           0.0915          370.80m\n",
      "        90           0.0883          366.89m\n",
      "       100           0.0857          363.16m\n",
      "       200           0.0748          323.45m\n",
      "       300           0.0728          281.33m\n",
      "       400           0.0723          239.65m\n",
      "       500           0.0721          198.65m\n",
      "       600           0.0720          158.83m\n",
      "       700           0.0719          118.98m\n",
      "       800           0.0719           79.24m\n",
      "       900           0.0718           39.59m\n",
      "      1000           0.0718            0.00s\n"
     ]
    },
    {
     "data": {
      "text/plain": [
       "GradientBoostingRegressor(alpha=0.9, criterion='friedman_mse', init=None,\n",
       "             learning_rate=0.01, loss='huber', max_depth=4,\n",
       "             max_features=None, max_leaf_nodes=None,\n",
       "             min_impurity_split=1e-07, min_samples_leaf=1,\n",
       "             min_samples_split=2, min_weight_fraction_leaf=0.0,\n",
       "             n_estimators=1000, presort='auto', random_state=None,\n",
       "             subsample=1.0, verbose=1, warm_start=False)"
      ]
     },
     "execution_count": 20,
     "metadata": {},
     "output_type": "execute_result"
    }
   ],
   "source": [
    "gbr.fit(newtrainLight, target)"
   ]
  },
  {
   "cell_type": "code",
   "execution_count": 22,
   "metadata": {
    "ExecuteTime": {
     "end_time": "2017-04-20T09:16:52.271362",
     "start_time": "2017-04-20T09:16:51.347298"
    },
    "collapsed": false,
    "run_control": {
     "frozen": false,
     "read_only": false
    }
   },
   "outputs": [
    {
     "data": {
      "image/png": "iVBORw0KGgoAAAANSUhEUgAABcsAAAPrCAYAAACH6NTaAAAABHNCSVQICAgIfAhkiAAAAAlwSFlz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\nTkSuQmCC\n",
      "text/plain": [
       "<matplotlib.figure.Figure at 0x7f5678545a20>"
      ]
     },
     "metadata": {},
     "output_type": "display_data"
    }
   ],
   "source": [
    "importanceVisualisation(gbr.feature_importances_, newtrainLight.columns)"
   ]
  },
  {
   "cell_type": "markdown",
   "metadata": {
    "run_control": {
     "frozen": false,
     "read_only": false
    }
   },
   "source": [
    "<h1> IV - 2. XGBoost </h1>"
   ]
  },
  {
   "cell_type": "code",
   "execution_count": 6,
   "metadata": {
    "ExecuteTime": {
     "end_time": "2017-04-24T10:04:36.666012",
     "start_time": "2017-04-24T10:04:34.109972"
    },
    "collapsed": false,
    "run_control": {
     "frozen": false,
     "read_only": false
    }
   },
   "outputs": [],
   "source": [
    "from sklearn.model_selection import cross_val_predict\n",
    "\n",
    "def modelfit(alg, dtrain, predictors,useTrainCV=True, cv_folds=5, early_stopping_rounds=50, plot = False):\n",
    "    \n",
    "    if useTrainCV:\n",
    "        xgb_param = alg.get_xgb_params()\n",
    "        xgtrain = xgb.DMatrix(dtrain[predictors].values, label=target.values)\n",
    "        cvresult = xgb.cv(xgb_param, xgtrain, num_boost_round=alg.get_params()['n_estimators'], nfold=cv_folds,\n",
    "            metrics='auc', early_stopping_rounds=early_stopping_rounds)\n",
    "        alg.set_params(n_estimators=cvresult.shape[0])\n",
    "    \n",
    "    #Fit the algorithm on the data\n",
    "    alg.fit(dtrain[predictors], target, verbose_eval = True, eval_metric='auc')\n",
    "        \n",
    "    #Predict training set:\n",
    "    dtrain_predictions = alg.predict(dtrain[predictors])\n",
    "    dtrain_predprob = alg.predict_proba(dtrain[predictors])[:,1]\n",
    "        \n",
    "    #Print model report:\n",
    "    print(\"\\nModel Report\")\n",
    "    print(\"Accuracy : %.4g\" % metrics.accuracy_score(target.values, dtrain_predictions))\n",
    "    print(\"AUC Score (Train): %f\" % metrics.roc_auc_score(target, dtrain_predprob))\n",
    "    predicted_cv = cross_val_predict(alg, dtrain, target, cv = 5, n_jobs = -1)\n",
    "    print('AUC Score (CV):',metrics.roc_auc_score(target, predicted_cv))\n",
    "    \n",
    "    if plot:\n",
    "        importanceVisualisation(pd.Series(alg.booster().get_fscore()), predictors)"
   ]
  },
  {
   "cell_type": "code",
   "execution_count": null,
   "metadata": {
    "ExecuteTime": {
     "start_time": "2017-04-24T08:02:48.617Z"
    },
    "collapsed": false,
    "run_control": {
     "frozen": false,
     "read_only": false
    }
   },
   "outputs": [],
   "source": [
    "predictors = newtrain.columns"
   ]
  },
  {
   "cell_type": "markdown",
   "metadata": {
    "run_control": {
     "frozen": false,
     "read_only": false
    }
   },
   "source": [
    "## FIRST MODEL"
   ]
  },
  {
   "cell_type": "code",
   "execution_count": null,
   "metadata": {
    "ExecuteTime": {
     "start_time": "2017-04-24T08:02:51.002Z"
    },
    "collapsed": false,
    "run_control": {
     "frozen": false,
     "read_only": false
    }
   },
   "outputs": [],
   "source": [
    "xgb1 = XGBClassifier(\n",
    " learning_rate =0.1,\n",
    " n_estimators=1000,\n",
    " max_depth=5,\n",
    " min_child_weight=1,\n",
    " gamma=0,\n",
    " subsample=0.8,\n",
    " colsample_bytree=0.8,\n",
    " objective= 'binary:logistic',\n",
    "#  nthread=-1,\n",
    " scale_pos_weight=1,\n",
    " seed=27)\n",
    "modelfit(xgb1, newtrain, predictors)"
   ]
  },
  {
   "cell_type": "markdown",
   "metadata": {
    "run_control": {
     "frozen": false,
     "read_only": false
    }
   },
   "source": [
    "## GRID SEARCH ON XGBOOST TO FIND THE BEST PARAMETERS (VERY LONG)"
   ]
  },
  {
   "cell_type": "markdown",
   "metadata": {
    "run_control": {
     "frozen": false,
     "read_only": false
    }
   },
   "source": [
    "## Grid search on 'max_depth' and 'min_child_weight'"
   ]
  },
  {
   "cell_type": "code",
   "execution_count": null,
   "metadata": {
    "ExecuteTime": {
     "end_time": "2017-04-16T17:57:02.387739",
     "start_time": "2017-04-16T11:56:06.162Z"
    },
    "collapsed": false,
    "run_control": {
     "frozen": false,
     "read_only": false
    }
   },
   "outputs": [],
   "source": [
    "# param_test1 = {\n",
    "#  'max_depth':np.array(range(3,10,2)),\n",
    "#  'min_child_weight':np.array(range(1,6,2))\n",
    "# }\n",
    "# gsearch1 = GridSearchCV(estimator = XGBClassifier( learning_rate =0.1, n_estimators=140, max_depth=5,\n",
    "#  min_child_weight=1, gamma=0, subsample=0.8, colsample_bytree=0.8,\n",
    "#  objective= 'binary:logistic', nthread=4, scale_pos_weight=1, seed=27), \n",
    "#  param_grid = param_test1, scoring='roc_auc',n_jobs=-1,iid=False, cv=5)\n",
    "# gsearch1.fit(newtrain[predictors],target)\n",
    "# gsearch1.grid_scores_, gsearch1.best_params_, gsearch1.best_score_"
   ]
  },
  {
   "cell_type": "markdown",
   "metadata": {
    "run_control": {
     "frozen": false,
     "read_only": false
    }
   },
   "source": [
    "## Finer grid search on 'max_depth' and 'min_child_weight'"
   ]
  },
  {
   "cell_type": "code",
   "execution_count": null,
   "metadata": {
    "ExecuteTime": {
     "end_time": "2017-04-16T17:57:02.388042",
     "start_time": "2017-04-16T11:56:06.182Z"
    },
    "collapsed": false,
    "run_control": {
     "frozen": false,
     "read_only": false
    }
   },
   "outputs": [],
   "source": [
    "# param_test2 = {\n",
    "#  'max_depth':[2,3,4],\n",
    "#  'min_child_weight':[2,3,4]\n",
    "# }\n",
    "# gsearch2 = GridSearchCV(estimator = XGBClassifier( learning_rate=0.1, n_estimators=140, max_depth=5,\n",
    "#  min_child_weight=2, gamma=0, subsample=0.8, colsample_bytree=0.8,\n",
    "#  objective= 'binary:logistic', nthread=-1, scale_pos_weight=1,seed=27), \n",
    "#  param_grid = param_test2, scoring='roc_auc',n_jobs=-1,iid=False, cv=5)\n",
    "# gsearch2.fit(newtrain[predictors],target)\n",
    "# gsearch2.grid_scores_, gsearch2.best_params_, gsearch2.best_score_"
   ]
  },
  {
   "cell_type": "markdown",
   "metadata": {
    "run_control": {
     "frozen": false,
     "read_only": false
    }
   },
   "source": [
    "## Grid search on 'gamma'"
   ]
  },
  {
   "cell_type": "code",
   "execution_count": null,
   "metadata": {
    "ExecuteTime": {
     "end_time": "2017-04-16T17:57:02.388367",
     "start_time": "2017-04-16T11:56:06.189Z"
    },
    "collapsed": false,
    "run_control": {
     "frozen": false,
     "read_only": false
    }
   },
   "outputs": [],
   "source": [
    "# param_test3 = {\n",
    "#  'gamma':[i/10.0 for i in range(0,5)]\n",
    "# }\n",
    "# gsearch3 = GridSearchCV(estimator = XGBClassifier( learning_rate =0.1, n_estimators=140, max_depth=4,\n",
    "#  min_child_weight=4, gamma=0, subsample=0.8, colsample_bytree=0.8,\n",
    "#  objective= 'binary:logistic', nthread=-1, scale_pos_weight=1,seed=27), \n",
    "#  param_grid = param_test3, scoring='roc_auc',n_jobs=-1,iid=False, cv=5)\n",
    "# gsearch3.fit(newtrain[predictors],target)\n",
    "# gsearch3.grid_scores_, gsearch3.best_params_, gsearch3.best_score_"
   ]
  },
  {
   "cell_type": "markdown",
   "metadata": {
    "run_control": {
     "frozen": false,
     "read_only": false
    }
   },
   "source": [
    "## Grid search on 'subsample' and 'colsample_bytree'"
   ]
  },
  {
   "cell_type": "code",
   "execution_count": null,
   "metadata": {
    "ExecuteTime": {
     "end_time": "2017-04-16T17:57:02.388665",
     "start_time": "2017-04-16T11:56:06.195Z"
    },
    "collapsed": false,
    "run_control": {
     "frozen": false,
     "read_only": false
    }
   },
   "outputs": [],
   "source": [
    "# param_test4 = { \n",
    "#  'subsample':[i/10.0 for i in range(6,11)],\n",
    "#  'colsample_bytree':[i/10.0 for i in range(6,11)]\n",
    "# }\n",
    "# gsearch4 = GridSearchCV(estimator = XGBClassifier( learning_rate =0.1, n_estimators=140, max_depth=4,\n",
    "#  min_child_weight=4, gamma=0, subsample=0.8, colsample_bytree=0.8,\n",
    "#  objective= 'binary:logistic', nthread=-1, scale_pos_weight=1,seed=27), \n",
    "#  param_grid = param_test4, scoring='roc_auc',n_jobs=-1,iid=False, cv=5)\n",
    "# gsearch4.fit(newtrain[predictors],target)\n",
    "# gsearch4.grid_scores_, gsearch4.best_params_, gsearch4.best_score_"
   ]
  },
  {
   "cell_type": "markdown",
   "metadata": {
    "run_control": {
     "frozen": false,
     "read_only": false
    }
   },
   "source": [
    "## Grid search on 'reg_alpha'"
   ]
  },
  {
   "cell_type": "code",
   "execution_count": null,
   "metadata": {
    "ExecuteTime": {
     "end_time": "2017-04-16T17:57:02.388961",
     "start_time": "2017-04-16T11:56:06.217Z"
    },
    "collapsed": false,
    "run_control": {
     "frozen": false,
     "read_only": false
    }
   },
   "outputs": [],
   "source": [
    "# param_test6 = {\n",
    "#  'reg_alpha':[1e-5, 1e-2, 0.1, 1, 100]\n",
    "# }\n",
    "# gsearch6 = GridSearchCV(estimator = XGBClassifier( learning_rate =0.1, n_estimators=140, max_depth=4,\n",
    "#  min_child_weight=4, gamma=0, subsample=1.0, colsample_bytree=0.6,\n",
    "#  objective= 'binary:logistic', nthread=-1, scale_pos_weight=1,seed=27), \n",
    "#  param_grid = param_test6, scoring='roc_auc',n_jobs=-1,iid=False, cv=5)\n",
    "# gsearch6.fit(newtrain,target)\n",
    "# gsearch6.grid_scores_, gsearch6.best_params_, gsearch6.best_score_"
   ]
  },
  {
   "cell_type": "code",
   "execution_count": null,
   "metadata": {
    "ExecuteTime": {
     "end_time": "2017-04-16T17:57:02.389261",
     "start_time": "2017-04-16T11:56:06.227Z"
    },
    "collapsed": false,
    "run_control": {
     "frozen": false,
     "read_only": false
    }
   },
   "outputs": [],
   "source": [
    "# param_test7 = {\n",
    "#  'reg_alpha':[0.5,1,2,5,10]\n",
    "# }\n",
    "# gsearch7 = GridSearchCV(estimator = XGBClassifier( learning_rate =0.1, n_estimators=140, max_depth=4,\n",
    "#  min_child_weight=4, gamma=0, subsample=1.0, colsample_bytree=0.6,\n",
    "#  objective= 'binary:logistic', nthread=-1, scale_pos_weight=1,seed=27), \n",
    "#  param_grid = param_test7, scoring='roc_auc',n_jobs=-1,iid=False, cv=5)\n",
    "# gsearch7.fit(newtrain,target)\n",
    "# gsearch7.grid_scores_, gsearch7.best_params_, gsearch7.best_score_"
   ]
  },
  {
   "cell_type": "markdown",
   "metadata": {
    "run_control": {
     "frozen": false,
     "read_only": false
    }
   },
   "source": [
    "## Grid search on 'learning_rate' and 'n_estimators'"
   ]
  },
  {
   "cell_type": "code",
   "execution_count": 209,
   "metadata": {
    "collapsed": false,
    "run_control": {
     "frozen": true,
     "read_only": true
    }
   },
   "outputs": [
    {
     "data": {
      "text/plain": [
       "([mean: 0.80282, std: 0.00984, params: {'n_estimators': 1000, 'learning_rate': 0.1},\n",
       "  mean: 0.80199, std: 0.01003, params: {'n_estimators': 5000, 'learning_rate': 0.1},\n",
       "  mean: 0.80175, std: 0.01035, params: {'n_estimators': 10000, 'learning_rate': 0.1},\n",
       "  mean: 0.81651, std: 0.00992, params: {'n_estimators': 1000, 'learning_rate': 0.01},\n",
       "  mean: 0.80989, std: 0.00944, params: {'n_estimators': 5000, 'learning_rate': 0.01},\n",
       "  mean: 0.80797, std: 0.00966, params: {'n_estimators': 10000, 'learning_rate': 0.01},\n",
       "  mean: 0.81178, std: 0.00623, params: {'n_estimators': 1000, 'learning_rate': 0.001},\n",
       "  mean: 0.81843, std: 0.00840, params: {'n_estimators': 5000, 'learning_rate': 0.001},\n",
       "  mean: 0.81649, std: 0.00936, params: {'n_estimators': 10000, 'learning_rate': 0.001}],\n",
       " {'learning_rate': 0.001, 'n_estimators': 5000},\n",
       " 0.8184288230374144)"
      ]
     },
     "execution_count": 209,
     "metadata": {},
     "output_type": "execute_result"
    }
   ],
   "source": [
    "param_test8 = {\n",
    " 'learning_rate': [0.1,0.01,0.001],\n",
    " 'n_estimators': [1000,5000,10000]\n",
    "}\n",
    "gsearch8 = GridSearchCV(estimator = XGBClassifier( learning_rate =0.1, n_estimators=140, max_depth=5,\n",
    " min_child_weight=0, gamma=0.3, subsample=0.9, reg_alpha = 0.2, colsample_bytree=0.9,\n",
    " objective= 'binary:logistic', nthread=-1, scale_pos_weight=1,seed=40), \n",
    " param_grid = param_test8, scoring='roc_auc',n_jobs=-1,iid=False, cv=5)\n",
    "gsearch8.fit(newtrain,target)\n",
    "gsearch8.grid_scores_, gsearch8.best_params_, gsearch8.best_score_"
   ]
  },
  {
   "cell_type": "markdown",
   "metadata": {
    "run_control": {
     "frozen": false,
     "read_only": false
    }
   },
   "source": [
    "## FINAL MODEL"
   ]
  },
  {
   "cell_type": "code",
   "execution_count": 28,
   "metadata": {
    "ExecuteTime": {
     "end_time": "2017-04-16T20:28:44.617957",
     "start_time": "2017-04-16T20:28:44.611256"
    },
    "collapsed": false,
    "init_cell": true,
    "run_control": {
     "frozen": false,
     "read_only": false
    }
   },
   "outputs": [],
   "source": [
    "# XgbParams = {'learning_rate': 0.001, 'n_estimators':10000, 'max_depth':6, 'min_child_weight':3, 'gamma':0,\n",
    "#             'subsample':0.9, 'colsample_bytree':0.6, 'reg_alpha':1e-5, 'objective': 'binary:logistic',\n",
    "#              'nthread':-1, 'scale_pos_weight':1}\n",
    "\n",
    "XgbParams = {'learning_rate': 0.001, 'n_estimators':1000, 'max_depth':5, 'min_child_weight':0, 'gamma':0.3,\n",
    "            'subsample':0.9, 'colsample_bytree':0.9, 'reg_alpha':0.2, 'objective': 'binary:logistic',\n",
    "             'nthread':-1, 'scale_pos_weight':1}\n",
    "\n",
    "# XgbParams = {'learning_rate': 0.01, 'n_estimators':1000, 'max_depth':4, 'min_child_weight':4, 'gamma':0,\n",
    "#             'subsample':1, 'colsample_bytree':0.6, 'reg_alpha':1, 'objective': 'binary:logistic',\n",
    "#              'nthread':-1, 'scale_pos_weight':1}"
   ]
  },
  {
   "cell_type": "code",
   "execution_count": null,
   "metadata": {
    "ExecuteTime": {
     "start_time": "2017-04-16T18:28:44.776Z"
    },
    "collapsed": false,
    "run_control": {
     "frozen": false,
     "read_only": false
    }
   },
   "outputs": [],
   "source": [
    "xgb3 = XGBClassifier(**XgbParams, seed=27)\n",
    "modelfit(xgb3, newtrain, predictors, plot = False)"
   ]
  },
  {
   "cell_type": "code",
   "execution_count": 216,
   "metadata": {
    "collapsed": false,
    "hide_input": true,
    "run_control": {
     "frozen": true,
     "read_only": true
    }
   },
   "outputs": [
    {
     "name": "stdout",
     "output_type": "stream",
     "text": [
      "\n",
      "Model Report\n",
      "Accuracy : 0.7944\n",
      "AUC Score (Train): 0.885769\n",
      "AUC Score (CV): 0.721147862905\n"
     ]
    }
   ],
   "source": [
    "xgb3 = XGBClassifier(**XgbParams, seed=40)\n",
    "modelfit(xgb3, newtrain, predictors, plot = False)"
   ]
  },
  {
   "cell_type": "markdown",
   "metadata": {
    "run_control": {
     "frozen": false,
     "read_only": false
    }
   },
   "source": [
    "<h1> VI. Final Prediction </h1> (We take the best xgboost model here)"
   ]
  },
  {
   "cell_type": "code",
   "execution_count": 23,
   "metadata": {
    "ExecuteTime": {
     "end_time": "2017-04-20T09:17:07.563707",
     "start_time": "2017-04-20T09:17:06.469127"
    },
    "collapsed": false,
    "run_control": {
     "frozen": false,
     "read_only": false
    }
   },
   "outputs": [],
   "source": [
    "gbrpred = gbr.predict(newtestLight)\n",
    "df_output = pd.DataFrame()\n",
    "df_output['sample_id'] = IDtest\n",
    "df_output['is_listened'] = gbrpred\n",
    "df_output[['sample_id','is_listened']].to_csv('./predictions/GBRoutput.csv', sep = \",\", index=False)"
   ]
  },
  {
   "cell_type": "code",
   "execution_count": null,
   "metadata": {
    "collapsed": false,
    "run_control": {
     "frozen": false,
     "read_only": false
    }
   },
   "outputs": [],
   "source": []
  }
 ],
 "metadata": {
  "anaconda-cloud": {},
  "kernelspec": {
   "display_name": "Python [conda root]",
   "language": "python",
   "name": "conda-root-py"
  },
  "language_info": {
   "codemirror_mode": {
    "name": "ipython",
    "version": 3
   },
   "file_extension": ".py",
   "mimetype": "text/x-python",
   "name": "python",
   "nbconvert_exporter": "python",
   "pygments_lexer": "ipython3",
   "version": "3.5.2"
  },
  "latex_envs": {
   "LaTeX_envs_menu_present": true,
   "bibliofile": "biblio.bib",
   "cite_by": "apalike",
   "current_citInitial": 1,
   "eqLabelWithNumbers": true,
   "eqNumInitial": 1,
   "hotkeys": {
    "equation": "Ctrl-E",
    "itemize": "Ctrl-I"
   },
   "labels_anchors": false,
   "latex_user_defs": false,
   "report_style_numbering": false,
   "user_envs_cfg": false
  },
  "toc": {
   "colors": {
    "hover_highlight": "#DAA520",
    "running_highlight": "#FF0000",
    "selected_highlight": "#FFD700"
   },
   "moveMenuLeft": true,
   "nav_menu": {
    "height": "512px",
    "width": "252px"
   },
   "navigate_menu": true,
   "number_sections": true,
   "sideBar": true,
   "threshold": 4,
   "toc_cell": false,
   "toc_section_display": "block",
   "toc_window_display": false
  }
 },
 "nbformat": 4,
 "nbformat_minor": 1
}
