{
 "cells": [
  {
   "cell_type": "markdown",
   "metadata": {
    "collapsed": true,
    "run_control": {
     "frozen": false,
     "read_only": false
    }
   },
   "source": [
    "<h1> I. Beginning </h1>"
   ]
  },
  {
   "cell_type": "code",
   "execution_count": 1,
   "metadata": {
    "ExecuteTime": {
     "end_time": "2017-04-17T13:55:21.664599",
     "start_time": "2017-04-17T13:55:16.496956"
    },
    "code_folding": [],
    "collapsed": false,
    "init_cell": true,
    "run_control": {
     "frozen": false,
     "read_only": false
    }
   },
   "outputs": [
    {
     "name": "stderr",
     "output_type": "stream",
     "text": [
      "/home/marc/anaconda3/lib/python3.5/site-packages/sklearn/cross_validation.py:44: DeprecationWarning: This module was deprecated in version 0.18 in favor of the model_selection module into which all the refactored classes and functions are moved. Also note that the interface of the new CV iterators are different from that of this module. This module will be removed in 0.20.\n",
      "  \"This module will be removed in 0.20.\", DeprecationWarning)\n",
      "/home/marc/anaconda3/lib/python3.5/site-packages/sklearn/grid_search.py:43: DeprecationWarning: This module was deprecated in version 0.18 in favor of the model_selection module into which all the refactored classes and functions are moved. This module will be removed in 0.20.\n",
      "  DeprecationWarning)\n"
     ]
    }
   ],
   "source": [
    "# remove warnings\n",
    "import warnings\n",
    "warnings.filterwarnings('ignore')\n",
    "# ---\n",
    "\n",
    "%matplotlib inline\n",
    "import pandas as pd\n",
    "pd.options.display.max_columns = 100\n",
    "from matplotlib import pyplot as plt\n",
    "import matplotlib\n",
    "matplotlib.style.use('ggplot')\n",
    "import seaborn as sns\n",
    "sns.set(color_codes=True)\n",
    "import numpy as np\n",
    "import xgboost as xgb\n",
    "from xgboost.sklearn import XGBClassifier\n",
    "from sklearn import cross_validation, metrics   #Additional scklearn functions\n",
    "from sklearn.grid_search import GridSearchCV   #Performing grid search\n",
    "\n",
    "pd.options.display.max_rows = 100"
   ]
  },
  {
   "cell_type": "code",
   "execution_count": 2,
   "metadata": {
    "ExecuteTime": {
     "end_time": "2017-04-17T13:55:22.187876",
     "start_time": "2017-04-17T13:55:21.665996"
    },
    "collapsed": false,
    "init_cell": true,
    "run_control": {
     "frozen": false,
     "read_only": false
    }
   },
   "outputs": [],
   "source": [
    "# Feature Importance\n",
    "from sklearn import datasets\n",
    "from sklearn.ensemble import ExtraTreesClassifier\n",
    "from sklearn.feature_selection import SelectFromModel"
   ]
  },
  {
   "cell_type": "markdown",
   "metadata": {
    "run_control": {
     "frozen": false,
     "read_only": false
    }
   },
   "source": [
    "## Import Data"
   ]
  },
  {
   "cell_type": "code",
   "execution_count": 3,
   "metadata": {
    "ExecuteTime": {
     "end_time": "2017-04-17T13:55:31.210817",
     "start_time": "2017-04-17T13:55:22.189238"
    },
    "collapsed": false,
    "init_cell": true,
    "run_control": {
     "frozen": false,
     "read_only": false
    }
   },
   "outputs": [],
   "source": [
    "train = pd.read_csv('./data/train.csv', sep = \",\")\n",
    "test = pd.read_csv('./data/test.csv', sep = \",\")"
   ]
  },
  {
   "cell_type": "code",
   "execution_count": 4,
   "metadata": {
    "ExecuteTime": {
     "end_time": "2017-04-17T13:55:31.514942",
     "start_time": "2017-04-17T13:55:31.212144"
    },
    "collapsed": false,
    "init_cell": true,
    "run_control": {
     "frozen": false,
     "read_only": false
    }
   },
   "outputs": [],
   "source": [
    "target = train['is_listened']\n",
    "train.drop('is_listened',inplace=True,axis=1)\n",
    "IDtest = test['sample_id']\n",
    "test.drop('sample_id',inplace=True,axis=1)"
   ]
  },
  {
   "cell_type": "code",
   "execution_count": 5,
   "metadata": {
    "ExecuteTime": {
     "end_time": "2017-04-17T13:55:31.587638",
     "start_time": "2017-04-17T13:55:31.516261"
    },
    "collapsed": false,
    "init_cell": true,
    "run_control": {
     "frozen": false,
     "read_only": false
    }
   },
   "outputs": [
    {
     "data": {
      "text/html": [
       "<div>\n",
       "<table border=\"1\" class=\"dataframe\">\n",
       "  <thead>\n",
       "    <tr style=\"text-align: right;\">\n",
       "      <th></th>\n",
       "      <th>genre_id</th>\n",
       "      <th>ts_listen</th>\n",
       "      <th>media_id</th>\n",
       "      <th>album_id</th>\n",
       "      <th>context_type</th>\n",
       "      <th>release_date</th>\n",
       "      <th>platform_name</th>\n",
       "      <th>platform_family</th>\n",
       "      <th>media_duration</th>\n",
       "      <th>listen_type</th>\n",
       "      <th>user_gender</th>\n",
       "      <th>user_id</th>\n",
       "      <th>artist_id</th>\n",
       "      <th>user_age</th>\n",
       "    </tr>\n",
       "  </thead>\n",
       "  <tbody>\n",
       "    <tr>\n",
       "      <th>0</th>\n",
       "      <td>50</td>\n",
       "      <td>1478104371</td>\n",
       "      <td>683078</td>\n",
       "      <td>82356</td>\n",
       "      <td>1</td>\n",
       "      <td>20021008</td>\n",
       "      <td>0</td>\n",
       "      <td>0</td>\n",
       "      <td>542</td>\n",
       "      <td>1</td>\n",
       "      <td>0</td>\n",
       "      <td>17698</td>\n",
       "      <td>2076</td>\n",
       "      <td>30</td>\n",
       "    </tr>\n",
       "    <tr>\n",
       "      <th>1</th>\n",
       "      <td>2744</td>\n",
       "      <td>1479317140</td>\n",
       "      <td>876497</td>\n",
       "      <td>99692</td>\n",
       "      <td>1</td>\n",
       "      <td>19851231</td>\n",
       "      <td>0</td>\n",
       "      <td>0</td>\n",
       "      <td>307</td>\n",
       "      <td>1</td>\n",
       "      <td>0</td>\n",
       "      <td>10525</td>\n",
       "      <td>26</td>\n",
       "      <td>28</td>\n",
       "    </tr>\n",
       "    <tr>\n",
       "      <th>2</th>\n",
       "      <td>2744</td>\n",
       "      <td>1479546361</td>\n",
       "      <td>876497</td>\n",
       "      <td>99692</td>\n",
       "      <td>1</td>\n",
       "      <td>19851231</td>\n",
       "      <td>0</td>\n",
       "      <td>0</td>\n",
       "      <td>307</td>\n",
       "      <td>1</td>\n",
       "      <td>0</td>\n",
       "      <td>8716</td>\n",
       "      <td>26</td>\n",
       "      <td>27</td>\n",
       "    </tr>\n",
       "    <tr>\n",
       "      <th>3</th>\n",
       "      <td>2744</td>\n",
       "      <td>1478457729</td>\n",
       "      <td>876500</td>\n",
       "      <td>99692</td>\n",
       "      <td>1</td>\n",
       "      <td>19851231</td>\n",
       "      <td>2</td>\n",
       "      <td>1</td>\n",
       "      <td>265</td>\n",
       "      <td>1</td>\n",
       "      <td>0</td>\n",
       "      <td>5443</td>\n",
       "      <td>26</td>\n",
       "      <td>30</td>\n",
       "    </tr>\n",
       "    <tr>\n",
       "      <th>4</th>\n",
       "      <td>2744</td>\n",
       "      <td>1480448560</td>\n",
       "      <td>876504</td>\n",
       "      <td>99692</td>\n",
       "      <td>1</td>\n",
       "      <td>19851231</td>\n",
       "      <td>2</td>\n",
       "      <td>1</td>\n",
       "      <td>356</td>\n",
       "      <td>1</td>\n",
       "      <td>0</td>\n",
       "      <td>7600</td>\n",
       "      <td>26</td>\n",
       "      <td>29</td>\n",
       "    </tr>\n",
       "  </tbody>\n",
       "</table>\n",
       "</div>"
      ],
      "text/plain": [
       "   genre_id   ts_listen  media_id  album_id  context_type  release_date  \\\n",
       "0        50  1478104371    683078     82356             1      20021008   \n",
       "1      2744  1479317140    876497     99692             1      19851231   \n",
       "2      2744  1479546361    876497     99692             1      19851231   \n",
       "3      2744  1478457729    876500     99692             1      19851231   \n",
       "4      2744  1480448560    876504     99692             1      19851231   \n",
       "\n",
       "   platform_name  platform_family  media_duration  listen_type  user_gender  \\\n",
       "0              0                0             542            1            0   \n",
       "1              0                0             307            1            0   \n",
       "2              0                0             307            1            0   \n",
       "3              2                1             265            1            0   \n",
       "4              2                1             356            1            0   \n",
       "\n",
       "   user_id  artist_id  user_age  \n",
       "0    17698       2076        30  \n",
       "1    10525         26        28  \n",
       "2     8716         26        27  \n",
       "3     5443         26        30  \n",
       "4     7600         26        29  "
      ]
     },
     "execution_count": 5,
     "metadata": {},
     "output_type": "execute_result"
    }
   ],
   "source": [
    "test.head()"
   ]
  },
  {
   "cell_type": "code",
   "execution_count": 6,
   "metadata": {
    "ExecuteTime": {
     "end_time": "2017-04-17T13:55:31.652875",
     "start_time": "2017-04-17T13:55:31.588892"
    },
    "collapsed": false,
    "run_control": {
     "frozen": false,
     "read_only": false
    }
   },
   "outputs": [
    {
     "data": {
      "text/html": [
       "<div>\n",
       "<table border=\"1\" class=\"dataframe\">\n",
       "  <thead>\n",
       "    <tr style=\"text-align: right;\">\n",
       "      <th></th>\n",
       "      <th>genre_id</th>\n",
       "      <th>ts_listen</th>\n",
       "      <th>media_id</th>\n",
       "      <th>album_id</th>\n",
       "      <th>context_type</th>\n",
       "      <th>release_date</th>\n",
       "      <th>platform_name</th>\n",
       "      <th>platform_family</th>\n",
       "      <th>media_duration</th>\n",
       "      <th>listen_type</th>\n",
       "      <th>user_gender</th>\n",
       "      <th>user_id</th>\n",
       "      <th>artist_id</th>\n",
       "      <th>user_age</th>\n",
       "    </tr>\n",
       "  </thead>\n",
       "  <tbody>\n",
       "    <tr>\n",
       "      <th>0</th>\n",
       "      <td>25471</td>\n",
       "      <td>1480597215</td>\n",
       "      <td>222606</td>\n",
       "      <td>41774</td>\n",
       "      <td>12</td>\n",
       "      <td>20040704</td>\n",
       "      <td>1</td>\n",
       "      <td>0</td>\n",
       "      <td>223</td>\n",
       "      <td>0</td>\n",
       "      <td>0</td>\n",
       "      <td>9241</td>\n",
       "      <td>55164</td>\n",
       "      <td>29</td>\n",
       "    </tr>\n",
       "    <tr>\n",
       "      <th>1</th>\n",
       "      <td>25571</td>\n",
       "      <td>1480544735</td>\n",
       "      <td>250467</td>\n",
       "      <td>43941</td>\n",
       "      <td>0</td>\n",
       "      <td>20060301</td>\n",
       "      <td>2</td>\n",
       "      <td>1</td>\n",
       "      <td>171</td>\n",
       "      <td>0</td>\n",
       "      <td>0</td>\n",
       "      <td>16547</td>\n",
       "      <td>55830</td>\n",
       "      <td>30</td>\n",
       "    </tr>\n",
       "    <tr>\n",
       "      <th>2</th>\n",
       "      <td>16</td>\n",
       "      <td>1479563953</td>\n",
       "      <td>305197</td>\n",
       "      <td>48078</td>\n",
       "      <td>1</td>\n",
       "      <td>20140714</td>\n",
       "      <td>2</td>\n",
       "      <td>1</td>\n",
       "      <td>149</td>\n",
       "      <td>1</td>\n",
       "      <td>1</td>\n",
       "      <td>7665</td>\n",
       "      <td>2704</td>\n",
       "      <td>29</td>\n",
       "    </tr>\n",
       "    <tr>\n",
       "      <th>3</th>\n",
       "      <td>7</td>\n",
       "      <td>1480152098</td>\n",
       "      <td>900502</td>\n",
       "      <td>71521</td>\n",
       "      <td>0</td>\n",
       "      <td>20001030</td>\n",
       "      <td>0</td>\n",
       "      <td>0</td>\n",
       "      <td>240</td>\n",
       "      <td>0</td>\n",
       "      <td>1</td>\n",
       "      <td>1580</td>\n",
       "      <td>938</td>\n",
       "      <td>30</td>\n",
       "    </tr>\n",
       "    <tr>\n",
       "      <th>4</th>\n",
       "      <td>7</td>\n",
       "      <td>1478368974</td>\n",
       "      <td>542335</td>\n",
       "      <td>71718</td>\n",
       "      <td>0</td>\n",
       "      <td>20080215</td>\n",
       "      <td>0</td>\n",
       "      <td>0</td>\n",
       "      <td>150</td>\n",
       "      <td>0</td>\n",
       "      <td>1</td>\n",
       "      <td>1812</td>\n",
       "      <td>2939</td>\n",
       "      <td>24</td>\n",
       "    </tr>\n",
       "  </tbody>\n",
       "</table>\n",
       "</div>"
      ],
      "text/plain": [
       "   genre_id   ts_listen  media_id  album_id  context_type  release_date  \\\n",
       "0     25471  1480597215    222606     41774            12      20040704   \n",
       "1     25571  1480544735    250467     43941             0      20060301   \n",
       "2        16  1479563953    305197     48078             1      20140714   \n",
       "3         7  1480152098    900502     71521             0      20001030   \n",
       "4         7  1478368974    542335     71718             0      20080215   \n",
       "\n",
       "   platform_name  platform_family  media_duration  listen_type  user_gender  \\\n",
       "0              1                0             223            0            0   \n",
       "1              2                1             171            0            0   \n",
       "2              2                1             149            1            1   \n",
       "3              0                0             240            0            1   \n",
       "4              0                0             150            0            1   \n",
       "\n",
       "   user_id  artist_id  user_age  \n",
       "0     9241      55164        29  \n",
       "1    16547      55830        30  \n",
       "2     7665       2704        29  \n",
       "3     1580        938        30  \n",
       "4     1812       2939        24  "
      ]
     },
     "execution_count": 6,
     "metadata": {},
     "output_type": "execute_result"
    }
   ],
   "source": [
    "train.head()"
   ]
  },
  {
   "cell_type": "markdown",
   "metadata": {
    "collapsed": true,
    "run_control": {
     "frozen": false,
     "read_only": false
    }
   },
   "source": [
    "### Combined contains the common columns to the test and train set, in order to apply the same transformations on all the data"
   ]
  },
  {
   "cell_type": "code",
   "execution_count": 7,
   "metadata": {
    "ExecuteTime": {
     "end_time": "2017-04-17T13:55:35.593669",
     "start_time": "2017-04-17T13:55:33.947383"
    },
    "collapsed": false,
    "init_cell": true,
    "run_control": {
     "frozen": false,
     "read_only": false
    }
   },
   "outputs": [],
   "source": [
    "combined = train.append(test)\n",
    "combined.reset_index(inplace=True)\n",
    "combined.drop('index',inplace=True,axis=1)\n",
    "train['is_listened'] = target"
   ]
  },
  {
   "cell_type": "code",
   "execution_count": 8,
   "metadata": {
    "ExecuteTime": {
     "end_time": "2017-04-17T13:55:41.201483",
     "start_time": "2017-04-17T13:55:36.757196"
    },
    "collapsed": false,
    "init_cell": true,
    "run_control": {
     "frozen": false,
     "read_only": false
    }
   },
   "outputs": [
    {
     "data": {
      "text/html": [
       "<div>\n",
       "<table border=\"1\" class=\"dataframe\">\n",
       "  <thead>\n",
       "    <tr style=\"text-align: right;\">\n",
       "      <th></th>\n",
       "      <th>genre_id</th>\n",
       "      <th>ts_listen</th>\n",
       "      <th>media_id</th>\n",
       "      <th>album_id</th>\n",
       "      <th>context_type</th>\n",
       "      <th>release_date</th>\n",
       "      <th>platform_name</th>\n",
       "      <th>platform_family</th>\n",
       "      <th>media_duration</th>\n",
       "      <th>listen_type</th>\n",
       "      <th>user_gender</th>\n",
       "      <th>user_id</th>\n",
       "      <th>artist_id</th>\n",
       "      <th>user_age</th>\n",
       "    </tr>\n",
       "  </thead>\n",
       "  <tbody>\n",
       "    <tr>\n",
       "      <th>count</th>\n",
       "      <td>7.578752e+06</td>\n",
       "      <td>7.578752e+06</td>\n",
       "      <td>7.578752e+06</td>\n",
       "      <td>7.578752e+06</td>\n",
       "      <td>7.578752e+06</td>\n",
       "      <td>7.578752e+06</td>\n",
       "      <td>7.578752e+06</td>\n",
       "      <td>7.578752e+06</td>\n",
       "      <td>7.578752e+06</td>\n",
       "      <td>7.578752e+06</td>\n",
       "      <td>7.578752e+06</td>\n",
       "      <td>7.578752e+06</td>\n",
       "      <td>7.578752e+06</td>\n",
       "      <td>7.578752e+06</td>\n",
       "    </tr>\n",
       "    <tr>\n",
       "      <th>mean</th>\n",
       "      <td>2.243932e+03</td>\n",
       "      <td>1.479012e+09</td>\n",
       "      <td>7.838445e+07</td>\n",
       "      <td>8.134845e+06</td>\n",
       "      <td>2.359367e+00</td>\n",
       "      <td>2.011387e+07</td>\n",
       "      <td>4.731144e-01</td>\n",
       "      <td>2.556069e-01</td>\n",
       "      <td>2.311575e+02</td>\n",
       "      <td>3.086957e-01</td>\n",
       "      <td>3.937923e-01</td>\n",
       "      <td>4.052862e+03</td>\n",
       "      <td>1.500465e+06</td>\n",
       "      <td>2.431156e+01</td>\n",
       "    </tr>\n",
       "    <tr>\n",
       "      <th>std</th>\n",
       "      <td>1.308446e+04</td>\n",
       "      <td>1.188382e+07</td>\n",
       "      <td>5.133382e+07</td>\n",
       "      <td>5.459764e+06</td>\n",
       "      <td>4.656722e+00</td>\n",
       "      <td>7.569161e+04</td>\n",
       "      <td>7.350374e-01</td>\n",
       "      <td>5.480671e-01</td>\n",
       "      <td>7.997039e+01</td>\n",
       "      <td>4.619553e-01</td>\n",
       "      <td>4.885898e-01</td>\n",
       "      <td>3.972124e+03</td>\n",
       "      <td>2.519307e+06</td>\n",
       "      <td>3.768163e+00</td>\n",
       "    </tr>\n",
       "    <tr>\n",
       "      <th>min</th>\n",
       "      <td>0.000000e+00</td>\n",
       "      <td>1.000000e+00</td>\n",
       "      <td>2.000580e+05</td>\n",
       "      <td>1.976000e+03</td>\n",
       "      <td>0.000000e+00</td>\n",
       "      <td>1.900010e+07</td>\n",
       "      <td>0.000000e+00</td>\n",
       "      <td>0.000000e+00</td>\n",
       "      <td>0.000000e+00</td>\n",
       "      <td>0.000000e+00</td>\n",
       "      <td>0.000000e+00</td>\n",
       "      <td>0.000000e+00</td>\n",
       "      <td>1.000000e+00</td>\n",
       "      <td>1.800000e+01</td>\n",
       "    </tr>\n",
       "    <tr>\n",
       "      <th>25%</th>\n",
       "      <td>0.000000e+00</td>\n",
       "      <td>1.478461e+09</td>\n",
       "      <td>1.376614e+07</td>\n",
       "      <td>1.255467e+06</td>\n",
       "      <td>0.000000e+00</td>\n",
       "      <td>2.009123e+07</td>\n",
       "      <td>0.000000e+00</td>\n",
       "      <td>0.000000e+00</td>\n",
       "      <td>1.960000e+02</td>\n",
       "      <td>0.000000e+00</td>\n",
       "      <td>0.000000e+00</td>\n",
       "      <td>9.020000e+02</td>\n",
       "      <td>2.601000e+03</td>\n",
       "      <td>2.100000e+01</td>\n",
       "    </tr>\n",
       "    <tr>\n",
       "      <th>50%</th>\n",
       "      <td>3.000000e+00</td>\n",
       "      <td>1.479058e+09</td>\n",
       "      <td>9.374990e+07</td>\n",
       "      <td>9.519400e+06</td>\n",
       "      <td>1.000000e+00</td>\n",
       "      <td>2.014103e+07</td>\n",
       "      <td>0.000000e+00</td>\n",
       "      <td>0.000000e+00</td>\n",
       "      <td>2.220000e+02</td>\n",
       "      <td>0.000000e+00</td>\n",
       "      <td>0.000000e+00</td>\n",
       "      <td>2.747000e+03</td>\n",
       "      <td>1.941720e+05</td>\n",
       "      <td>2.500000e+01</td>\n",
       "    </tr>\n",
       "    <tr>\n",
       "      <th>75%</th>\n",
       "      <td>2.700000e+01</td>\n",
       "      <td>1.479743e+09</td>\n",
       "      <td>1.262328e+08</td>\n",
       "      <td>1.328944e+07</td>\n",
       "      <td>2.000000e+00</td>\n",
       "      <td>2.016061e+07</td>\n",
       "      <td>1.000000e+00</td>\n",
       "      <td>0.000000e+00</td>\n",
       "      <td>2.540000e+02</td>\n",
       "      <td>1.000000e+00</td>\n",
       "      <td>1.000000e+00</td>\n",
       "      <td>6.086000e+03</td>\n",
       "      <td>1.519461e+06</td>\n",
       "      <td>2.800000e+01</td>\n",
       "    </tr>\n",
       "    <tr>\n",
       "      <th>max</th>\n",
       "      <td>2.597310e+05</td>\n",
       "      <td>1.480637e+09</td>\n",
       "      <td>1.372601e+08</td>\n",
       "      <td>1.472086e+07</td>\n",
       "      <td>7.300000e+01</td>\n",
       "      <td>3.000010e+07</td>\n",
       "      <td>2.000000e+00</td>\n",
       "      <td>2.000000e+00</td>\n",
       "      <td>6.553500e+04</td>\n",
       "      <td>1.000000e+00</td>\n",
       "      <td>1.000000e+00</td>\n",
       "      <td>1.991700e+04</td>\n",
       "      <td>1.144741e+07</td>\n",
       "      <td>3.000000e+01</td>\n",
       "    </tr>\n",
       "  </tbody>\n",
       "</table>\n",
       "</div>"
      ],
      "text/plain": [
       "           genre_id     ts_listen      media_id      album_id  context_type  \\\n",
       "count  7.578752e+06  7.578752e+06  7.578752e+06  7.578752e+06  7.578752e+06   \n",
       "mean   2.243932e+03  1.479012e+09  7.838445e+07  8.134845e+06  2.359367e+00   \n",
       "std    1.308446e+04  1.188382e+07  5.133382e+07  5.459764e+06  4.656722e+00   \n",
       "min    0.000000e+00  1.000000e+00  2.000580e+05  1.976000e+03  0.000000e+00   \n",
       "25%    0.000000e+00  1.478461e+09  1.376614e+07  1.255467e+06  0.000000e+00   \n",
       "50%    3.000000e+00  1.479058e+09  9.374990e+07  9.519400e+06  1.000000e+00   \n",
       "75%    2.700000e+01  1.479743e+09  1.262328e+08  1.328944e+07  2.000000e+00   \n",
       "max    2.597310e+05  1.480637e+09  1.372601e+08  1.472086e+07  7.300000e+01   \n",
       "\n",
       "       release_date  platform_name  platform_family  media_duration  \\\n",
       "count  7.578752e+06   7.578752e+06     7.578752e+06    7.578752e+06   \n",
       "mean   2.011387e+07   4.731144e-01     2.556069e-01    2.311575e+02   \n",
       "std    7.569161e+04   7.350374e-01     5.480671e-01    7.997039e+01   \n",
       "min    1.900010e+07   0.000000e+00     0.000000e+00    0.000000e+00   \n",
       "25%    2.009123e+07   0.000000e+00     0.000000e+00    1.960000e+02   \n",
       "50%    2.014103e+07   0.000000e+00     0.000000e+00    2.220000e+02   \n",
       "75%    2.016061e+07   1.000000e+00     0.000000e+00    2.540000e+02   \n",
       "max    3.000010e+07   2.000000e+00     2.000000e+00    6.553500e+04   \n",
       "\n",
       "        listen_type   user_gender       user_id     artist_id      user_age  \n",
       "count  7.578752e+06  7.578752e+06  7.578752e+06  7.578752e+06  7.578752e+06  \n",
       "mean   3.086957e-01  3.937923e-01  4.052862e+03  1.500465e+06  2.431156e+01  \n",
       "std    4.619553e-01  4.885898e-01  3.972124e+03  2.519307e+06  3.768163e+00  \n",
       "min    0.000000e+00  0.000000e+00  0.000000e+00  1.000000e+00  1.800000e+01  \n",
       "25%    0.000000e+00  0.000000e+00  9.020000e+02  2.601000e+03  2.100000e+01  \n",
       "50%    0.000000e+00  0.000000e+00  2.747000e+03  1.941720e+05  2.500000e+01  \n",
       "75%    1.000000e+00  1.000000e+00  6.086000e+03  1.519461e+06  2.800000e+01  \n",
       "max    1.000000e+00  1.000000e+00  1.991700e+04  1.144741e+07  3.000000e+01  "
      ]
     },
     "execution_count": 8,
     "metadata": {},
     "output_type": "execute_result"
    }
   ],
   "source": [
    "combined.describe()"
   ]
  },
  {
   "cell_type": "code",
   "execution_count": 9,
   "metadata": {
    "ExecuteTime": {
     "end_time": "2017-04-17T13:55:44.255517",
     "start_time": "2017-04-17T13:55:44.251721"
    },
    "collapsed": false,
    "init_cell": true,
    "run_control": {
     "frozen": false,
     "read_only": false
    }
   },
   "outputs": [],
   "source": [
    "# Took the data from \"input.csv\"\n",
    "\n",
    "# How to process it?\n",
    "\n",
    "# Genre_id, media_id, album_id, user_id, artist_id -> aggregate (e.g. count)\n",
    "# Ts_listen, release_date: date under 2 different formats -> put to same format\n",
    "# Context_type -> one-hot-encode\n",
    "# Platform_name, platform_family -> one-hot encode? Aggregate?\n",
    "# Media_duration -> this one seems simple, keep as is\n",
    "# Listen_type -> probably keep as is, but not sure\n",
    "# User_gender -> keep as is (sexism!)\n",
    "# User_age -> keep as is\n",
    "\n",
    "# Other ideas: compute mean length for an album, an artist, a genre, mean of is_listened for each user, each artist, etc using the date \n",
    "# Using the date, we can compute the number of songs he listened in a row\n",
    "\n",
    "# I think the key here is correctly using the information about artist, etc...\n"
   ]
  },
  {
   "cell_type": "markdown",
   "metadata": {
    "run_control": {
     "frozen": false,
     "read_only": false
    }
   },
   "source": [
    "<h1> II. Feature Preparation </h1>"
   ]
  },
  {
   "cell_type": "code",
   "execution_count": 10,
   "metadata": {
    "ExecuteTime": {
     "end_time": "2017-04-17T13:55:44.595626",
     "start_time": "2017-04-17T13:55:44.593582"
    },
    "collapsed": false,
    "init_cell": true,
    "run_control": {
     "frozen": false,
     "read_only": false
    }
   },
   "outputs": [],
   "source": [
    "# def medianNan(s):\n",
    "#     global combined\n",
    "#     combined[s].fillna(np.median(combined[~np.isnan(combined[s])][s]), inplace=True)"
   ]
  },
  {
   "cell_type": "markdown",
   "metadata": {
    "collapsed": true,
    "run_control": {
     "frozen": false,
     "read_only": false
    }
   },
   "source": [
    "### Filling NaN values with the median of the column"
   ]
  },
  {
   "cell_type": "code",
   "execution_count": 11,
   "metadata": {
    "ExecuteTime": {
     "end_time": "2017-04-17T13:55:45.083585",
     "start_time": "2017-04-17T13:55:45.081555"
    },
    "collapsed": false,
    "init_cell": true,
    "run_control": {
     "frozen": false,
     "read_only": false
    }
   },
   "outputs": [],
   "source": [
    "# for s in combined.columns[1:]:\n",
    "# #     print(s,type(combined[s][0]))\n",
    "#     medianNan(s)"
   ]
  },
  {
   "cell_type": "markdown",
   "metadata": {
    "run_control": {
     "frozen": false,
     "read_only": false
    }
   },
   "source": [
    "### Dealing with categoricals"
   ]
  },
  {
   "cell_type": "code",
   "execution_count": 12,
   "metadata": {
    "ExecuteTime": {
     "end_time": "2017-04-17T13:55:46.208889",
     "start_time": "2017-04-17T13:55:46.206758"
    },
    "collapsed": false,
    "init_cell": true,
    "run_control": {
     "frozen": false,
     "read_only": false
    }
   },
   "outputs": [],
   "source": [
    "categorical = ['platform_name', 'platform_family'] ## 'context_type' TOO BIG! (MemoryError)"
   ]
  },
  {
   "cell_type": "code",
   "execution_count": 13,
   "metadata": {
    "ExecuteTime": {
     "end_time": "2017-04-17T13:55:46.565877",
     "start_time": "2017-04-17T13:55:46.562572"
    },
    "collapsed": false,
    "init_cell": true,
    "run_control": {
     "frozen": false,
     "read_only": false
    }
   },
   "outputs": [],
   "source": [
    "def dummify(variable):\n",
    "    global combined\n",
    "    local_dummies = pd.get_dummies(combined[variable],prefix=variable)\n",
    "    combined = pd.concat([combined,local_dummies],axis=1)\n",
    "    combined.drop(variable,axis=1,inplace=True)"
   ]
  },
  {
   "cell_type": "code",
   "execution_count": 14,
   "metadata": {
    "ExecuteTime": {
     "end_time": "2017-04-17T13:55:49.705309",
     "start_time": "2017-04-17T13:55:46.891493"
    },
    "collapsed": false,
    "init_cell": true,
    "run_control": {
     "frozen": false,
     "read_only": false
    }
   },
   "outputs": [],
   "source": [
    "for s in categorical:\n",
    "    dummify(s)"
   ]
  },
  {
   "cell_type": "markdown",
   "metadata": {
    "run_control": {
     "frozen": false,
     "read_only": false
    }
   },
   "source": [
    "## DATA VISUALISATION"
   ]
  },
  {
   "cell_type": "markdown",
   "metadata": {
    "run_control": {
     "frozen": false,
     "read_only": false
    }
   },
   "source": [
    "### Same user ID's in test and train"
   ]
  },
  {
   "cell_type": "code",
   "execution_count": 15,
   "metadata": {
    "ExecuteTime": {
     "end_time": "2017-04-17T13:55:49.794876",
     "start_time": "2017-04-17T13:55:49.706996"
    },
    "collapsed": false,
    "run_control": {
     "frozen": false,
     "read_only": false
    }
   },
   "outputs": [
    {
     "data": {
      "text/plain": [
       "True"
      ]
     },
     "execution_count": 15,
     "metadata": {},
     "output_type": "execute_result"
    }
   ],
   "source": [
    "sorted(train['user_id'].unique()) == sorted(test['user_id'].unique())"
   ]
  },
  {
   "cell_type": "markdown",
   "metadata": {
    "run_control": {
     "frozen": false,
     "read_only": false
    }
   },
   "source": [
    "### listen_type == 1 in test set (apart from one value)"
   ]
  },
  {
   "cell_type": "code",
   "execution_count": 16,
   "metadata": {
    "ExecuteTime": {
     "end_time": "2017-04-17T13:55:50.280323",
     "start_time": "2017-04-17T13:55:50.139993"
    },
    "collapsed": false,
    "run_control": {
     "frozen": false,
     "read_only": false
    }
   },
   "outputs": [
    {
     "data": {
      "text/plain": [
       "1"
      ]
     },
     "execution_count": 16,
     "metadata": {},
     "output_type": "execute_result"
    }
   ],
   "source": [
    "sorted(test['listen_type'])[1]"
   ]
  },
  {
   "cell_type": "markdown",
   "metadata": {
    "run_control": {
     "frozen": false,
     "read_only": false
    }
   },
   "source": [
    "<h1> III. Feature Engineering </h1>"
   ]
  },
  {
   "cell_type": "markdown",
   "metadata": {},
   "source": [
    "## Song length > 30s?"
   ]
  },
  {
   "cell_type": "code",
   "execution_count": 33,
   "metadata": {
    "ExecuteTime": {
     "end_time": "2017-04-17T14:04:11.540430",
     "start_time": "2017-04-17T14:04:11.516706"
    },
    "collapsed": true
   },
   "outputs": [],
   "source": [
    "combined['sufficient_length'] = combined['media_duration'] > 30"
   ]
  },
  {
   "cell_type": "markdown",
   "metadata": {
    "run_control": {
     "frozen": false,
     "read_only": false
    }
   },
   "source": [
    "## Genre_id, media_id, album_id, user_id, artist_id -> aggregate (e.g. count)"
   ]
  },
  {
   "cell_type": "markdown",
   "metadata": {
    "run_control": {
     "frozen": false,
     "read_only": false
    }
   },
   "source": [
    "### Mean of is_listened by user on flow or not"
   ]
  },
  {
   "cell_type": "code",
   "execution_count": 26,
   "metadata": {
    "ExecuteTime": {
     "end_time": "2017-04-17T14:02:17.505759",
     "start_time": "2017-04-17T14:02:16.631309"
    },
    "collapsed": false,
    "run_control": {
     "frozen": false,
     "read_only": false
    }
   },
   "outputs": [],
   "source": [
    "avrg_listened_user = train.groupby(['user_id'])['is_listened'].mean()\n",
    "avrg_listened_user_flow = train[train['listen_type'] == 1].groupby(['user_id'])['is_listened'].mean()\n",
    "avrg_listened_user_noflow = train[train['listen_type'] == 0].groupby(['user_id'])['is_listened'].mean()"
   ]
  },
  {
   "cell_type": "code",
   "execution_count": 27,
   "metadata": {
    "ExecuteTime": {
     "end_time": "2017-04-17T14:02:17.509680",
     "start_time": "2017-04-17T14:02:17.507120"
    },
    "collapsed": false,
    "run_control": {
     "frozen": false,
     "read_only": false
    },
    "scrolled": false
   },
   "outputs": [],
   "source": [
    "avrg_listened_user.name = 'avrg_listened_user'\n",
    "avrg_listened_user_flow.name = 'avrg_listened_user_flow'\n",
    "avrg_listened_user_noflow.name = 'avrg_listened_user_noflow'"
   ]
  },
  {
   "cell_type": "code",
   "execution_count": 28,
   "metadata": {
    "ExecuteTime": {
     "end_time": "2017-04-17T14:02:17.568554",
     "start_time": "2017-04-17T14:02:17.510742"
    },
    "collapsed": false
   },
   "outputs": [],
   "source": [
    "# combined.drop('avrg_listened_user_flow', inplace = True, axis = 1)"
   ]
  },
  {
   "cell_type": "code",
   "execution_count": 29,
   "metadata": {
    "ExecuteTime": {
     "end_time": "2017-04-17T14:02:30.039136",
     "start_time": "2017-04-17T14:02:17.569881"
    },
    "collapsed": false,
    "run_control": {
     "frozen": false,
     "read_only": false
    }
   },
   "outputs": [],
   "source": [
    "combined = combined.join(avrg_listened_user, 'user_id', 'left')\n",
    "combined = combined.join(avrg_listened_user_flow, 'user_id', 'left')\n",
    "combined = combined.join(avrg_listened_user_noflow, 'user_id', 'left')"
   ]
  },
  {
   "cell_type": "code",
   "execution_count": 30,
   "metadata": {
    "ExecuteTime": {
     "end_time": "2017-04-17T14:02:31.453676",
     "start_time": "2017-04-17T14:02:30.896052"
    },
    "collapsed": true
   },
   "outputs": [],
   "source": [
    "combined['avrg_listened_user_flow'].fillna(combined['avrg_listened_user'], inplace=True)\n",
    "combined['avrg_listened_user_noflow'].fillna(combined['avrg_listened_user'], inplace=True)"
   ]
  },
  {
   "cell_type": "code",
   "execution_count": 31,
   "metadata": {
    "ExecuteTime": {
     "end_time": "2017-04-17T14:02:34.498670",
     "start_time": "2017-04-17T14:02:31.454994"
    },
    "collapsed": false
   },
   "outputs": [],
   "source": [
    "combined['avrg_listened_user_current'] = combined['avrg_listened_user_flow']*combined['listen_type'] + combined['avrg_listened_user_noflow']*(1-combined['listen_type'])"
   ]
  },
  {
   "cell_type": "markdown",
   "metadata": {
    "run_control": {
     "frozen": false,
     "read_only": false
    }
   },
   "source": [
    "## Ts_listen, release_date: date under 2 different formats -> put to same format"
   ]
  },
  {
   "cell_type": "markdown",
   "metadata": {
    "run_control": {
     "frozen": false,
     "read_only": false
    }
   },
   "source": [
    "## Other ideas: compute mean length for an album, an artist, a genre, mean of is_listened for each user, each artist, etc using the date "
   ]
  },
  {
   "cell_type": "markdown",
   "metadata": {
    "run_control": {
     "frozen": false,
     "read_only": false
    }
   },
   "source": [
    "## Using the date, we can compute the number of songs he listened in a row"
   ]
  },
  {
   "cell_type": "markdown",
   "metadata": {
    "run_control": {
     "frozen": false,
     "read_only": false
    }
   },
   "source": [
    "## CENTER DATA"
   ]
  },
  {
   "cell_type": "code",
   "execution_count": 16,
   "metadata": {
    "ExecuteTime": {
     "end_time": "2017-04-16T21:31:41.065743",
     "start_time": "2017-04-16T21:31:34.386939"
    },
    "collapsed": false,
    "init_cell": true,
    "run_control": {
     "frozen": false,
     "read_only": false
    }
   },
   "outputs": [],
   "source": [
    "for _ in combined.columns[1:]:\n",
    "    if np.std(combined[_][:len(train)]) != 0:\n",
    "        combined[_] = (combined[_] - np.mean(combined[_][:len(train)]))/np.std(combined[_][:len(train)])"
   ]
  },
  {
   "cell_type": "markdown",
   "metadata": {
    "run_control": {
     "frozen": false,
     "read_only": false
    }
   },
   "source": [
    "<h1> IV. Modeling </h1>"
   ]
  },
  {
   "cell_type": "markdown",
   "metadata": {
    "run_control": {
     "frozen": false,
     "read_only": false
    }
   },
   "source": [
    "## Separate the modified train and test sets"
   ]
  },
  {
   "cell_type": "code",
   "execution_count": 17,
   "metadata": {
    "ExecuteTime": {
     "end_time": "2017-04-16T21:31:59.986965",
     "start_time": "2017-04-16T21:31:41.067128"
    },
    "collapsed": false,
    "run_control": {
     "frozen": false,
     "read_only": false
    }
   },
   "outputs": [],
   "source": [
    "newtrain = combined[:len(train)]\n",
    "newtest = combined[len(train):]"
   ]
  },
  {
   "cell_type": "markdown",
   "metadata": {
    "run_control": {
     "frozen": false,
     "read_only": false
    }
   },
   "source": [
    "## A function to visualize the importance of the features"
   ]
  },
  {
   "cell_type": "code",
   "execution_count": 18,
   "metadata": {
    "ExecuteTime": {
     "end_time": "2017-04-16T21:32:03.555242",
     "start_time": "2017-04-16T21:32:02.401905"
    },
    "code_folding": [],
    "collapsed": false,
    "run_control": {
     "frozen": false,
     "read_only": false
    }
   },
   "outputs": [],
   "source": [
    "def importanceVisualisation(feature_importance, predictors, firstN = 40):\n",
    "    \n",
    "    plt.rcParams[\"figure.figsize\"] = [40,10]\n",
    "    # make importances relative to max importance\n",
    "    feature_importance = 100.0 * (feature_importance / feature_importance.max())\n",
    "    sorted_idx = np.argsort(feature_importance)\n",
    "    pos = np.arange(sorted_idx.shape[0]) + .5\n",
    "    plt.subplot(1, 2, 2)\n",
    "    plt.bar(pos[-firstN:], feature_importance[sorted_idx][-firstN:], align='center')\n",
    "    plt.xticks(pos[-firstN:], predictors[sorted_idx][-firstN:], rotation='vertical')\n",
    "    plt.ylabel('Relative Importance')\n",
    "    plt.title('Variable Importance')\n",
    "    plt.show()"
   ]
  },
  {
   "cell_type": "markdown",
   "metadata": {
    "run_control": {
     "frozen": false,
     "read_only": false
    }
   },
   "source": [
    "<h1> IV - 1. Gradient Boosting </h1>"
   ]
  },
  {
   "cell_type": "code",
   "execution_count": 19,
   "metadata": {
    "ExecuteTime": {
     "end_time": "2017-04-16T21:32:05.738353",
     "start_time": "2017-04-16T21:32:03.572719"
    },
    "collapsed": false,
    "run_control": {
     "frozen": false,
     "read_only": false
    }
   },
   "outputs": [],
   "source": [
    "from sklearn import ensemble\n",
    "params = {'n_estimators': 1000, 'max_depth': 4, 'min_samples_split': 2,\n",
    "          'learning_rate': 0.01, 'loss': 'huber', 'verbose':1}\n",
    "gbr = ensemble.GradientBoostingRegressor(**params)"
   ]
  },
  {
   "cell_type": "code",
   "execution_count": 20,
   "metadata": {
    "ExecuteTime": {
     "end_time": "2017-04-17T02:22:27.236781",
     "start_time": "2017-04-16T21:32:05.739662"
    },
    "collapsed": false,
    "run_control": {
     "frozen": false,
     "read_only": false
    }
   },
   "outputs": [
    {
     "name": "stdout",
     "output_type": "stream",
     "text": [
      "      Iter       Train Loss   Remaining Time \n",
      "         1           0.1568          378.93m\n",
      "         2           0.1557          342.92m\n",
      "         3           0.1546          328.38m\n",
      "         4           0.1536          320.11m\n",
      "         5           0.1525          316.29m\n",
      "         6           0.1515          311.78m\n",
      "         7           0.1505          308.00m\n",
      "         8           0.1495          305.79m\n",
      "         9           0.1486          303.54m\n",
      "        10           0.1477          302.15m\n",
      "        20           0.1394          293.12m\n",
      "        30           0.1327          288.65m\n",
      "        40           0.1273          286.96m\n",
      "        50           0.1229          285.45m\n",
      "        60           0.1194          285.08m\n",
      "        70           0.1164          282.37m\n",
      "        80           0.1139          276.96m\n",
      "        90           0.1119          272.27m\n",
      "       100           0.1103          269.10m\n",
      "       200           0.1029          244.39m\n",
      "       300           0.1013          213.64m\n",
      "       400           0.1008          178.84m\n",
      "       500           0.1005          147.30m\n",
      "       600           0.1003          116.77m\n",
      "       700           0.1002           87.01m\n",
      "       800           0.1001           57.74m\n",
      "       900           0.0999           28.88m\n",
      "      1000           0.0999            0.00s\n"
     ]
    },
    {
     "data": {
      "text/plain": [
       "GradientBoostingRegressor(alpha=0.9, criterion='friedman_mse', init=None,\n",
       "             learning_rate=0.01, loss='huber', max_depth=4,\n",
       "             max_features=None, max_leaf_nodes=None,\n",
       "             min_impurity_split=1e-07, min_samples_leaf=1,\n",
       "             min_samples_split=2, min_weight_fraction_leaf=0.0,\n",
       "             n_estimators=1000, presort='auto', random_state=None,\n",
       "             subsample=1.0, verbose=1, warm_start=False)"
      ]
     },
     "execution_count": 20,
     "metadata": {},
     "output_type": "execute_result"
    }
   ],
   "source": [
    "gbr.fit(newtrain, target)"
   ]
  },
  {
   "cell_type": "code",
   "execution_count": 21,
   "metadata": {
    "ExecuteTime": {
     "end_time": "2017-04-17T02:22:36.697121",
     "start_time": "2017-04-17T02:22:27.414530"
    },
    "collapsed": false,
    "run_control": {
     "frozen": false,
     "read_only": false
    }
   },
   "outputs": [
    {
     "data": {
      "image/png": "[encoded data removed]",
      "text/plain": [
       "<matplotlib.figure.Figure at 0x7ff35a9a97b8>"
      ]
     },
     "metadata": {},
     "output_type": "display_data"
    }
   ],
   "source": [
    "importanceVisualisation(gbr.feature_importances_, newtrain.columns)"
   ]
  },
  {
   "cell_type": "markdown",
   "metadata": {
    "run_control": {
     "frozen": false,
     "read_only": false
    }
   },
   "source": [
    "<h1> IV - 2. XGBoost </h1>"
   ]
  },
  {
   "cell_type": "code",
   "execution_count": 22,
   "metadata": {
    "ExecuteTime": {
     "end_time": "2017-04-17T02:22:37.245908",
     "start_time": "2017-04-17T02:22:36.708113"
    },
    "collapsed": false,
    "run_control": {
     "frozen": false,
     "read_only": false
    }
   },
   "outputs": [],
   "source": [
    "from sklearn.model_selection import cross_val_predict\n",
    "\n",
    "def modelfit(alg, dtrain, predictors,useTrainCV=True, cv_folds=5, early_stopping_rounds=50, plot = False):\n",
    "    \n",
    "    if useTrainCV:\n",
    "        xgb_param = alg.get_xgb_params()\n",
    "        xgtrain = xgb.DMatrix(dtrain[predictors].values, label=target.values)\n",
    "        cvresult = xgb.cv(xgb_param, xgtrain, num_boost_round=alg.get_params()['n_estimators'], nfold=cv_folds,\n",
    "            metrics='auc', early_stopping_rounds=early_stopping_rounds)\n",
    "        alg.set_params(n_estimators=cvresult.shape[0])\n",
    "    \n",
    "    #Fit the algorithm on the data\n",
    "    alg.fit(dtrain[predictors], target, eval_metric='auc')\n",
    "        \n",
    "    #Predict training set:\n",
    "    dtrain_predictions = alg.predict(dtrain[predictors])\n",
    "    dtrain_predprob = alg.predict_proba(dtrain[predictors])[:,1]\n",
    "        \n",
    "    #Print model report:\n",
    "    print(\"\\nModel Report\")\n",
    "    print(\"Accuracy : %.4g\" % metrics.accuracy_score(target.values, dtrain_predictions))\n",
    "    print(\"AUC Score (Train): %f\" % metrics.roc_auc_score(target, dtrain_predprob))\n",
    "    predicted_cv = cross_val_predict(alg, dtrain, target, cv = 5, n_jobs = -1)\n",
    "    print('AUC Score (CV):',metrics.roc_auc_score(target, predicted_cv))\n",
    "    \n",
    "    if plot:\n",
    "        importanceVisualisation(pd.Series(alg.booster().get_fscore()), predictors)"
   ]
  },
  {
   "cell_type": "code",
   "execution_count": 27,
   "metadata": {
    "ExecuteTime": {
     "end_time": "2017-04-16T20:28:35.517307",
     "start_time": "2017-04-16T20:28:35.470792"
    },
    "collapsed": false,
    "run_control": {
     "frozen": false,
     "read_only": false
    }
   },
   "outputs": [],
   "source": [
    "predictors = newtrain.columns"
   ]
  },
  {
   "cell_type": "markdown",
   "metadata": {
    "run_control": {
     "frozen": false,
     "read_only": false
    }
   },
   "source": [
    "## FIRST MODEL"
   ]
  },
  {
   "cell_type": "code",
   "execution_count": null,
   "metadata": {
    "ExecuteTime": {
     "end_time": "2017-04-16T17:57:02.387420",
     "start_time": "2017-04-16T11:56:06.143Z"
    },
    "collapsed": false,
    "run_control": {
     "frozen": false,
     "read_only": false
    }
   },
   "outputs": [],
   "source": [
    "xgb1 = XGBClassifier(\n",
    " learning_rate =0.1,\n",
    " n_estimators=1000,\n",
    " max_depth=5,\n",
    " min_child_weight=1,\n",
    " gamma=0,\n",
    " subsample=0.8,\n",
    " colsample_bytree=0.8,\n",
    " objective= 'binary:logistic',\n",
    " nthread=-1,\n",
    " scale_pos_weight=1,\n",
    " seed=27)\n",
    "modelfit(xgb1, newtrain, predictors)"
   ]
  },
  {
   "cell_type": "markdown",
   "metadata": {
    "run_control": {
     "frozen": false,
     "read_only": false
    }
   },
   "source": [
    "## GRID SEARCH ON XGBOOST TO FIND THE BEST PARAMETERS (VERY LONG)"
   ]
  },
  {
   "cell_type": "markdown",
   "metadata": {
    "run_control": {
     "frozen": false,
     "read_only": false
    }
   },
   "source": [
    "## Grid search on 'max_depth' and 'min_child_weight'"
   ]
  },
  {
   "cell_type": "code",
   "execution_count": null,
   "metadata": {
    "ExecuteTime": {
     "end_time": "2017-04-16T17:57:02.387739",
     "start_time": "2017-04-16T11:56:06.162Z"
    },
    "collapsed": false,
    "run_control": {
     "frozen": false,
     "read_only": false
    }
   },
   "outputs": [],
   "source": [
    "# param_test1 = {\n",
    "#  'max_depth':np.array(range(3,10,2)),\n",
    "#  'min_child_weight':np.array(range(1,6,2))\n",
    "# }\n",
    "# gsearch1 = GridSearchCV(estimator = XGBClassifier( learning_rate =0.1, n_estimators=140, max_depth=5,\n",
    "#  min_child_weight=1, gamma=0, subsample=0.8, colsample_bytree=0.8,\n",
    "#  objective= 'binary:logistic', nthread=4, scale_pos_weight=1, seed=27), \n",
    "#  param_grid = param_test1, scoring='roc_auc',n_jobs=-1,iid=False, cv=5)\n",
    "# gsearch1.fit(newtrain[predictors],target)\n",
    "# gsearch1.grid_scores_, gsearch1.best_params_, gsearch1.best_score_"
   ]
  },
  {
   "cell_type": "markdown",
   "metadata": {
    "run_control": {
     "frozen": false,
     "read_only": false
    }
   },
   "source": [
    "## Finer grid search on 'max_depth' and 'min_child_weight'"
   ]
  },
  {
   "cell_type": "code",
   "execution_count": null,
   "metadata": {
    "ExecuteTime": {
     "end_time": "2017-04-16T17:57:02.388042",
     "start_time": "2017-04-16T11:56:06.182Z"
    },
    "collapsed": false,
    "run_control": {
     "frozen": false,
     "read_only": false
    }
   },
   "outputs": [],
   "source": [
    "# param_test2 = {\n",
    "#  'max_depth':[2,3,4],\n",
    "#  'min_child_weight':[2,3,4]\n",
    "# }\n",
    "# gsearch2 = GridSearchCV(estimator = XGBClassifier( learning_rate=0.1, n_estimators=140, max_depth=5,\n",
    "#  min_child_weight=2, gamma=0, subsample=0.8, colsample_bytree=0.8,\n",
    "#  objective= 'binary:logistic', nthread=-1, scale_pos_weight=1,seed=27), \n",
    "#  param_grid = param_test2, scoring='roc_auc',n_jobs=-1,iid=False, cv=5)\n",
    "# gsearch2.fit(newtrain[predictors],target)\n",
    "# gsearch2.grid_scores_, gsearch2.best_params_, gsearch2.best_score_"
   ]
  },
  {
   "cell_type": "markdown",
   "metadata": {
    "run_control": {
     "frozen": false,
     "read_only": false
    }
   },
   "source": [
    "## Grid search on 'gamma'"
   ]
  },
  {
   "cell_type": "code",
   "execution_count": null,
   "metadata": {
    "ExecuteTime": {
     "end_time": "2017-04-16T17:57:02.388367",
     "start_time": "2017-04-16T11:56:06.189Z"
    },
    "collapsed": false,
    "run_control": {
     "frozen": false,
     "read_only": false
    }
   },
   "outputs": [],
   "source": [
    "# param_test3 = {\n",
    "#  'gamma':[i/10.0 for i in range(0,5)]\n",
    "# }\n",
    "# gsearch3 = GridSearchCV(estimator = XGBClassifier( learning_rate =0.1, n_estimators=140, max_depth=4,\n",
    "#  min_child_weight=4, gamma=0, subsample=0.8, colsample_bytree=0.8,\n",
    "#  objective= 'binary:logistic', nthread=-1, scale_pos_weight=1,seed=27), \n",
    "#  param_grid = param_test3, scoring='roc_auc',n_jobs=-1,iid=False, cv=5)\n",
    "# gsearch3.fit(newtrain[predictors],target)\n",
    "# gsearch3.grid_scores_, gsearch3.best_params_, gsearch3.best_score_"
   ]
  },
  {
   "cell_type": "markdown",
   "metadata": {
    "run_control": {
     "frozen": false,
     "read_only": false
    }
   },
   "source": [
    "## Grid search on 'subsample' and 'colsample_bytree'"
   ]
  },
  {
   "cell_type": "code",
   "execution_count": null,
   "metadata": {
    "ExecuteTime": {
     "end_time": "2017-04-16T17:57:02.388665",
     "start_time": "2017-04-16T11:56:06.195Z"
    },
    "collapsed": false,
    "run_control": {
     "frozen": false,
     "read_only": false
    }
   },
   "outputs": [],
   "source": [
    "# param_test4 = { \n",
    "#  'subsample':[i/10.0 for i in range(6,11)],\n",
    "#  'colsample_bytree':[i/10.0 for i in range(6,11)]\n",
    "# }\n",
    "# gsearch4 = GridSearchCV(estimator = XGBClassifier( learning_rate =0.1, n_estimators=140, max_depth=4,\n",
    "#  min_child_weight=4, gamma=0, subsample=0.8, colsample_bytree=0.8,\n",
    "#  objective= 'binary:logistic', nthread=-1, scale_pos_weight=1,seed=27), \n",
    "#  param_grid = param_test4, scoring='roc_auc',n_jobs=-1,iid=False, cv=5)\n",
    "# gsearch4.fit(newtrain[predictors],target)\n",
    "# gsearch4.grid_scores_, gsearch4.best_params_, gsearch4.best_score_"
   ]
  },
  {
   "cell_type": "markdown",
   "metadata": {
    "run_control": {
     "frozen": false,
     "read_only": false
    }
   },
   "source": [
    "## Grid search on 'reg_alpha'"
   ]
  },
  {
   "cell_type": "code",
   "execution_count": null,
   "metadata": {
    "ExecuteTime": {
     "end_time": "2017-04-16T17:57:02.388961",
     "start_time": "2017-04-16T11:56:06.217Z"
    },
    "collapsed": false,
    "run_control": {
     "frozen": false,
     "read_only": false
    }
   },
   "outputs": [],
   "source": [
    "# param_test6 = {\n",
    "#  'reg_alpha':[1e-5, 1e-2, 0.1, 1, 100]\n",
    "# }\n",
    "# gsearch6 = GridSearchCV(estimator = XGBClassifier( learning_rate =0.1, n_estimators=140, max_depth=4,\n",
    "#  min_child_weight=4, gamma=0, subsample=1.0, colsample_bytree=0.6,\n",
    "#  objective= 'binary:logistic', nthread=-1, scale_pos_weight=1,seed=27), \n",
    "#  param_grid = param_test6, scoring='roc_auc',n_jobs=-1,iid=False, cv=5)\n",
    "# gsearch6.fit(newtrain,target)\n",
    "# gsearch6.grid_scores_, gsearch6.best_params_, gsearch6.best_score_"
   ]
  },
  {
   "cell_type": "code",
   "execution_count": null,
   "metadata": {
    "ExecuteTime": {
     "end_time": "2017-04-16T17:57:02.389261",
     "start_time": "2017-04-16T11:56:06.227Z"
    },
    "collapsed": false,
    "run_control": {
     "frozen": false,
     "read_only": false
    }
   },
   "outputs": [],
   "source": [
    "# param_test7 = {\n",
    "#  'reg_alpha':[0.5,1,2,5,10]\n",
    "# }\n",
    "# gsearch7 = GridSearchCV(estimator = XGBClassifier( learning_rate =0.1, n_estimators=140, max_depth=4,\n",
    "#  min_child_weight=4, gamma=0, subsample=1.0, colsample_bytree=0.6,\n",
    "#  objective= 'binary:logistic', nthread=-1, scale_pos_weight=1,seed=27), \n",
    "#  param_grid = param_test7, scoring='roc_auc',n_jobs=-1,iid=False, cv=5)\n",
    "# gsearch7.fit(newtrain,target)\n",
    "# gsearch7.grid_scores_, gsearch7.best_params_, gsearch7.best_score_"
   ]
  },
  {
   "cell_type": "markdown",
   "metadata": {
    "run_control": {
     "frozen": false,
     "read_only": false
    }
   },
   "source": [
    "## Grid search on 'learning_rate' and 'n_estimators'"
   ]
  },
  {
   "cell_type": "code",
   "execution_count": 209,
   "metadata": {
    "collapsed": false,
    "run_control": {
     "frozen": true,
     "read_only": true
    }
   },
   "outputs": [
    {
     "data": {
      "text/plain": [
       "([mean: 0.80282, std: 0.00984, params: {'n_estimators': 1000, 'learning_rate': 0.1},\n",
       "  mean: 0.80199, std: 0.01003, params: {'n_estimators': 5000, 'learning_rate': 0.1},\n",
       "  mean: 0.80175, std: 0.01035, params: {'n_estimators': 10000, 'learning_rate': 0.1},\n",
       "  mean: 0.81651, std: 0.00992, params: {'n_estimators': 1000, 'learning_rate': 0.01},\n",
       "  mean: 0.80989, std: 0.00944, params: {'n_estimators': 5000, 'learning_rate': 0.01},\n",
       "  mean: 0.80797, std: 0.00966, params: {'n_estimators': 10000, 'learning_rate': 0.01},\n",
       "  mean: 0.81178, std: 0.00623, params: {'n_estimators': 1000, 'learning_rate': 0.001},\n",
       "  mean: 0.81843, std: 0.00840, params: {'n_estimators': 5000, 'learning_rate': 0.001},\n",
       "  mean: 0.81649, std: 0.00936, params: {'n_estimators': 10000, 'learning_rate': 0.001}],\n",
       " {'learning_rate': 0.001, 'n_estimators': 5000},\n",
       " 0.8184288230374144)"
      ]
     },
     "execution_count": 209,
     "metadata": {},
     "output_type": "execute_result"
    }
   ],
   "source": [
    "param_test8 = {\n",
    " 'learning_rate': [0.1,0.01,0.001],\n",
    " 'n_estimators': [1000,5000,10000]\n",
    "}\n",
    "gsearch8 = GridSearchCV(estimator = XGBClassifier( learning_rate =0.1, n_estimators=140, max_depth=5,\n",
    " min_child_weight=0, gamma=0.3, subsample=0.9, reg_alpha = 0.2, colsample_bytree=0.9,\n",
    " objective= 'binary:logistic', nthread=-1, scale_pos_weight=1,seed=40), \n",
    " param_grid = param_test8, scoring='roc_auc',n_jobs=-1,iid=False, cv=5)\n",
    "gsearch8.fit(newtrain,target)\n",
    "gsearch8.grid_scores_, gsearch8.best_params_, gsearch8.best_score_"
   ]
  },
  {
   "cell_type": "markdown",
   "metadata": {
    "run_control": {
     "frozen": false,
     "read_only": false
    }
   },
   "source": [
    "## FINAL MODEL"
   ]
  },
  {
   "cell_type": "code",
   "execution_count": 28,
   "metadata": {
    "ExecuteTime": {
     "end_time": "2017-04-16T20:28:44.617957",
     "start_time": "2017-04-16T20:28:44.611256"
    },
    "collapsed": false,
    "init_cell": true,
    "run_control": {
     "frozen": false,
     "read_only": false
    }
   },
   "outputs": [],
   "source": [
    "# XgbParams = {'learning_rate': 0.001, 'n_estimators':10000, 'max_depth':6, 'min_child_weight':3, 'gamma':0,\n",
    "#             'subsample':0.9, 'colsample_bytree':0.6, 'reg_alpha':1e-5, 'objective': 'binary:logistic',\n",
    "#              'nthread':-1, 'scale_pos_weight':1}\n",
    "\n",
    "XgbParams = {'learning_rate': 0.001, 'n_estimators':1000, 'max_depth':5, 'min_child_weight':0, 'gamma':0.3,\n",
    "            'subsample':0.9, 'colsample_bytree':0.9, 'reg_alpha':0.2, 'objective': 'binary:logistic',\n",
    "             'nthread':-1, 'scale_pos_weight':1}\n",
    "\n",
    "# XgbParams = {'learning_rate': 0.01, 'n_estimators':1000, 'max_depth':4, 'min_child_weight':4, 'gamma':0,\n",
    "#             'subsample':1, 'colsample_bytree':0.6, 'reg_alpha':1, 'objective': 'binary:logistic',\n",
    "#              'nthread':-1, 'scale_pos_weight':1}"
   ]
  },
  {
   "cell_type": "code",
   "execution_count": null,
   "metadata": {
    "ExecuteTime": {
     "start_time": "2017-04-16T18:28:44.776Z"
    },
    "collapsed": false,
    "run_control": {
     "frozen": false,
     "read_only": false
    }
   },
   "outputs": [],
   "source": [
    "xgb3 = XGBClassifier(**XgbParams, seed=27)\n",
    "modelfit(xgb3, newtrain, predictors, plot = False)"
   ]
  },
  {
   "cell_type": "code",
   "execution_count": 216,
   "metadata": {
    "collapsed": false,
    "hide_input": true,
    "run_control": {
     "frozen": true,
     "read_only": true
    }
   },
   "outputs": [
    {
     "name": "stdout",
     "output_type": "stream",
     "text": [
      "\n",
      "Model Report\n",
      "Accuracy : 0.7944\n",
      "AUC Score (Train): 0.885769\n",
      "AUC Score (CV): 0.721147862905\n"
     ]
    }
   ],
   "source": [
    "xgb3 = XGBClassifier(**XgbParams, seed=40)\n",
    "modelfit(xgb3, newtrain, predictors, plot = False)"
   ]
  },
  {
   "cell_type": "markdown",
   "metadata": {
    "run_control": {
     "frozen": false,
     "read_only": false
    }
   },
   "source": [
    "<h1> VI. Final Prediction </h1> (We take the best xgboost model here)"
   ]
  },
  {
   "cell_type": "code",
   "execution_count": 30,
   "metadata": {
    "ExecuteTime": {
     "end_time": "2017-04-17T11:54:32.125896",
     "start_time": "2017-04-17T11:54:31.727915"
    },
    "collapsed": false,
    "run_control": {
     "frozen": false,
     "read_only": false
    }
   },
   "outputs": [],
   "source": [
    "gbrpred = gbr.predict(newtest)\n",
    "df_output = pd.DataFrame()\n",
    "df_output['sample_id'] = IDtest\n",
    "df_output['is_listened'] = gbrpred\n",
    "df_output[['sample_id','is_listened']].to_csv('./predictions/GBRoutput.csv', sep = \",\", index=False)"
   ]
  },
  {
   "cell_type": "code",
   "execution_count": null,
   "metadata": {
    "collapsed": false,
    "run_control": {
     "frozen": false,
     "read_only": false
    }
   },
   "outputs": [],
   "source": []
  }
 ],
 "metadata": {
  "anaconda-cloud": {},
  "kernelspec": {
   "display_name": "Python [conda root]",
   "language": "python",
   "name": "conda-root-py"
  },
  "language_info": {
   "codemirror_mode": {
    "name": "ipython",
    "version": 3
   },
   "file_extension": ".py",
   "mimetype": "text/x-python",
   "name": "python",
   "nbconvert_exporter": "python",
   "pygments_lexer": "ipython3",
   "version": "3.5.2"
  },
  "latex_envs": {
   "LaTeX_envs_menu_present": true,
   "bibliofile": "biblio.bib",
   "cite_by": "apalike",
   "current_citInitial": 1,
   "eqLabelWithNumbers": true,
   "eqNumInitial": 1,
   "hotkeys": {
    "equation": "Ctrl-E",
    "itemize": "Ctrl-I"
   },
   "labels_anchors": false,
   "latex_user_defs": false,
   "report_style_numbering": false,
   "user_envs_cfg": false
  },
  "toc": {
   "colors": {
    "hover_highlight": "#DAA520",
    "running_highlight": "#FF0000",
    "selected_highlight": "#FFD700"
   },
   "moveMenuLeft": true,
   "nav_menu": {
    "height": "512px",
    "width": "252px"
   },
   "navigate_menu": true,
   "number_sections": true,
   "sideBar": true,
   "threshold": 4,
   "toc_cell": false,
   "toc_section_display": "block",
   "toc_window_display": false
  }
 },
 "nbformat": 4,
 "nbformat_minor": 1
}
