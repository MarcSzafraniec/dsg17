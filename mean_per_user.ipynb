{
 "cells": [
  {
   "cell_type": "code",
   "execution_count": 1,
   "metadata": {
    "ExecuteTime": {
     "end_time": "2017-04-16T22:29:37.267158",
     "start_time": "2017-04-16T22:29:36.717861"
    },
    "collapsed": true,
    "run_control": {
     "frozen": false,
     "read_only": false
    }
   },
   "outputs": [],
   "source": [
    "import pandas as pd\n",
    "import numpy as np\n",
    "from sklearn.metrics import roc_auc_score\n",
    "from sklearn import metrics\n",
    "import matplotlib.pyplot as plt\n",
    "from datetime import datetime"
   ]
  },
  {
   "cell_type": "code",
   "execution_count": 2,
   "metadata": {
    "ExecuteTime": {
     "end_time": "2017-04-16T22:29:50.344899",
     "start_time": "2017-04-16T22:29:37.755932"
    },
    "collapsed": false,
    "run_control": {
     "frozen": false,
     "read_only": false
    }
   },
   "outputs": [],
   "source": [
    "#Read data files\n",
    "test = pd.read_csv('test.csv')\n",
    "train = pd.read_csv('train.csv')\n",
    "sample_submission = pd.read_csv('sample_submission_kaggle.csv')\n",
    "extra_infos = pd.read_json('extra_infos.json',lines=True)"
   ]
  },
  {
   "cell_type": "code",
   "execution_count": 4,
   "metadata": {
    "ExecuteTime": {
     "end_time": "2017-04-16T22:51:59.201177",
     "start_time": "2017-04-16T22:51:59.170179"
    },
    "collapsed": false,
    "run_control": {
     "frozen": false,
     "read_only": false
    }
   },
   "outputs": [],
   "source": [
    "\n",
    "# This function computes the mean, for each user, of is_listened \n",
    "# (for flow only, and for all), and returns the original dataframe\n",
    "# with additionnal columns, 'avg_per_user_all' and 'avg_per_user_flow'\n",
    "# Remark: The second argument of the function can be train if we just \n",
    "#         want to add columns to train, but also to test for instance (to submit directly)\n",
    "# The function returns the dictionnaries list_users_frequency_all and list_users_frequency_flow,\n",
    "# and the uploaded dataframe (df with additionnal columns)\n",
    "def predict_with_user_frequency_given_flow(train,df):\n",
    "    list_users = test['user_id'].unique() #for which user, we will compute the frequency of listened in flow mode\n",
    "    \n",
    "    #Average on all songs\n",
    "    list_users_frequency_all = {}\n",
    "    print(\"Computation 1/2...\")\n",
    "    for i,user in enumerate(list_users):\n",
    "        if i % int(len(list_users)/20) == 0:\n",
    "            print('Computing ----- %f %%' % int(i*100/len(list_users)))\n",
    "        train_user = train.loc[train['user_id'] == user] #we select the user\n",
    "        frequency = train_user['is_listened'].mean()\n",
    "        list_users_frequency_all[user] = frequency\n",
    "        \n",
    "    \n",
    "    #Average on song with Flow (listen_type = 1)\n",
    "    list_users_frequency_flow = {}\n",
    "    print(\"Computation 2/2...\")\n",
    "    train_flow = train.loc[train['listen_type'] == 1]\n",
    "    for i,user in enumerate(list_users):\n",
    "        if i % int(len(list_users)/20) == 0:\n",
    "            print('Computing ----- %f %%' % int(i*100/len(list_users)))\n",
    "        train_flow_user = train_flow.loc[train_flow['user_id'] == user] #we select the user\n",
    "        \n",
    "        if len(train_flow_user) == 0: #user not in train_flow\n",
    "            #We take the frequency for non-flow (because we only have this information)\n",
    "            train_user = train.loc[train['user_id'] == user]\n",
    "            if len(train_flow_user) == 0: #user not either in train_flow\n",
    "                frequency = 1 #maybe put rather the mean frequency for all people?\n",
    "            else:\n",
    "                frequency = train_user['is_listened'].mean()\n",
    "        else: #Normal case\n",
    "            frequency = train_flow_user['is_listened'].mean()\n",
    "        list_users_frequency_flow[user] = frequency\n",
    "#     print(list_users_frequency)\n",
    "\n",
    "    #--------At this point, list_users_frequency_all and list_users_frequency_flow give-----------------\n",
    "    #--------us the correspondance between users and the frequencies that we were looking for-----------\n",
    "    \n",
    "    \n",
    "    #Create the new columns from list_users_frequency_all and list_users_frequency_flow\n",
    "    def predict_is_listened(row,list_users_frequency):\n",
    "        return list_users_frequency[row['user_id']]\n",
    "    df['avg_per_user_all'] = df.apply(lambda row: predict_is_listened(row,list_users_frequency_all),axis=1)\n",
    "    df['avg_per_user_flow'] = df.apply(lambda row: predict_is_listened(row,list_users_frequency_flow),axis=1)\n",
    "    return df,list_users_frequency_flow,list_users_frequency_all"
   ]
  },
  {
   "cell_type": "code",
   "execution_count": 7,
   "metadata": {
    "ExecuteTime": {
     "end_time": "2017-04-16T23:01:36.962847",
     "start_time": "2017-04-16T22:52:44.275285"
    },
    "collapsed": false
   },
   "outputs": [
    {
     "name": "stdout",
     "output_type": "stream",
     "text": [
      "Computation 1/2...\n",
      "Computing ----- 0.000000 %\n",
      "Computing ----- 4.000000 %\n",
      "Computing ----- 9.000000 %\n",
      "Computing ----- 14.000000 %\n",
      "Computing ----- 19.000000 %\n",
      "Computing ----- 24.000000 %\n",
      "Computing ----- 29.000000 %\n",
      "Computing ----- 34.000000 %\n",
      "Computing ----- 39.000000 %\n",
      "Computing ----- 44.000000 %\n",
      "Computing ----- 49.000000 %\n",
      "Computing ----- 54.000000 %\n",
      "Computing ----- 59.000000 %\n",
      "Computing ----- 64.000000 %\n",
      "Computing ----- 69.000000 %\n",
      "Computing ----- 74.000000 %\n",
      "Computing ----- 79.000000 %\n",
      "Computing ----- 84.000000 %\n",
      "Computing ----- 89.000000 %\n",
      "Computing ----- 94.000000 %\n",
      "Computing ----- 99.000000 %\n",
      "Computation 2/2...\n",
      "Computing ----- 0.000000 %\n",
      "Computing ----- 4.000000 %\n",
      "Computing ----- 9.000000 %\n",
      "Computing ----- 14.000000 %\n",
      "Computing ----- 19.000000 %\n",
      "Computing ----- 24.000000 %\n",
      "Computing ----- 29.000000 %\n",
      "Computing ----- 34.000000 %\n",
      "Computing ----- 39.000000 %\n",
      "Computing ----- 44.000000 %\n",
      "Computing ----- 49.000000 %\n",
      "Computing ----- 54.000000 %\n",
      "Computing ----- 59.000000 %\n",
      "Computing ----- 64.000000 %\n",
      "Computing ----- 69.000000 %\n",
      "Computing ----- 74.000000 %\n",
      "Computing ----- 79.000000 %\n",
      "Computing ----- 84.000000 %\n",
      "Computing ----- 89.000000 %\n",
      "Computing ----- 94.000000 %\n",
      "Computing ----- 99.000000 %\n"
     ]
    }
   ],
   "source": [
    "\n",
    "#Example\n",
    "new_train,list_users_frequency_flow,list_users_frequency_all =\\\n",
    "            predict_with_user_frequency_given_flow(train,train)\n",
    "#New train is the old train, with 2 new columns"
   ]
  },
  {
   "cell_type": "markdown",
   "metadata": {},
   "source": [
    "# Submission, using avg_per_user_flow: "
   ]
  },
  {
   "cell_type": "markdown",
   "metadata": {
    "ExecuteTime": {
     "end_time": "2017-04-16T23:18:01.324795",
     "start_time": "2017-04-16T23:18:01.322290"
    }
   },
   "source": [
    "## 1- Cross-validation"
   ]
  },
  {
   "cell_type": "code",
   "execution_count": 14,
   "metadata": {
    "ExecuteTime": {
     "end_time": "2017-04-16T23:32:19.366755",
     "start_time": "2017-04-16T23:28:01.453078"
    },
    "collapsed": false
   },
   "outputs": [
    {
     "name": "stdout",
     "output_type": "stream",
     "text": [
      "Computation 1/2...\n",
      "Computing ----- 0.000000 %\n",
      "Computing ----- 4.000000 %\n",
      "Computing ----- 9.000000 %\n",
      "Computing ----- 14.000000 %\n",
      "Computing ----- 19.000000 %\n",
      "Computing ----- 24.000000 %\n",
      "Computing ----- 29.000000 %\n",
      "Computing ----- 34.000000 %\n",
      "Computing ----- 39.000000 %\n",
      "Computing ----- 44.000000 %\n",
      "Computing ----- 49.000000 %\n",
      "Computing ----- 54.000000 %\n",
      "Computing ----- 59.000000 %\n",
      "Computing ----- 64.000000 %\n",
      "Computing ----- 69.000000 %\n",
      "Computing ----- 74.000000 %\n",
      "Computing ----- 79.000000 %\n",
      "Computing ----- 84.000000 %\n",
      "Computing ----- 89.000000 %\n",
      "Computing ----- 94.000000 %\n",
      "Computing ----- 99.000000 %\n",
      "Computation 2/2...\n",
      "Computing ----- 0.000000 %\n",
      "Computing ----- 4.000000 %\n",
      "Computing ----- 9.000000 %\n",
      "Computing ----- 14.000000 %\n",
      "Computing ----- 19.000000 %\n",
      "Computing ----- 24.000000 %\n",
      "Computing ----- 29.000000 %\n",
      "Computing ----- 34.000000 %\n",
      "Computing ----- 39.000000 %\n",
      "Computing ----- 44.000000 %\n",
      "Computing ----- 49.000000 %\n",
      "Computing ----- 54.000000 %\n",
      "Computing ----- 59.000000 %\n",
      "Computing ----- 64.000000 %\n",
      "Computing ----- 69.000000 %\n",
      "Computing ----- 74.000000 %\n",
      "Computing ----- 79.000000 %\n",
      "Computing ----- 84.000000 %\n",
      "Computing ----- 89.000000 %\n",
      "Computing ----- 94.000000 %\n",
      "Computing ----- 99.000000 %\n"
     ]
    }
   ],
   "source": [
    "#This function separates train_set from cross_validation_set as follows:\n",
    "# it separates songs in flow mode, and puts 20% in test_train.\n",
    "# The rest of the flow mode goes in train_train, with also all non-flow songs\n",
    "def separate_train_cross_val(train, ratio=0.8): \n",
    "#todo: What we want = separate in order to have once (and only once) each user in the test set\n",
    "    train_flow = train.loc[train['listen_type'] == 1]\n",
    "    train_non_flow = train.loc[train['listen_type'] == 0]\n",
    "    msk = np.random.rand(len(train_flow)) < ratio\n",
    "    train_train = pd.concat([train_flow[msk],train_non_flow])\n",
    "    test_train = train_flow[~msk] #cross validation set. Only has flow mode (i.e. listen_type = 1)\n",
    "    return train_train,test_train\n",
    "\n",
    "\n",
    "train_train,test_train = separate_train_cross_val(train)\n",
    "\n",
    "\n",
    "test_train,list_users_frequency_flow,list_users_frequency_all =\\\n",
    "        predict_with_user_frequency_given_flow(train_train,test_train)"
   ]
  },
  {
   "cell_type": "code",
   "execution_count": 16,
   "metadata": {
    "ExecuteTime": {
     "end_time": "2017-04-16T23:32:34.056750",
     "start_time": "2017-04-16T23:32:32.499078"
    },
    "collapsed": false
   },
   "outputs": [
    {
     "name": "stdout",
     "output_type": "stream",
     "text": [
      "ROC AUC = 0.839048994788\n",
      "[ 0.          0.0023829   0.0023829  ...,  0.99110455  0.99132558  1.        ]\n",
      "[ 0.          0.02111659  0.02237058 ...,  0.99930294  0.99930653  1.        ]\n",
      "[ 2.          1.          0.99927061 ...,  0.00595238  0.00574713  0.        ]\n"
     ]
    },
    {
     "data": {
      "image/png": "[encoded data removed]",
      "text/plain": [
       "<matplotlib.figure.Figure at 0x7fc29cb4b0f0>"
      ]
     },
     "metadata": {},
     "output_type": "display_data"
    }
   ],
   "source": [
    "prediction = test_train['avg_per_user_flow']\n",
    "\n",
    "\n",
    "y_true = test_train['is_listened']\n",
    "y_scores = prediction\n",
    "\n",
    "print(\"ROC AUC =\",roc_auc_score(y_true, y_scores))\n",
    "fpr, tpr, thresholds = metrics.roc_curve(y_true, y_scores)\n",
    "print(fpr)\n",
    "print(tpr)\n",
    "print(thresholds)\n",
    "\n",
    "plt.plot(fpr, tpr,color='darkorange')\n",
    "plt.plot([0, 1], [0, 1], color='navy', linestyle='--',label='ROC curve (area = %0.2f)' % roc_auc_score(y_true, y_scores))\n",
    "plt.xlim([0.0, 1.0])\n",
    "plt.ylim([0.0, 1.05])\n",
    "plt.xlabel('False Positive Rate')\n",
    "plt.ylabel('True Positive Rate')\n",
    "plt.title('Receiver operating characteristic example')\n",
    "plt.legend(loc=\"lower right\")\n",
    "plt.show()"
   ]
  },
  {
   "cell_type": "markdown",
   "metadata": {},
   "source": [
    "## Code for submission"
   ]
  },
  {
   "cell_type": "code",
   "execution_count": 17,
   "metadata": {
    "ExecuteTime": {
     "end_time": "2017-04-16T23:38:04.917675",
     "start_time": "2017-04-16T23:33:46.967941"
    },
    "collapsed": false
   },
   "outputs": [
    {
     "name": "stdout",
     "output_type": "stream",
     "text": [
      "Computation 1/2...\n",
      "Computing ----- 0.000000 %\n",
      "Computing ----- 4.000000 %\n",
      "Computing ----- 9.000000 %\n",
      "Computing ----- 14.000000 %\n",
      "Computing ----- 19.000000 %\n",
      "Computing ----- 24.000000 %\n",
      "Computing ----- 29.000000 %\n",
      "Computing ----- 34.000000 %\n",
      "Computing ----- 39.000000 %\n",
      "Computing ----- 44.000000 %\n",
      "Computing ----- 49.000000 %\n",
      "Computing ----- 54.000000 %\n",
      "Computing ----- 59.000000 %\n",
      "Computing ----- 64.000000 %\n",
      "Computing ----- 69.000000 %\n",
      "Computing ----- 74.000000 %\n",
      "Computing ----- 79.000000 %\n",
      "Computing ----- 84.000000 %\n",
      "Computing ----- 89.000000 %\n",
      "Computing ----- 94.000000 %\n",
      "Computing ----- 99.000000 %\n",
      "Computation 2/2...\n",
      "Computing ----- 0.000000 %\n",
      "Computing ----- 4.000000 %\n",
      "Computing ----- 9.000000 %\n",
      "Computing ----- 14.000000 %\n",
      "Computing ----- 19.000000 %\n",
      "Computing ----- 24.000000 %\n",
      "Computing ----- 29.000000 %\n",
      "Computing ----- 34.000000 %\n",
      "Computing ----- 39.000000 %\n",
      "Computing ----- 44.000000 %\n",
      "Computing ----- 49.000000 %\n",
      "Computing ----- 54.000000 %\n",
      "Computing ----- 59.000000 %\n",
      "Computing ----- 64.000000 %\n",
      "Computing ----- 69.000000 %\n",
      "Computing ----- 74.000000 %\n",
      "Computing ----- 79.000000 %\n",
      "Computing ----- 84.000000 %\n",
      "Computing ----- 89.000000 %\n",
      "Computing ----- 94.000000 %\n",
      "Computing ----- 99.000000 %\n",
      "Index(['sample_id', 'is_listened'], dtype='object')\n",
      "Index(['sample_id', 'is_listened'], dtype='object')\n"
     ]
    }
   ],
   "source": [
    "test,list_users_frequency_flow,list_users_frequency_all =\\\n",
    "        predict_with_user_frequency_given_flow(train,test)\n",
    "prediction_submission = test['avg_per_user_flow']\n",
    "\n",
    "#------------------Put into csv-----------------------------\n",
    "submission = sample_submission.copy()\n",
    "print(submission.columns)\n",
    "submission['is_listened'] = prediction_submission\n",
    "# print(submission)\n",
    "print(submission.columns)\n",
    "submission.to_csv('submission.csv',index=False)"
   ]
  },
  {
   "cell_type": "code",
   "execution_count": null,
   "metadata": {
    "collapsed": true
   },
   "outputs": [],
   "source": []
  }
 ],
 "metadata": {
  "kernelspec": {
   "display_name": "Python [conda root]",
   "language": "python",
   "name": "conda-root-py"
  },
  "language_info": {
   "codemirror_mode": {
    "name": "ipython",
    "version": 3
   },
   "file_extension": ".py",
   "mimetype": "text/x-python",
   "name": "python",
   "nbconvert_exporter": "python",
   "pygments_lexer": "ipython3",
   "version": "3.5.2"
  }
 },
 "nbformat": 4,
 "nbformat_minor": 2
}
