{
 "cells": [
  {
   "cell_type": "markdown",
   "metadata": {
    "collapsed": true,
    "run_control": {
     "frozen": false,
     "read_only": false
    }
   },
   "source": [
    "<h1> I. Beginning </h1>"
   ]
  },
  {
   "cell_type": "code",
   "execution_count": 1,
   "metadata": {
    "ExecuteTime": {
     "end_time": "2017-04-19T00:02:35.882959",
     "start_time": "2017-04-19T00:02:29.739321"
    },
    "code_folding": [],
    "collapsed": false,
    "init_cell": true,
    "run_control": {
     "frozen": false,
     "read_only": false
    }
   },
   "outputs": [
    {
     "name": "stderr",
     "output_type": "stream",
     "text": [
      "/home/marc/anaconda3/lib/python3.5/site-packages/sklearn/cross_validation.py:44: DeprecationWarning: This module was deprecated in version 0.18 in favor of the model_selection module into which all the refactored classes and functions are moved. Also note that the interface of the new CV iterators are different from that of this module. This module will be removed in 0.20.\n",
      "  \"This module will be removed in 0.20.\", DeprecationWarning)\n",
      "/home/marc/anaconda3/lib/python3.5/site-packages/sklearn/grid_search.py:43: DeprecationWarning: This module was deprecated in version 0.18 in favor of the model_selection module into which all the refactored classes and functions are moved. This module will be removed in 0.20.\n",
      "  DeprecationWarning)\n"
     ]
    }
   ],
   "source": [
    "# remove warnings\n",
    "import warnings\n",
    "warnings.filterwarnings('ignore')\n",
    "# ---\n",
    "\n",
    "%matplotlib inline\n",
    "import pandas as pd\n",
    "pd.options.display.max_columns = 100\n",
    "from matplotlib import pyplot as plt\n",
    "import matplotlib\n",
    "matplotlib.style.use('ggplot')\n",
    "import seaborn as sns\n",
    "sns.set(color_codes=True)\n",
    "import numpy as np\n",
    "import xgboost as xgb\n",
    "from xgboost.sklearn import XGBClassifier\n",
    "from sklearn import cross_validation, metrics   #Additional scklearn functions\n",
    "from sklearn.grid_search import GridSearchCV   #Performing grid search\n",
    "\n",
    "pd.options.display.max_rows = 100"
   ]
  },
  {
   "cell_type": "code",
   "execution_count": 2,
   "metadata": {
    "ExecuteTime": {
     "end_time": "2017-04-19T00:02:36.262614",
     "start_time": "2017-04-19T00:02:35.884303"
    },
    "collapsed": false,
    "init_cell": true,
    "run_control": {
     "frozen": false,
     "read_only": false
    }
   },
   "outputs": [],
   "source": [
    "# Feature Importance\n",
    "from sklearn import datasets\n",
    "from sklearn.ensemble import ExtraTreesClassifier\n",
    "from sklearn.feature_selection import SelectFromModel"
   ]
  },
  {
   "cell_type": "markdown",
   "metadata": {
    "run_control": {
     "frozen": false,
     "read_only": false
    }
   },
   "source": [
    "## Import Data"
   ]
  },
  {
   "cell_type": "code",
   "execution_count": 16,
   "metadata": {
    "ExecuteTime": {
     "end_time": "2017-04-18T21:37:58.397237",
     "start_time": "2017-04-18T21:37:47.913367"
    },
    "collapsed": false,
    "init_cell": true,
    "run_control": {
     "frozen": false,
     "read_only": false
    }
   },
   "outputs": [],
   "source": [
    "train = pd.read_csv('./data/train.csv', sep = \",\")\n",
    "test = pd.read_csv('./data/test.csv', sep = \",\")"
   ]
  },
  {
   "cell_type": "code",
   "execution_count": 17,
   "metadata": {
    "ExecuteTime": {
     "end_time": "2017-04-18T21:37:58.402872",
     "start_time": "2017-04-18T21:37:58.398785"
    },
    "collapsed": false,
    "init_cell": true,
    "run_control": {
     "frozen": false,
     "read_only": false
    }
   },
   "outputs": [],
   "source": [
    "IDtest = test['sample_id']\n",
    "test.drop('sample_id',inplace=True,axis=1)"
   ]
  },
  {
   "cell_type": "code",
   "execution_count": 18,
   "metadata": {
    "ExecuteTime": {
     "end_time": "2017-04-18T21:37:58.626365",
     "start_time": "2017-04-18T21:37:58.404109"
    },
    "collapsed": false,
    "init_cell": true,
    "run_control": {
     "frozen": false,
     "read_only": false
    }
   },
   "outputs": [
    {
     "data": {
      "text/html": [
       "<div>\n",
       "<table border=\"1\" class=\"dataframe\">\n",
       "  <thead>\n",
       "    <tr style=\"text-align: right;\">\n",
       "      <th></th>\n",
       "      <th>genre_id</th>\n",
       "      <th>ts_listen</th>\n",
       "      <th>media_id</th>\n",
       "      <th>album_id</th>\n",
       "      <th>context_type</th>\n",
       "      <th>release_date</th>\n",
       "      <th>platform_name</th>\n",
       "      <th>platform_family</th>\n",
       "      <th>media_duration</th>\n",
       "      <th>listen_type</th>\n",
       "      <th>user_gender</th>\n",
       "      <th>user_id</th>\n",
       "      <th>artist_id</th>\n",
       "      <th>user_age</th>\n",
       "    </tr>\n",
       "  </thead>\n",
       "  <tbody>\n",
       "    <tr>\n",
       "      <th>0</th>\n",
       "      <td>50</td>\n",
       "      <td>1478104371</td>\n",
       "      <td>683078</td>\n",
       "      <td>82356</td>\n",
       "      <td>1</td>\n",
       "      <td>20021008</td>\n",
       "      <td>0</td>\n",
       "      <td>0</td>\n",
       "      <td>542</td>\n",
       "      <td>1</td>\n",
       "      <td>0</td>\n",
       "      <td>17698</td>\n",
       "      <td>2076</td>\n",
       "      <td>30</td>\n",
       "    </tr>\n",
       "    <tr>\n",
       "      <th>1</th>\n",
       "      <td>2744</td>\n",
       "      <td>1479317140</td>\n",
       "      <td>876497</td>\n",
       "      <td>99692</td>\n",
       "      <td>1</td>\n",
       "      <td>19851231</td>\n",
       "      <td>0</td>\n",
       "      <td>0</td>\n",
       "      <td>307</td>\n",
       "      <td>1</td>\n",
       "      <td>0</td>\n",
       "      <td>10525</td>\n",
       "      <td>26</td>\n",
       "      <td>28</td>\n",
       "    </tr>\n",
       "    <tr>\n",
       "      <th>2</th>\n",
       "      <td>2744</td>\n",
       "      <td>1479546361</td>\n",
       "      <td>876497</td>\n",
       "      <td>99692</td>\n",
       "      <td>1</td>\n",
       "      <td>19851231</td>\n",
       "      <td>0</td>\n",
       "      <td>0</td>\n",
       "      <td>307</td>\n",
       "      <td>1</td>\n",
       "      <td>0</td>\n",
       "      <td>8716</td>\n",
       "      <td>26</td>\n",
       "      <td>27</td>\n",
       "    </tr>\n",
       "    <tr>\n",
       "      <th>3</th>\n",
       "      <td>2744</td>\n",
       "      <td>1478457729</td>\n",
       "      <td>876500</td>\n",
       "      <td>99692</td>\n",
       "      <td>1</td>\n",
       "      <td>19851231</td>\n",
       "      <td>2</td>\n",
       "      <td>1</td>\n",
       "      <td>265</td>\n",
       "      <td>1</td>\n",
       "      <td>0</td>\n",
       "      <td>5443</td>\n",
       "      <td>26</td>\n",
       "      <td>30</td>\n",
       "    </tr>\n",
       "    <tr>\n",
       "      <th>4</th>\n",
       "      <td>2744</td>\n",
       "      <td>1480448560</td>\n",
       "      <td>876504</td>\n",
       "      <td>99692</td>\n",
       "      <td>1</td>\n",
       "      <td>19851231</td>\n",
       "      <td>2</td>\n",
       "      <td>1</td>\n",
       "      <td>356</td>\n",
       "      <td>1</td>\n",
       "      <td>0</td>\n",
       "      <td>7600</td>\n",
       "      <td>26</td>\n",
       "      <td>29</td>\n",
       "    </tr>\n",
       "  </tbody>\n",
       "</table>\n",
       "</div>"
      ],
      "text/plain": [
       "   genre_id   ts_listen  media_id  album_id  context_type  release_date  \\\n",
       "0        50  1478104371    683078     82356             1      20021008   \n",
       "1      2744  1479317140    876497     99692             1      19851231   \n",
       "2      2744  1479546361    876497     99692             1      19851231   \n",
       "3      2744  1478457729    876500     99692             1      19851231   \n",
       "4      2744  1480448560    876504     99692             1      19851231   \n",
       "\n",
       "   platform_name  platform_family  media_duration  listen_type  user_gender  \\\n",
       "0              0                0             542            1            0   \n",
       "1              0                0             307            1            0   \n",
       "2              0                0             307            1            0   \n",
       "3              2                1             265            1            0   \n",
       "4              2                1             356            1            0   \n",
       "\n",
       "   user_id  artist_id  user_age  \n",
       "0    17698       2076        30  \n",
       "1    10525         26        28  \n",
       "2     8716         26        27  \n",
       "3     5443         26        30  \n",
       "4     7600         26        29  "
      ]
     },
     "execution_count": 18,
     "metadata": {},
     "output_type": "execute_result"
    }
   ],
   "source": [
    "test.head()"
   ]
  },
  {
   "cell_type": "code",
   "execution_count": 19,
   "metadata": {
    "ExecuteTime": {
     "end_time": "2017-04-18T21:37:58.865072",
     "start_time": "2017-04-18T21:37:58.627673"
    },
    "collapsed": false,
    "run_control": {
     "frozen": false,
     "read_only": false
    }
   },
   "outputs": [
    {
     "data": {
      "text/html": [
       "<div>\n",
       "<table border=\"1\" class=\"dataframe\">\n",
       "  <thead>\n",
       "    <tr style=\"text-align: right;\">\n",
       "      <th></th>\n",
       "      <th>genre_id</th>\n",
       "      <th>ts_listen</th>\n",
       "      <th>media_id</th>\n",
       "      <th>album_id</th>\n",
       "      <th>context_type</th>\n",
       "      <th>release_date</th>\n",
       "      <th>platform_name</th>\n",
       "      <th>platform_family</th>\n",
       "      <th>media_duration</th>\n",
       "      <th>listen_type</th>\n",
       "      <th>user_gender</th>\n",
       "      <th>user_id</th>\n",
       "      <th>artist_id</th>\n",
       "      <th>user_age</th>\n",
       "      <th>is_listened</th>\n",
       "    </tr>\n",
       "  </thead>\n",
       "  <tbody>\n",
       "    <tr>\n",
       "      <th>0</th>\n",
       "      <td>25471</td>\n",
       "      <td>1480597215</td>\n",
       "      <td>222606</td>\n",
       "      <td>41774</td>\n",
       "      <td>12</td>\n",
       "      <td>20040704</td>\n",
       "      <td>1</td>\n",
       "      <td>0</td>\n",
       "      <td>223</td>\n",
       "      <td>0</td>\n",
       "      <td>0</td>\n",
       "      <td>9241</td>\n",
       "      <td>55164</td>\n",
       "      <td>29</td>\n",
       "      <td>0</td>\n",
       "    </tr>\n",
       "    <tr>\n",
       "      <th>1</th>\n",
       "      <td>25571</td>\n",
       "      <td>1480544735</td>\n",
       "      <td>250467</td>\n",
       "      <td>43941</td>\n",
       "      <td>0</td>\n",
       "      <td>20060301</td>\n",
       "      <td>2</td>\n",
       "      <td>1</td>\n",
       "      <td>171</td>\n",
       "      <td>0</td>\n",
       "      <td>0</td>\n",
       "      <td>16547</td>\n",
       "      <td>55830</td>\n",
       "      <td>30</td>\n",
       "      <td>1</td>\n",
       "    </tr>\n",
       "    <tr>\n",
       "      <th>2</th>\n",
       "      <td>16</td>\n",
       "      <td>1479563953</td>\n",
       "      <td>305197</td>\n",
       "      <td>48078</td>\n",
       "      <td>1</td>\n",
       "      <td>20140714</td>\n",
       "      <td>2</td>\n",
       "      <td>1</td>\n",
       "      <td>149</td>\n",
       "      <td>1</td>\n",
       "      <td>1</td>\n",
       "      <td>7665</td>\n",
       "      <td>2704</td>\n",
       "      <td>29</td>\n",
       "      <td>1</td>\n",
       "    </tr>\n",
       "    <tr>\n",
       "      <th>3</th>\n",
       "      <td>7</td>\n",
       "      <td>1480152098</td>\n",
       "      <td>900502</td>\n",
       "      <td>71521</td>\n",
       "      <td>0</td>\n",
       "      <td>20001030</td>\n",
       "      <td>0</td>\n",
       "      <td>0</td>\n",
       "      <td>240</td>\n",
       "      <td>0</td>\n",
       "      <td>1</td>\n",
       "      <td>1580</td>\n",
       "      <td>938</td>\n",
       "      <td>30</td>\n",
       "      <td>0</td>\n",
       "    </tr>\n",
       "    <tr>\n",
       "      <th>4</th>\n",
       "      <td>7</td>\n",
       "      <td>1478368974</td>\n",
       "      <td>542335</td>\n",
       "      <td>71718</td>\n",
       "      <td>0</td>\n",
       "      <td>20080215</td>\n",
       "      <td>0</td>\n",
       "      <td>0</td>\n",
       "      <td>150</td>\n",
       "      <td>0</td>\n",
       "      <td>1</td>\n",
       "      <td>1812</td>\n",
       "      <td>2939</td>\n",
       "      <td>24</td>\n",
       "      <td>1</td>\n",
       "    </tr>\n",
       "  </tbody>\n",
       "</table>\n",
       "</div>"
      ],
      "text/plain": [
       "   genre_id   ts_listen  media_id  album_id  context_type  release_date  \\\n",
       "0     25471  1480597215    222606     41774            12      20040704   \n",
       "1     25571  1480544735    250467     43941             0      20060301   \n",
       "2        16  1479563953    305197     48078             1      20140714   \n",
       "3         7  1480152098    900502     71521             0      20001030   \n",
       "4         7  1478368974    542335     71718             0      20080215   \n",
       "\n",
       "   platform_name  platform_family  media_duration  listen_type  user_gender  \\\n",
       "0              1                0             223            0            0   \n",
       "1              2                1             171            0            0   \n",
       "2              2                1             149            1            1   \n",
       "3              0                0             240            0            1   \n",
       "4              0                0             150            0            1   \n",
       "\n",
       "   user_id  artist_id  user_age  is_listened  \n",
       "0     9241      55164        29            0  \n",
       "1    16547      55830        30            1  \n",
       "2     7665       2704        29            1  \n",
       "3     1580        938        30            0  \n",
       "4     1812       2939        24            1  "
      ]
     },
     "execution_count": 19,
     "metadata": {},
     "output_type": "execute_result"
    }
   ],
   "source": [
    "train.head()"
   ]
  },
  {
   "cell_type": "markdown",
   "metadata": {
    "ExecuteTime": {
     "end_time": "2017-04-17T23:17:05.309327",
     "start_time": "2017-04-17T23:17:05.278754"
    },
    "run_control": {
     "frozen": false,
     "read_only": false
    }
   },
   "source": [
    "### Take out absurd data"
   ]
  },
  {
   "cell_type": "code",
   "execution_count": 20,
   "metadata": {
    "ExecuteTime": {
     "end_time": "2017-04-18T21:38:00.222983",
     "start_time": "2017-04-18T21:37:58.866290"
    },
    "collapsed": false,
    "run_control": {
     "frozen": false,
     "read_only": false
    }
   },
   "outputs": [],
   "source": [
    "train.drop(train.index[(train['media_duration'] <= 30)*(train['is_listened'] == 1)], axis = 0, inplace = True)"
   ]
  },
  {
   "cell_type": "code",
   "execution_count": 21,
   "metadata": {
    "ExecuteTime": {
     "end_time": "2017-04-18T21:40:03.410196",
     "start_time": "2017-04-18T21:38:00.224241"
    },
    "collapsed": false,
    "run_control": {
     "frozen": false,
     "read_only": false
    }
   },
   "outputs": [],
   "source": [
    "import time\n",
    "import datetime\n",
    "conv_date = lambda x: time.mktime(datetime.datetime.strptime(str(x), '%Y%m%d').timetuple())\n",
    "train['release_date'] = train['release_date'].apply(conv_date)\n",
    "test['release_date'] = test['release_date'].apply(conv_date)"
   ]
  },
  {
   "cell_type": "code",
   "execution_count": 22,
   "metadata": {
    "ExecuteTime": {
     "end_time": "2017-04-18T21:40:32.932382",
     "start_time": "2017-04-18T21:40:04.171941"
    },
    "collapsed": false,
    "run_control": {
     "frozen": false,
     "read_only": false
    }
   },
   "outputs": [],
   "source": [
    "train.drop(train.index[train['ts_listen'] > time.time()], axis = 0, inplace = True)\n",
    "train.drop(train.index[train['ts_listen'] < 1230764491], axis = 0, inplace = True)\n",
    "train.drop(train.index[train['release_date'] > time.time()], axis = 0, inplace = True)\n",
    "# train.drop(train.index[train['ts_listen'] < train['release_date']], axis = 0, inplace = True) 28827 valeurs dans le train, 32 dans le test, presques toutes avec genre_id == 0"
   ]
  },
  {
   "cell_type": "code",
   "execution_count": 23,
   "metadata": {
    "ExecuteTime": {
     "end_time": "2017-04-18T21:40:33.773252",
     "start_time": "2017-04-18T21:40:33.211923"
    },
    "collapsed": false,
    "run_control": {
     "frozen": false,
     "read_only": false
    }
   },
   "outputs": [],
   "source": [
    "# not so bad anyways... - and none in the test\n",
    "# len(train[train['ts_listen'] < 1230764491]) (= 631)"
   ]
  },
  {
   "cell_type": "markdown",
   "metadata": {
    "collapsed": true,
    "run_control": {
     "frozen": false,
     "read_only": false
    }
   },
   "source": [
    "### Combined contains the common columns to the test and train set, in order to apply the same transformations on all the data"
   ]
  },
  {
   "cell_type": "code",
   "execution_count": 24,
   "metadata": {
    "ExecuteTime": {
     "end_time": "2017-04-18T21:41:19.182532",
     "start_time": "2017-04-18T21:40:34.017138"
    },
    "collapsed": false,
    "init_cell": true,
    "run_control": {
     "frozen": false,
     "read_only": false
    }
   },
   "outputs": [],
   "source": [
    "target = train['is_listened']\n",
    "train.drop('is_listened', axis = 1, inplace = True)\n",
    "combined = train.append(test)\n",
    "combined.reset_index(inplace=True)\n",
    "combined.drop('index', axis = 1, inplace = True)\n",
    "train['is_listened'] = target"
   ]
  },
  {
   "cell_type": "code",
   "execution_count": 25,
   "metadata": {
    "ExecuteTime": {
     "end_time": "2017-04-18T21:41:24.414527",
     "start_time": "2017-04-18T21:41:19.430391"
    },
    "collapsed": false,
    "init_cell": true,
    "run_control": {
     "frozen": false,
     "read_only": false
    }
   },
   "outputs": [
    {
     "data": {
      "text/html": [
       "<div>\n",
       "<table border=\"1\" class=\"dataframe\">\n",
       "  <thead>\n",
       "    <tr style=\"text-align: right;\">\n",
       "      <th></th>\n",
       "      <th>genre_id</th>\n",
       "      <th>ts_listen</th>\n",
       "      <th>media_id</th>\n",
       "      <th>album_id</th>\n",
       "      <th>context_type</th>\n",
       "      <th>release_date</th>\n",
       "      <th>platform_name</th>\n",
       "      <th>platform_family</th>\n",
       "      <th>media_duration</th>\n",
       "      <th>listen_type</th>\n",
       "      <th>user_gender</th>\n",
       "      <th>user_id</th>\n",
       "      <th>artist_id</th>\n",
       "      <th>user_age</th>\n",
       "    </tr>\n",
       "  </thead>\n",
       "  <tbody>\n",
       "    <tr>\n",
       "      <th>0</th>\n",
       "      <td>25471</td>\n",
       "      <td>1480597215</td>\n",
       "      <td>222606</td>\n",
       "      <td>41774</td>\n",
       "      <td>12</td>\n",
       "      <td>1.088892e+09</td>\n",
       "      <td>1</td>\n",
       "      <td>0</td>\n",
       "      <td>223</td>\n",
       "      <td>0</td>\n",
       "      <td>0</td>\n",
       "      <td>9241</td>\n",
       "      <td>55164</td>\n",
       "      <td>29</td>\n",
       "    </tr>\n",
       "    <tr>\n",
       "      <th>1</th>\n",
       "      <td>25571</td>\n",
       "      <td>1480544735</td>\n",
       "      <td>250467</td>\n",
       "      <td>43941</td>\n",
       "      <td>0</td>\n",
       "      <td>1.141168e+09</td>\n",
       "      <td>2</td>\n",
       "      <td>1</td>\n",
       "      <td>171</td>\n",
       "      <td>0</td>\n",
       "      <td>0</td>\n",
       "      <td>16547</td>\n",
       "      <td>55830</td>\n",
       "      <td>30</td>\n",
       "    </tr>\n",
       "    <tr>\n",
       "      <th>2</th>\n",
       "      <td>16</td>\n",
       "      <td>1479563953</td>\n",
       "      <td>305197</td>\n",
       "      <td>48078</td>\n",
       "      <td>1</td>\n",
       "      <td>1.405289e+09</td>\n",
       "      <td>2</td>\n",
       "      <td>1</td>\n",
       "      <td>149</td>\n",
       "      <td>1</td>\n",
       "      <td>1</td>\n",
       "      <td>7665</td>\n",
       "      <td>2704</td>\n",
       "      <td>29</td>\n",
       "    </tr>\n",
       "    <tr>\n",
       "      <th>3</th>\n",
       "      <td>7</td>\n",
       "      <td>1480152098</td>\n",
       "      <td>900502</td>\n",
       "      <td>71521</td>\n",
       "      <td>0</td>\n",
       "      <td>9.728604e+08</td>\n",
       "      <td>0</td>\n",
       "      <td>0</td>\n",
       "      <td>240</td>\n",
       "      <td>0</td>\n",
       "      <td>1</td>\n",
       "      <td>1580</td>\n",
       "      <td>938</td>\n",
       "      <td>30</td>\n",
       "    </tr>\n",
       "    <tr>\n",
       "      <th>4</th>\n",
       "      <td>7</td>\n",
       "      <td>1478368974</td>\n",
       "      <td>542335</td>\n",
       "      <td>71718</td>\n",
       "      <td>0</td>\n",
       "      <td>1.203030e+09</td>\n",
       "      <td>0</td>\n",
       "      <td>0</td>\n",
       "      <td>150</td>\n",
       "      <td>0</td>\n",
       "      <td>1</td>\n",
       "      <td>1812</td>\n",
       "      <td>2939</td>\n",
       "      <td>24</td>\n",
       "    </tr>\n",
       "  </tbody>\n",
       "</table>\n",
       "</div>"
      ],
      "text/plain": [
       "   genre_id   ts_listen  media_id  album_id  context_type  release_date  \\\n",
       "0     25471  1480597215    222606     41774            12  1.088892e+09   \n",
       "1     25571  1480544735    250467     43941             0  1.141168e+09   \n",
       "2        16  1479563953    305197     48078             1  1.405289e+09   \n",
       "3         7  1480152098    900502     71521             0  9.728604e+08   \n",
       "4         7  1478368974    542335     71718             0  1.203030e+09   \n",
       "\n",
       "   platform_name  platform_family  media_duration  listen_type  user_gender  \\\n",
       "0              1                0             223            0            0   \n",
       "1              2                1             171            0            0   \n",
       "2              2                1             149            1            1   \n",
       "3              0                0             240            0            1   \n",
       "4              0                0             150            0            1   \n",
       "\n",
       "   user_id  artist_id  user_age  \n",
       "0     9241      55164        29  \n",
       "1    16547      55830        30  \n",
       "2     7665       2704        29  \n",
       "3     1580        938        30  \n",
       "4     1812       2939        24  "
      ]
     },
     "execution_count": 25,
     "metadata": {},
     "output_type": "execute_result"
    }
   ],
   "source": [
    "combined.head()"
   ]
  },
  {
   "cell_type": "code",
   "execution_count": 26,
   "metadata": {
    "ExecuteTime": {
     "end_time": "2017-04-18T21:41:24.495820",
     "start_time": "2017-04-18T21:41:24.430246"
    },
    "collapsed": false,
    "init_cell": true,
    "run_control": {
     "frozen": false,
     "read_only": false
    }
   },
   "outputs": [],
   "source": [
    "# Took the data from \"input.csv\"\n",
    "\n",
    "# How to process it?\n",
    "\n",
    "# Genre_id, media_id, album_id, user_id, artist_id -> aggregate (e.g. count)\n",
    "# Ts_listen, release_date: date under 2 different formats -> put to same format\n",
    "# Context_type -> one-hot-encode\n",
    "# Platform_name, platform_family -> one-hot encode? Aggregate?\n",
    "# Media_duration -> this one seems simple, keep as is\n",
    "# Listen_type -> probably keep as is, but not sure\n",
    "# User_gender -> keep as is (sexism!)\n",
    "# User_age -> keep as is\n",
    "\n",
    "# Other ideas: compute mean length for an album, an artist, a genre, mean of is_listened for each user, each artist, etc using the date \n",
    "# Using the date, we can compute the number of songs he listened in a row\n",
    "\n",
    "# I think the key here is correctly using the information about artist, etc...\n"
   ]
  },
  {
   "cell_type": "markdown",
   "metadata": {
    "run_control": {
     "frozen": false,
     "read_only": false
    }
   },
   "source": [
    "<h1> II. Feature Preparation </h1>"
   ]
  },
  {
   "cell_type": "code",
   "execution_count": 27,
   "metadata": {
    "ExecuteTime": {
     "end_time": "2017-04-18T21:41:24.671298",
     "start_time": "2017-04-18T21:41:24.566502"
    },
    "collapsed": false,
    "init_cell": true,
    "run_control": {
     "frozen": false,
     "read_only": false
    }
   },
   "outputs": [],
   "source": [
    "# def medianNan(s):\n",
    "#     global combined\n",
    "#     combined[s].fillna(np.median(combined[~np.isnan(combined[s])][s]), inplace=True)"
   ]
  },
  {
   "cell_type": "markdown",
   "metadata": {
    "collapsed": true,
    "run_control": {
     "frozen": false,
     "read_only": false
    }
   },
   "source": [
    "### Filling NaN values with the median of the column"
   ]
  },
  {
   "cell_type": "code",
   "execution_count": 28,
   "metadata": {
    "ExecuteTime": {
     "end_time": "2017-04-18T21:41:24.888342",
     "start_time": "2017-04-18T21:41:24.672753"
    },
    "collapsed": false,
    "init_cell": true,
    "run_control": {
     "frozen": false,
     "read_only": false
    }
   },
   "outputs": [],
   "source": [
    "# for s in combined.columns[1:]:\n",
    "# #     print(s,type(combined[s][0]))\n",
    "#     medianNan(s)"
   ]
  },
  {
   "cell_type": "markdown",
   "metadata": {
    "run_control": {
     "frozen": false,
     "read_only": false
    }
   },
   "source": [
    "### Dealing with categoricals"
   ]
  },
  {
   "cell_type": "code",
   "execution_count": 29,
   "metadata": {
    "ExecuteTime": {
     "end_time": "2017-04-18T21:41:25.217576",
     "start_time": "2017-04-18T21:41:24.889762"
    },
    "collapsed": false,
    "init_cell": true,
    "run_control": {
     "frozen": false,
     "read_only": false
    }
   },
   "outputs": [],
   "source": [
    "categorical = ['platform_name', 'platform_family'] ## 'context_type' TOO BIG! (MemoryError)"
   ]
  },
  {
   "cell_type": "code",
   "execution_count": 30,
   "metadata": {
    "ExecuteTime": {
     "end_time": "2017-04-18T21:41:26.090332",
     "start_time": "2017-04-18T21:41:25.312026"
    },
    "collapsed": false,
    "init_cell": true,
    "run_control": {
     "frozen": false,
     "read_only": false
    }
   },
   "outputs": [],
   "source": [
    "def dummify(variable):\n",
    "    global combined\n",
    "    local_dummies = pd.get_dummies(combined[variable],prefix=variable)\n",
    "    combined = pd.concat([combined,local_dummies],axis=1)\n",
    "    combined.drop(variable,axis=1,inplace=True)"
   ]
  },
  {
   "cell_type": "code",
   "execution_count": 31,
   "metadata": {
    "ExecuteTime": {
     "end_time": "2017-04-18T21:41:36.932947",
     "start_time": "2017-04-18T21:41:26.091728"
    },
    "collapsed": false,
    "init_cell": true,
    "run_control": {
     "frozen": false,
     "read_only": false
    }
   },
   "outputs": [],
   "source": [
    "for s in categorical:\n",
    "    dummify(s)"
   ]
  },
  {
   "cell_type": "markdown",
   "metadata": {
    "run_control": {
     "frozen": false,
     "read_only": false
    }
   },
   "source": [
    "## DATA VISUALISATION"
   ]
  },
  {
   "cell_type": "markdown",
   "metadata": {
    "run_control": {
     "frozen": false,
     "read_only": false
    }
   },
   "source": [
    "### Same user ID's in test and train"
   ]
  },
  {
   "cell_type": "code",
   "execution_count": 32,
   "metadata": {
    "ExecuteTime": {
     "end_time": "2017-04-18T21:41:38.264425",
     "start_time": "2017-04-18T21:41:37.505724"
    },
    "collapsed": false,
    "run_control": {
     "frozen": false,
     "read_only": false
    }
   },
   "outputs": [
    {
     "data": {
      "text/plain": [
       "True"
      ]
     },
     "execution_count": 32,
     "metadata": {},
     "output_type": "execute_result"
    }
   ],
   "source": [
    "sorted(train['user_id'].unique()) == sorted(test['user_id'].unique())"
   ]
  },
  {
   "cell_type": "markdown",
   "metadata": {
    "run_control": {
     "frozen": false,
     "read_only": false
    }
   },
   "source": [
    "### listen_type == 1 in test set (apart from one value)"
   ]
  },
  {
   "cell_type": "code",
   "execution_count": 33,
   "metadata": {
    "ExecuteTime": {
     "end_time": "2017-04-18T21:41:38.756973",
     "start_time": "2017-04-18T21:41:38.265847"
    },
    "collapsed": false,
    "run_control": {
     "frozen": false,
     "read_only": false
    }
   },
   "outputs": [
    {
     "data": {
      "text/plain": [
       "1"
      ]
     },
     "execution_count": 33,
     "metadata": {},
     "output_type": "execute_result"
    }
   ],
   "source": [
    "sorted(test['listen_type'])[1]"
   ]
  },
  {
   "cell_type": "markdown",
   "metadata": {
    "run_control": {
     "frozen": false,
     "read_only": false
    }
   },
   "source": [
    "<h1> III. Feature Engineering </h1>"
   ]
  },
  {
   "cell_type": "markdown",
   "metadata": {
    "run_control": {
     "frozen": false,
     "read_only": false
    }
   },
   "source": [
    "## Genre_id, media_id, album_id, user_id, artist_id -> aggregate (e.g. count)"
   ]
  },
  {
   "cell_type": "code",
   "execution_count": 34,
   "metadata": {
    "ExecuteTime": {
     "end_time": "2017-04-18T21:41:39.642657",
     "start_time": "2017-04-18T21:41:38.758288"
    },
    "collapsed": false,
    "run_control": {
     "frozen": false,
     "read_only": false
    }
   },
   "outputs": [],
   "source": [
    "def aggregation_functions(name):\n",
    "    \n",
    "    global combined\n",
    "    global train\n",
    "    \n",
    "    avrg = train.groupby([name + '_id'])['is_listened'].mean()\n",
    "    avrg_flow = train[train['listen_type'] == 1].groupby([name + '_id'])['is_listened'].mean()\n",
    "    avrg_noflow = train[train['listen_type'] == 0].groupby([name + '_id'])['is_listened'].mean()\n",
    "\n",
    "    avrg.name = 'avrg_listened_' + name\n",
    "    avrg_flow.name = 'avrg_listened_' + name + '_flow'\n",
    "    avrg_noflow.name = 'avrg_listened_' + name + '_noflow'\n",
    "\n",
    "    combined = combined.join(avrg, name + '_id', 'left')\n",
    "    combined = combined.join(avrg_flow, name + '_id', 'left')\n",
    "    combined = combined.join(avrg_noflow, name + '_id', 'left')\n",
    "\n",
    "    combined['avrg_listened_' + name].fillna(np.median(combined[~np.isnan(combined['avrg_listened_' + name])]['avrg_listened_' + name]), inplace=True)\n",
    "    \n",
    "    combined['avrg_listened_' + name + '_flow'].fillna(combined['avrg_listened_' + name], inplace=True)\n",
    "    combined['avrg_listened_' + name + '_noflow'].fillna(combined['avrg_listened_' + name], inplace=True)\n",
    "\n",
    "    combined['avrg_listened_' + name + '_current'] = combined['avrg_listened_' + name + '_flow']*combined['listen_type'] + combined['avrg_listened_' + name + '_noflow']*(1-combined['listen_type'])\n",
    "\n",
    "    count_ = combined.groupby([name + '_id'])[name + '_id'].count()\n",
    "    count_.name = 'count_' + name\n",
    "    combined = combined.join(count_, name + '_id', 'left')"
   ]
  },
  {
   "cell_type": "markdown",
   "metadata": {
    "run_control": {
     "frozen": false,
     "read_only": false
    }
   },
   "source": [
    "### Mean of is_listened by ___ on flow or not"
   ]
  },
  {
   "cell_type": "code",
   "execution_count": 35,
   "metadata": {
    "ExecuteTime": {
     "end_time": "2017-04-18T21:43:17.458683",
     "start_time": "2017-04-18T21:41:39.689797"
    },
    "collapsed": false,
    "run_control": {
     "frozen": false,
     "read_only": false
    }
   },
   "outputs": [],
   "source": [
    "aggregation_functions('user')\n",
    "aggregation_functions('artist')\n",
    "aggregation_functions('media')\n",
    "aggregation_functions('album')\n",
    "aggregation_functions('genre')"
   ]
  },
  {
   "cell_type": "markdown",
   "metadata": {
    "ExecuteTime": {
     "end_time": "2017-04-17T22:34:25.619502",
     "start_time": "2017-04-17T22:32:57.290189"
    },
    "collapsed": false,
    "run_control": {
     "frozen": false,
     "read_only": false
    }
   },
   "source": [
    "### Compute age of song at the moment of listening (still some weird things on very few points...)"
   ]
  },
  {
   "cell_type": "code",
   "execution_count": 36,
   "metadata": {
    "ExecuteTime": {
     "end_time": "2017-04-18T21:43:19.622595",
     "start_time": "2017-04-18T21:43:18.300328"
    },
    "collapsed": false,
    "run_control": {
     "frozen": false,
     "read_only": false
    }
   },
   "outputs": [],
   "source": [
    "combined['age_song'] = combined['ts_listen'] - combined['release_date']"
   ]
  },
  {
   "cell_type": "code",
   "execution_count": 37,
   "metadata": {
    "ExecuteTime": {
     "end_time": "2017-04-18T21:43:21.572040",
     "start_time": "2017-04-18T21:43:19.692979"
    },
    "collapsed": false,
    "run_control": {
     "frozen": false,
     "read_only": false
    }
   },
   "outputs": [
    {
     "data": {
      "text/html": [
       "<div>\n",
       "<table border=\"1\" class=\"dataframe\">\n",
       "  <thead>\n",
       "    <tr style=\"text-align: right;\">\n",
       "      <th></th>\n",
       "      <th>genre_id</th>\n",
       "      <th>ts_listen</th>\n",
       "      <th>media_id</th>\n",
       "      <th>album_id</th>\n",
       "      <th>context_type</th>\n",
       "      <th>release_date</th>\n",
       "      <th>media_duration</th>\n",
       "      <th>listen_type</th>\n",
       "      <th>user_gender</th>\n",
       "      <th>user_id</th>\n",
       "      <th>artist_id</th>\n",
       "      <th>user_age</th>\n",
       "      <th>platform_name_0</th>\n",
       "      <th>platform_name_1</th>\n",
       "      <th>platform_name_2</th>\n",
       "      <th>platform_family_0</th>\n",
       "      <th>platform_family_1</th>\n",
       "      <th>platform_family_2</th>\n",
       "      <th>avrg_listened_user</th>\n",
       "      <th>avrg_listened_user_flow</th>\n",
       "      <th>avrg_listened_user_noflow</th>\n",
       "      <th>avrg_listened_user_current</th>\n",
       "      <th>count_user</th>\n",
       "      <th>avrg_listened_artist</th>\n",
       "      <th>avrg_listened_artist_flow</th>\n",
       "      <th>avrg_listened_artist_noflow</th>\n",
       "      <th>avrg_listened_artist_current</th>\n",
       "      <th>count_artist</th>\n",
       "      <th>avrg_listened_media</th>\n",
       "      <th>avrg_listened_media_flow</th>\n",
       "      <th>avrg_listened_media_noflow</th>\n",
       "      <th>avrg_listened_media_current</th>\n",
       "      <th>count_media</th>\n",
       "      <th>avrg_listened_album</th>\n",
       "      <th>avrg_listened_album_flow</th>\n",
       "      <th>avrg_listened_album_noflow</th>\n",
       "      <th>avrg_listened_album_current</th>\n",
       "      <th>count_album</th>\n",
       "      <th>avrg_listened_genre</th>\n",
       "      <th>avrg_listened_genre_flow</th>\n",
       "      <th>avrg_listened_genre_noflow</th>\n",
       "      <th>avrg_listened_genre_current</th>\n",
       "      <th>count_genre</th>\n",
       "      <th>age_song</th>\n",
       "    </tr>\n",
       "  </thead>\n",
       "  <tbody>\n",
       "    <tr>\n",
       "      <th>0</th>\n",
       "      <td>25471</td>\n",
       "      <td>1480597215</td>\n",
       "      <td>222606</td>\n",
       "      <td>41774</td>\n",
       "      <td>12</td>\n",
       "      <td>1.088892e+09</td>\n",
       "      <td>223</td>\n",
       "      <td>0</td>\n",
       "      <td>0</td>\n",
       "      <td>9241</td>\n",
       "      <td>55164</td>\n",
       "      <td>29</td>\n",
       "      <td>0.0</td>\n",
       "      <td>1.0</td>\n",
       "      <td>0.0</td>\n",
       "      <td>1.0</td>\n",
       "      <td>0.0</td>\n",
       "      <td>0.0</td>\n",
       "      <td>0.676991</td>\n",
       "      <td>0.654762</td>\n",
       "      <td>0.690141</td>\n",
       "      <td>0.690141</td>\n",
       "      <td>227</td>\n",
       "      <td>0.000000</td>\n",
       "      <td>0.000000</td>\n",
       "      <td>0.000000</td>\n",
       "      <td>0.000000</td>\n",
       "      <td>1</td>\n",
       "      <td>0.000000</td>\n",
       "      <td>0.000000</td>\n",
       "      <td>0.0000</td>\n",
       "      <td>0.0000</td>\n",
       "      <td>1</td>\n",
       "      <td>0.000000</td>\n",
       "      <td>0.0</td>\n",
       "      <td>0.000000</td>\n",
       "      <td>0.000000</td>\n",
       "      <td>1</td>\n",
       "      <td>0.688120</td>\n",
       "      <td>0.596593</td>\n",
       "      <td>0.737953</td>\n",
       "      <td>0.737953</td>\n",
       "      <td>23025</td>\n",
       "      <td>391705215.0</td>\n",
       "    </tr>\n",
       "    <tr>\n",
       "      <th>1</th>\n",
       "      <td>25571</td>\n",
       "      <td>1480544735</td>\n",
       "      <td>250467</td>\n",
       "      <td>43941</td>\n",
       "      <td>0</td>\n",
       "      <td>1.141168e+09</td>\n",
       "      <td>171</td>\n",
       "      <td>0</td>\n",
       "      <td>0</td>\n",
       "      <td>16547</td>\n",
       "      <td>55830</td>\n",
       "      <td>30</td>\n",
       "      <td>0.0</td>\n",
       "      <td>0.0</td>\n",
       "      <td>1.0</td>\n",
       "      <td>0.0</td>\n",
       "      <td>1.0</td>\n",
       "      <td>0.0</td>\n",
       "      <td>0.575000</td>\n",
       "      <td>0.000000</td>\n",
       "      <td>0.589744</td>\n",
       "      <td>0.589744</td>\n",
       "      <td>41</td>\n",
       "      <td>0.379310</td>\n",
       "      <td>0.714286</td>\n",
       "      <td>0.272727</td>\n",
       "      <td>0.272727</td>\n",
       "      <td>30</td>\n",
       "      <td>1.000000</td>\n",
       "      <td>1.000000</td>\n",
       "      <td>1.0000</td>\n",
       "      <td>1.0000</td>\n",
       "      <td>1</td>\n",
       "      <td>1.000000</td>\n",
       "      <td>1.0</td>\n",
       "      <td>1.000000</td>\n",
       "      <td>1.000000</td>\n",
       "      <td>1</td>\n",
       "      <td>0.567614</td>\n",
       "      <td>0.548518</td>\n",
       "      <td>0.576582</td>\n",
       "      <td>0.576582</td>\n",
       "      <td>2325</td>\n",
       "      <td>339377135.0</td>\n",
       "    </tr>\n",
       "    <tr>\n",
       "      <th>2</th>\n",
       "      <td>16</td>\n",
       "      <td>1479563953</td>\n",
       "      <td>305197</td>\n",
       "      <td>48078</td>\n",
       "      <td>1</td>\n",
       "      <td>1.405289e+09</td>\n",
       "      <td>149</td>\n",
       "      <td>1</td>\n",
       "      <td>1</td>\n",
       "      <td>7665</td>\n",
       "      <td>2704</td>\n",
       "      <td>29</td>\n",
       "      <td>0.0</td>\n",
       "      <td>0.0</td>\n",
       "      <td>1.0</td>\n",
       "      <td>0.0</td>\n",
       "      <td>1.0</td>\n",
       "      <td>0.0</td>\n",
       "      <td>0.986755</td>\n",
       "      <td>0.977273</td>\n",
       "      <td>0.990654</td>\n",
       "      <td>0.977273</td>\n",
       "      <td>303</td>\n",
       "      <td>0.781250</td>\n",
       "      <td>0.833333</td>\n",
       "      <td>0.775862</td>\n",
       "      <td>0.833333</td>\n",
       "      <td>128</td>\n",
       "      <td>1.000000</td>\n",
       "      <td>1.000000</td>\n",
       "      <td>1.0000</td>\n",
       "      <td>1.0000</td>\n",
       "      <td>1</td>\n",
       "      <td>1.000000</td>\n",
       "      <td>1.0</td>\n",
       "      <td>1.000000</td>\n",
       "      <td>1.000000</td>\n",
       "      <td>1</td>\n",
       "      <td>0.743868</td>\n",
       "      <td>0.663128</td>\n",
       "      <td>0.779587</td>\n",
       "      <td>0.663128</td>\n",
       "      <td>4615</td>\n",
       "      <td>74275153.0</td>\n",
       "    </tr>\n",
       "    <tr>\n",
       "      <th>3</th>\n",
       "      <td>7</td>\n",
       "      <td>1480152098</td>\n",
       "      <td>900502</td>\n",
       "      <td>71521</td>\n",
       "      <td>0</td>\n",
       "      <td>9.728604e+08</td>\n",
       "      <td>240</td>\n",
       "      <td>0</td>\n",
       "      <td>1</td>\n",
       "      <td>1580</td>\n",
       "      <td>938</td>\n",
       "      <td>30</td>\n",
       "      <td>1.0</td>\n",
       "      <td>0.0</td>\n",
       "      <td>0.0</td>\n",
       "      <td>1.0</td>\n",
       "      <td>0.0</td>\n",
       "      <td>0.0</td>\n",
       "      <td>0.586977</td>\n",
       "      <td>0.544218</td>\n",
       "      <td>0.603073</td>\n",
       "      <td>0.603073</td>\n",
       "      <td>1076</td>\n",
       "      <td>0.714563</td>\n",
       "      <td>0.666667</td>\n",
       "      <td>0.722919</td>\n",
       "      <td>0.722919</td>\n",
       "      <td>1031</td>\n",
       "      <td>0.000000</td>\n",
       "      <td>0.000000</td>\n",
       "      <td>0.0000</td>\n",
       "      <td>0.0000</td>\n",
       "      <td>1</td>\n",
       "      <td>0.000000</td>\n",
       "      <td>0.0</td>\n",
       "      <td>0.000000</td>\n",
       "      <td>0.000000</td>\n",
       "      <td>1</td>\n",
       "      <td>0.663092</td>\n",
       "      <td>0.601317</td>\n",
       "      <td>0.705924</td>\n",
       "      <td>0.705924</td>\n",
       "      <td>931953</td>\n",
       "      <td>507291698.0</td>\n",
       "    </tr>\n",
       "    <tr>\n",
       "      <th>4</th>\n",
       "      <td>7</td>\n",
       "      <td>1478368974</td>\n",
       "      <td>542335</td>\n",
       "      <td>71718</td>\n",
       "      <td>0</td>\n",
       "      <td>1.203030e+09</td>\n",
       "      <td>150</td>\n",
       "      <td>0</td>\n",
       "      <td>1</td>\n",
       "      <td>1812</td>\n",
       "      <td>2939</td>\n",
       "      <td>24</td>\n",
       "      <td>1.0</td>\n",
       "      <td>0.0</td>\n",
       "      <td>0.0</td>\n",
       "      <td>1.0</td>\n",
       "      <td>0.0</td>\n",
       "      <td>0.0</td>\n",
       "      <td>0.933868</td>\n",
       "      <td>0.937500</td>\n",
       "      <td>0.933002</td>\n",
       "      <td>0.933002</td>\n",
       "      <td>999</td>\n",
       "      <td>0.806763</td>\n",
       "      <td>0.750000</td>\n",
       "      <td>0.823899</td>\n",
       "      <td>0.823899</td>\n",
       "      <td>207</td>\n",
       "      <td>0.866667</td>\n",
       "      <td>0.785714</td>\n",
       "      <td>0.9375</td>\n",
       "      <td>0.9375</td>\n",
       "      <td>30</td>\n",
       "      <td>0.882353</td>\n",
       "      <td>0.8</td>\n",
       "      <td>0.947368</td>\n",
       "      <td>0.947368</td>\n",
       "      <td>34</td>\n",
       "      <td>0.663092</td>\n",
       "      <td>0.601317</td>\n",
       "      <td>0.705924</td>\n",
       "      <td>0.705924</td>\n",
       "      <td>931953</td>\n",
       "      <td>275338974.0</td>\n",
       "    </tr>\n",
       "  </tbody>\n",
       "</table>\n",
       "</div>"
      ],
      "text/plain": [
       "   genre_id   ts_listen  media_id  album_id  context_type  release_date  \\\n",
       "0     25471  1480597215    222606     41774            12  1.088892e+09   \n",
       "1     25571  1480544735    250467     43941             0  1.141168e+09   \n",
       "2        16  1479563953    305197     48078             1  1.405289e+09   \n",
       "3         7  1480152098    900502     71521             0  9.728604e+08   \n",
       "4         7  1478368974    542335     71718             0  1.203030e+09   \n",
       "\n",
       "   media_duration  listen_type  user_gender  user_id  artist_id  user_age  \\\n",
       "0             223            0            0     9241      55164        29   \n",
       "1             171            0            0    16547      55830        30   \n",
       "2             149            1            1     7665       2704        29   \n",
       "3             240            0            1     1580        938        30   \n",
       "4             150            0            1     1812       2939        24   \n",
       "\n",
       "   platform_name_0  platform_name_1  platform_name_2  platform_family_0  \\\n",
       "0              0.0              1.0              0.0                1.0   \n",
       "1              0.0              0.0              1.0                0.0   \n",
       "2              0.0              0.0              1.0                0.0   \n",
       "3              1.0              0.0              0.0                1.0   \n",
       "4              1.0              0.0              0.0                1.0   \n",
       "\n",
       "   platform_family_1  platform_family_2  avrg_listened_user  \\\n",
       "0                0.0                0.0            0.676991   \n",
       "1                1.0                0.0            0.575000   \n",
       "2                1.0                0.0            0.986755   \n",
       "3                0.0                0.0            0.586977   \n",
       "4                0.0                0.0            0.933868   \n",
       "\n",
       "   avrg_listened_user_flow  avrg_listened_user_noflow  \\\n",
       "0                 0.654762                   0.690141   \n",
       "1                 0.000000                   0.589744   \n",
       "2                 0.977273                   0.990654   \n",
       "3                 0.544218                   0.603073   \n",
       "4                 0.937500                   0.933002   \n",
       "\n",
       "   avrg_listened_user_current  count_user  avrg_listened_artist  \\\n",
       "0                    0.690141         227              0.000000   \n",
       "1                    0.589744          41              0.379310   \n",
       "2                    0.977273         303              0.781250   \n",
       "3                    0.603073        1076              0.714563   \n",
       "4                    0.933002         999              0.806763   \n",
       "\n",
       "   avrg_listened_artist_flow  avrg_listened_artist_noflow  \\\n",
       "0                   0.000000                     0.000000   \n",
       "1                   0.714286                     0.272727   \n",
       "2                   0.833333                     0.775862   \n",
       "3                   0.666667                     0.722919   \n",
       "4                   0.750000                     0.823899   \n",
       "\n",
       "   avrg_listened_artist_current  count_artist  avrg_listened_media  \\\n",
       "0                      0.000000             1             0.000000   \n",
       "1                      0.272727            30             1.000000   \n",
       "2                      0.833333           128             1.000000   \n",
       "3                      0.722919          1031             0.000000   \n",
       "4                      0.823899           207             0.866667   \n",
       "\n",
       "   avrg_listened_media_flow  avrg_listened_media_noflow  \\\n",
       "0                  0.000000                      0.0000   \n",
       "1                  1.000000                      1.0000   \n",
       "2                  1.000000                      1.0000   \n",
       "3                  0.000000                      0.0000   \n",
       "4                  0.785714                      0.9375   \n",
       "\n",
       "   avrg_listened_media_current  count_media  avrg_listened_album  \\\n",
       "0                       0.0000            1             0.000000   \n",
       "1                       1.0000            1             1.000000   \n",
       "2                       1.0000            1             1.000000   \n",
       "3                       0.0000            1             0.000000   \n",
       "4                       0.9375           30             0.882353   \n",
       "\n",
       "   avrg_listened_album_flow  avrg_listened_album_noflow  \\\n",
       "0                       0.0                    0.000000   \n",
       "1                       1.0                    1.000000   \n",
       "2                       1.0                    1.000000   \n",
       "3                       0.0                    0.000000   \n",
       "4                       0.8                    0.947368   \n",
       "\n",
       "   avrg_listened_album_current  count_album  avrg_listened_genre  \\\n",
       "0                     0.000000            1             0.688120   \n",
       "1                     1.000000            1             0.567614   \n",
       "2                     1.000000            1             0.743868   \n",
       "3                     0.000000            1             0.663092   \n",
       "4                     0.947368           34             0.663092   \n",
       "\n",
       "   avrg_listened_genre_flow  avrg_listened_genre_noflow  \\\n",
       "0                  0.596593                    0.737953   \n",
       "1                  0.548518                    0.576582   \n",
       "2                  0.663128                    0.779587   \n",
       "3                  0.601317                    0.705924   \n",
       "4                  0.601317                    0.705924   \n",
       "\n",
       "   avrg_listened_genre_current  count_genre     age_song  \n",
       "0                     0.737953        23025  391705215.0  \n",
       "1                     0.576582         2325  339377135.0  \n",
       "2                     0.663128         4615   74275153.0  \n",
       "3                     0.705924       931953  507291698.0  \n",
       "4                     0.705924       931953  275338974.0  "
      ]
     },
     "execution_count": 37,
     "metadata": {},
     "output_type": "execute_result"
    }
   ],
   "source": [
    "combined.head()"
   ]
  },
  {
   "cell_type": "markdown",
   "metadata": {
    "run_control": {
     "frozen": false,
     "read_only": false
    }
   },
   "source": [
    "## Other ideas: compute mean length for an album, an artist, a genre, mean of is_listened for each user, each artist, etc using the date "
   ]
  },
  {
   "cell_type": "markdown",
   "metadata": {
    "run_control": {
     "frozen": false,
     "read_only": false
    }
   },
   "source": [
    "### Time since previous song (what to do with the first value?)"
   ]
  },
  {
   "cell_type": "code",
   "execution_count": 106,
   "metadata": {
    "ExecuteTime": {
     "end_time": "2017-04-18T22:39:01.107202",
     "start_time": "2017-04-18T22:38:42.478762"
    },
    "collapsed": false,
    "run_control": {
     "frozen": false,
     "read_only": false
    }
   },
   "outputs": [],
   "source": [
    "combined_sorted = combined[['ts_listen', 'user_id']].sort_values(['user_id', 'ts_listen'])"
   ]
  },
  {
   "cell_type": "code",
   "execution_count": 107,
   "metadata": {
    "ExecuteTime": {
     "end_time": "2017-04-18T22:39:06.811598",
     "start_time": "2017-04-18T22:39:05.013070"
    },
    "collapsed": false,
    "run_control": {
     "frozen": false,
     "read_only": false
    }
   },
   "outputs": [],
   "source": [
    "ttnxt = -(combined_sorted - combined_sorted.shift(-1))\n",
    "ttnxt['ts_listen'].ix[ttnxt['user_id'] != 0] = np.nan\n",
    "ttnxt['ts_listen'].fillna(int(np.max(ttnxt[~np.isnan(ttnxt['ts_listen'])]['ts_listen'])), inplace=True)"
   ]
  },
  {
   "cell_type": "code",
   "execution_count": 108,
   "metadata": {
    "ExecuteTime": {
     "end_time": "2017-04-18T22:39:07.201448",
     "start_time": "2017-04-18T22:39:06.812744"
    },
    "collapsed": false,
    "run_control": {
     "frozen": false,
     "read_only": false
    }
   },
   "outputs": [],
   "source": [
    "ttprv = combined_sorted - combined_sorted.shift(1)\n",
    "ttprv['ts_listen'].ix[ttprv['user_id'] != 0] = np.nan\n",
    "ttprv['ts_listen'].fillna(int(np.max(ttprv[~np.isnan(ttprv['ts_listen'])]['ts_listen'])), inplace=True)"
   ]
  },
  {
   "cell_type": "code",
   "execution_count": 109,
   "metadata": {
    "ExecuteTime": {
     "end_time": "2017-04-18T22:39:07.291808",
     "start_time": "2017-04-18T22:39:07.202849"
    },
    "collapsed": false,
    "run_control": {
     "frozen": false,
     "read_only": false
    }
   },
   "outputs": [],
   "source": [
    "combined_sorted['time_to_prev'] = ttprv['ts_listen']\n",
    "combined_sorted['time_to_next'] = ttnxt['ts_listen']"
   ]
  },
  {
   "cell_type": "code",
   "execution_count": 111,
   "metadata": {
    "ExecuteTime": {
     "end_time": "2017-04-18T22:40:42.334286",
     "start_time": "2017-04-18T22:40:42.326415"
    },
    "collapsed": false,
    "run_control": {
     "frozen": false,
     "read_only": false
    }
   },
   "outputs": [
    {
     "data": {
      "text/html": [
       "<div>\n",
       "<table border=\"1\" class=\"dataframe\">\n",
       "  <thead>\n",
       "    <tr style=\"text-align: right;\">\n",
       "      <th></th>\n",
       "      <th>ts_listen</th>\n",
       "      <th>user_id</th>\n",
       "      <th>time_to_prev</th>\n",
       "      <th>time_to_next</th>\n",
       "    </tr>\n",
       "  </thead>\n",
       "  <tbody>\n",
       "    <tr>\n",
       "      <th>682395</th>\n",
       "      <td>1477939775</td>\n",
       "      <td>0</td>\n",
       "      <td>248904905.0</td>\n",
       "      <td>42756.0</td>\n",
       "    </tr>\n",
       "    <tr>\n",
       "      <th>4454309</th>\n",
       "      <td>1477982531</td>\n",
       "      <td>0</td>\n",
       "      <td>42756.0</td>\n",
       "      <td>30.0</td>\n",
       "    </tr>\n",
       "    <tr>\n",
       "      <th>5353733</th>\n",
       "      <td>1477982561</td>\n",
       "      <td>0</td>\n",
       "      <td>30.0</td>\n",
       "      <td>21.0</td>\n",
       "    </tr>\n",
       "    <tr>\n",
       "      <th>5898585</th>\n",
       "      <td>1477982582</td>\n",
       "      <td>0</td>\n",
       "      <td>21.0</td>\n",
       "      <td>210.0</td>\n",
       "    </tr>\n",
       "    <tr>\n",
       "      <th>4715887</th>\n",
       "      <td>1477982792</td>\n",
       "      <td>0</td>\n",
       "      <td>210.0</td>\n",
       "      <td>186.0</td>\n",
       "    </tr>\n",
       "  </tbody>\n",
       "</table>\n",
       "</div>"
      ],
      "text/plain": [
       "          ts_listen  user_id  time_to_prev  time_to_next\n",
       "682395   1477939775        0   248904905.0       42756.0\n",
       "4454309  1477982531        0       42756.0          30.0\n",
       "5353733  1477982561        0          30.0          21.0\n",
       "5898585  1477982582        0          21.0         210.0\n",
       "4715887  1477982792        0         210.0         186.0"
      ]
     },
     "execution_count": 111,
     "metadata": {},
     "output_type": "execute_result"
    }
   ],
   "source": [
    "combined_sorted.head()"
   ]
  },
  {
   "cell_type": "code",
   "execution_count": 112,
   "metadata": {
    "ExecuteTime": {
     "end_time": "2017-04-18T22:45:28.605798",
     "start_time": "2017-04-18T22:40:55.807837"
    },
    "collapsed": false,
    "run_control": {
     "frozen": false,
     "read_only": false
    }
   },
   "outputs": [],
   "source": [
    "combined = combined.join(combined_sorted[['time_to_prev','time_to_next']], None, 'left', 'l')"
   ]
  },
  {
   "cell_type": "code",
   "execution_count": 113,
   "metadata": {
    "ExecuteTime": {
     "end_time": "2017-04-18T22:45:48.196225",
     "start_time": "2017-04-18T22:45:30.353673"
    },
    "collapsed": false,
    "run_control": {
     "frozen": false,
     "read_only": false
    }
   },
   "outputs": [
    {
     "data": {
      "text/html": [
       "<div>\n",
       "<table border=\"1\" class=\"dataframe\">\n",
       "  <thead>\n",
       "    <tr style=\"text-align: right;\">\n",
       "      <th></th>\n",
       "      <th>Unnamed: 0</th>\n",
       "      <th>genre_id</th>\n",
       "      <th>ts_listen</th>\n",
       "      <th>media_id</th>\n",
       "      <th>album_id</th>\n",
       "      <th>context_type</th>\n",
       "      <th>release_date</th>\n",
       "      <th>media_duration</th>\n",
       "      <th>listen_type</th>\n",
       "      <th>user_gender</th>\n",
       "      <th>user_id</th>\n",
       "      <th>artist_id</th>\n",
       "      <th>user_age</th>\n",
       "      <th>platform_name_0</th>\n",
       "      <th>platform_name_1</th>\n",
       "      <th>platform_name_2</th>\n",
       "      <th>platform_family_0</th>\n",
       "      <th>platform_family_1</th>\n",
       "      <th>platform_family_2</th>\n",
       "      <th>avrg_listened_user</th>\n",
       "      <th>avrg_listened_user_flow</th>\n",
       "      <th>avrg_listened_user_noflow</th>\n",
       "      <th>avrg_listened_user_current</th>\n",
       "      <th>count_user</th>\n",
       "      <th>avrg_listened_artist</th>\n",
       "      <th>avrg_listened_artist_flow</th>\n",
       "      <th>avrg_listened_artist_noflow</th>\n",
       "      <th>avrg_listened_artist_current</th>\n",
       "      <th>count_artist</th>\n",
       "      <th>avrg_listened_media</th>\n",
       "      <th>avrg_listened_media_flow</th>\n",
       "      <th>avrg_listened_media_noflow</th>\n",
       "      <th>avrg_listened_media_current</th>\n",
       "      <th>count_media</th>\n",
       "      <th>avrg_listened_album</th>\n",
       "      <th>avrg_listened_album_flow</th>\n",
       "      <th>avrg_listened_album_noflow</th>\n",
       "      <th>avrg_listened_album_current</th>\n",
       "      <th>count_album</th>\n",
       "      <th>avrg_listened_genre</th>\n",
       "      <th>avrg_listened_genre_flow</th>\n",
       "      <th>avrg_listened_genre_noflow</th>\n",
       "      <th>avrg_listened_genre_current</th>\n",
       "      <th>count_genre</th>\n",
       "      <th>age_song</th>\n",
       "      <th>time_to_prev</th>\n",
       "      <th>time_to_next</th>\n",
       "    </tr>\n",
       "  </thead>\n",
       "  <tbody>\n",
       "    <tr>\n",
       "      <th>0</th>\n",
       "      <td>0</td>\n",
       "      <td>25471</td>\n",
       "      <td>1480597215</td>\n",
       "      <td>222606</td>\n",
       "      <td>41774</td>\n",
       "      <td>12</td>\n",
       "      <td>1.088892e+09</td>\n",
       "      <td>223</td>\n",
       "      <td>0</td>\n",
       "      <td>0</td>\n",
       "      <td>9241</td>\n",
       "      <td>55164</td>\n",
       "      <td>29</td>\n",
       "      <td>0.0</td>\n",
       "      <td>1.0</td>\n",
       "      <td>0.0</td>\n",
       "      <td>1.0</td>\n",
       "      <td>0.0</td>\n",
       "      <td>0.0</td>\n",
       "      <td>0.676991</td>\n",
       "      <td>0.654762</td>\n",
       "      <td>0.690141</td>\n",
       "      <td>0.690141</td>\n",
       "      <td>227</td>\n",
       "      <td>0.000000</td>\n",
       "      <td>0.000000</td>\n",
       "      <td>0.000000</td>\n",
       "      <td>0.000000</td>\n",
       "      <td>1</td>\n",
       "      <td>0.000000</td>\n",
       "      <td>0.000000</td>\n",
       "      <td>0.0000</td>\n",
       "      <td>0.0000</td>\n",
       "      <td>1</td>\n",
       "      <td>0.000000</td>\n",
       "      <td>0.0</td>\n",
       "      <td>0.000000</td>\n",
       "      <td>0.000000</td>\n",
       "      <td>1</td>\n",
       "      <td>0.688120</td>\n",
       "      <td>0.596593</td>\n",
       "      <td>0.737953</td>\n",
       "      <td>0.737953</td>\n",
       "      <td>23025</td>\n",
       "      <td>391705215.0</td>\n",
       "      <td>12.0</td>\n",
       "      <td>7.0</td>\n",
       "    </tr>\n",
       "    <tr>\n",
       "      <th>1</th>\n",
       "      <td>1</td>\n",
       "      <td>25571</td>\n",
       "      <td>1480544735</td>\n",
       "      <td>250467</td>\n",
       "      <td>43941</td>\n",
       "      <td>0</td>\n",
       "      <td>1.141168e+09</td>\n",
       "      <td>171</td>\n",
       "      <td>0</td>\n",
       "      <td>0</td>\n",
       "      <td>16547</td>\n",
       "      <td>55830</td>\n",
       "      <td>30</td>\n",
       "      <td>0.0</td>\n",
       "      <td>0.0</td>\n",
       "      <td>1.0</td>\n",
       "      <td>0.0</td>\n",
       "      <td>1.0</td>\n",
       "      <td>0.0</td>\n",
       "      <td>0.575000</td>\n",
       "      <td>0.000000</td>\n",
       "      <td>0.589744</td>\n",
       "      <td>0.589744</td>\n",
       "      <td>41</td>\n",
       "      <td>0.379310</td>\n",
       "      <td>0.714286</td>\n",
       "      <td>0.272727</td>\n",
       "      <td>0.272727</td>\n",
       "      <td>30</td>\n",
       "      <td>1.000000</td>\n",
       "      <td>1.000000</td>\n",
       "      <td>1.0000</td>\n",
       "      <td>1.0000</td>\n",
       "      <td>1</td>\n",
       "      <td>1.000000</td>\n",
       "      <td>1.0</td>\n",
       "      <td>1.000000</td>\n",
       "      <td>1.000000</td>\n",
       "      <td>1</td>\n",
       "      <td>0.567614</td>\n",
       "      <td>0.548518</td>\n",
       "      <td>0.576582</td>\n",
       "      <td>0.576582</td>\n",
       "      <td>2325</td>\n",
       "      <td>339377135.0</td>\n",
       "      <td>194.0</td>\n",
       "      <td>35.0</td>\n",
       "    </tr>\n",
       "    <tr>\n",
       "      <th>2</th>\n",
       "      <td>2</td>\n",
       "      <td>16</td>\n",
       "      <td>1479563953</td>\n",
       "      <td>305197</td>\n",
       "      <td>48078</td>\n",
       "      <td>1</td>\n",
       "      <td>1.405289e+09</td>\n",
       "      <td>149</td>\n",
       "      <td>1</td>\n",
       "      <td>1</td>\n",
       "      <td>7665</td>\n",
       "      <td>2704</td>\n",
       "      <td>29</td>\n",
       "      <td>0.0</td>\n",
       "      <td>0.0</td>\n",
       "      <td>1.0</td>\n",
       "      <td>0.0</td>\n",
       "      <td>1.0</td>\n",
       "      <td>0.0</td>\n",
       "      <td>0.986755</td>\n",
       "      <td>0.977273</td>\n",
       "      <td>0.990654</td>\n",
       "      <td>0.977273</td>\n",
       "      <td>303</td>\n",
       "      <td>0.781250</td>\n",
       "      <td>0.833333</td>\n",
       "      <td>0.775862</td>\n",
       "      <td>0.833333</td>\n",
       "      <td>128</td>\n",
       "      <td>1.000000</td>\n",
       "      <td>1.000000</td>\n",
       "      <td>1.0000</td>\n",
       "      <td>1.0000</td>\n",
       "      <td>1</td>\n",
       "      <td>1.000000</td>\n",
       "      <td>1.0</td>\n",
       "      <td>1.000000</td>\n",
       "      <td>1.000000</td>\n",
       "      <td>1</td>\n",
       "      <td>0.743868</td>\n",
       "      <td>0.663128</td>\n",
       "      <td>0.779587</td>\n",
       "      <td>0.663128</td>\n",
       "      <td>4615</td>\n",
       "      <td>74275153.0</td>\n",
       "      <td>33.0</td>\n",
       "      <td>151.0</td>\n",
       "    </tr>\n",
       "    <tr>\n",
       "      <th>3</th>\n",
       "      <td>3</td>\n",
       "      <td>7</td>\n",
       "      <td>1480152098</td>\n",
       "      <td>900502</td>\n",
       "      <td>71521</td>\n",
       "      <td>0</td>\n",
       "      <td>9.728604e+08</td>\n",
       "      <td>240</td>\n",
       "      <td>0</td>\n",
       "      <td>1</td>\n",
       "      <td>1580</td>\n",
       "      <td>938</td>\n",
       "      <td>30</td>\n",
       "      <td>1.0</td>\n",
       "      <td>0.0</td>\n",
       "      <td>0.0</td>\n",
       "      <td>1.0</td>\n",
       "      <td>0.0</td>\n",
       "      <td>0.0</td>\n",
       "      <td>0.586977</td>\n",
       "      <td>0.544218</td>\n",
       "      <td>0.603073</td>\n",
       "      <td>0.603073</td>\n",
       "      <td>1076</td>\n",
       "      <td>0.714563</td>\n",
       "      <td>0.666667</td>\n",
       "      <td>0.722919</td>\n",
       "      <td>0.722919</td>\n",
       "      <td>1031</td>\n",
       "      <td>0.000000</td>\n",
       "      <td>0.000000</td>\n",
       "      <td>0.0000</td>\n",
       "      <td>0.0000</td>\n",
       "      <td>1</td>\n",
       "      <td>0.000000</td>\n",
       "      <td>0.0</td>\n",
       "      <td>0.000000</td>\n",
       "      <td>0.000000</td>\n",
       "      <td>1</td>\n",
       "      <td>0.663092</td>\n",
       "      <td>0.601317</td>\n",
       "      <td>0.705924</td>\n",
       "      <td>0.705924</td>\n",
       "      <td>931953</td>\n",
       "      <td>507291698.0</td>\n",
       "      <td>6.0</td>\n",
       "      <td>8.0</td>\n",
       "    </tr>\n",
       "    <tr>\n",
       "      <th>4</th>\n",
       "      <td>4</td>\n",
       "      <td>7</td>\n",
       "      <td>1478368974</td>\n",
       "      <td>542335</td>\n",
       "      <td>71718</td>\n",
       "      <td>0</td>\n",
       "      <td>1.203030e+09</td>\n",
       "      <td>150</td>\n",
       "      <td>0</td>\n",
       "      <td>1</td>\n",
       "      <td>1812</td>\n",
       "      <td>2939</td>\n",
       "      <td>24</td>\n",
       "      <td>1.0</td>\n",
       "      <td>0.0</td>\n",
       "      <td>0.0</td>\n",
       "      <td>1.0</td>\n",
       "      <td>0.0</td>\n",
       "      <td>0.0</td>\n",
       "      <td>0.933868</td>\n",
       "      <td>0.937500</td>\n",
       "      <td>0.933002</td>\n",
       "      <td>0.933002</td>\n",
       "      <td>999</td>\n",
       "      <td>0.806763</td>\n",
       "      <td>0.750000</td>\n",
       "      <td>0.823899</td>\n",
       "      <td>0.823899</td>\n",
       "      <td>207</td>\n",
       "      <td>0.866667</td>\n",
       "      <td>0.785714</td>\n",
       "      <td>0.9375</td>\n",
       "      <td>0.9375</td>\n",
       "      <td>30</td>\n",
       "      <td>0.882353</td>\n",
       "      <td>0.8</td>\n",
       "      <td>0.947368</td>\n",
       "      <td>0.947368</td>\n",
       "      <td>34</td>\n",
       "      <td>0.663092</td>\n",
       "      <td>0.601317</td>\n",
       "      <td>0.705924</td>\n",
       "      <td>0.705924</td>\n",
       "      <td>931953</td>\n",
       "      <td>275338974.0</td>\n",
       "      <td>26052.0</td>\n",
       "      <td>568.0</td>\n",
       "    </tr>\n",
       "  </tbody>\n",
       "</table>\n",
       "</div>"
      ],
      "text/plain": [
       "   Unnamed: 0  genre_id   ts_listen  media_id  album_id  context_type  \\\n",
       "0           0     25471  1480597215    222606     41774            12   \n",
       "1           1     25571  1480544735    250467     43941             0   \n",
       "2           2        16  1479563953    305197     48078             1   \n",
       "3           3         7  1480152098    900502     71521             0   \n",
       "4           4         7  1478368974    542335     71718             0   \n",
       "\n",
       "   release_date  media_duration  listen_type  user_gender  user_id  artist_id  \\\n",
       "0  1.088892e+09             223            0            0     9241      55164   \n",
       "1  1.141168e+09             171            0            0    16547      55830   \n",
       "2  1.405289e+09             149            1            1     7665       2704   \n",
       "3  9.728604e+08             240            0            1     1580        938   \n",
       "4  1.203030e+09             150            0            1     1812       2939   \n",
       "\n",
       "   user_age  platform_name_0  platform_name_1  platform_name_2  \\\n",
       "0        29              0.0              1.0              0.0   \n",
       "1        30              0.0              0.0              1.0   \n",
       "2        29              0.0              0.0              1.0   \n",
       "3        30              1.0              0.0              0.0   \n",
       "4        24              1.0              0.0              0.0   \n",
       "\n",
       "   platform_family_0  platform_family_1  platform_family_2  \\\n",
       "0                1.0                0.0                0.0   \n",
       "1                0.0                1.0                0.0   \n",
       "2                0.0                1.0                0.0   \n",
       "3                1.0                0.0                0.0   \n",
       "4                1.0                0.0                0.0   \n",
       "\n",
       "   avrg_listened_user  avrg_listened_user_flow  avrg_listened_user_noflow  \\\n",
       "0            0.676991                 0.654762                   0.690141   \n",
       "1            0.575000                 0.000000                   0.589744   \n",
       "2            0.986755                 0.977273                   0.990654   \n",
       "3            0.586977                 0.544218                   0.603073   \n",
       "4            0.933868                 0.937500                   0.933002   \n",
       "\n",
       "   avrg_listened_user_current  count_user  avrg_listened_artist  \\\n",
       "0                    0.690141         227              0.000000   \n",
       "1                    0.589744          41              0.379310   \n",
       "2                    0.977273         303              0.781250   \n",
       "3                    0.603073        1076              0.714563   \n",
       "4                    0.933002         999              0.806763   \n",
       "\n",
       "   avrg_listened_artist_flow  avrg_listened_artist_noflow  \\\n",
       "0                   0.000000                     0.000000   \n",
       "1                   0.714286                     0.272727   \n",
       "2                   0.833333                     0.775862   \n",
       "3                   0.666667                     0.722919   \n",
       "4                   0.750000                     0.823899   \n",
       "\n",
       "   avrg_listened_artist_current  count_artist  avrg_listened_media  \\\n",
       "0                      0.000000             1             0.000000   \n",
       "1                      0.272727            30             1.000000   \n",
       "2                      0.833333           128             1.000000   \n",
       "3                      0.722919          1031             0.000000   \n",
       "4                      0.823899           207             0.866667   \n",
       "\n",
       "   avrg_listened_media_flow  avrg_listened_media_noflow  \\\n",
       "0                  0.000000                      0.0000   \n",
       "1                  1.000000                      1.0000   \n",
       "2                  1.000000                      1.0000   \n",
       "3                  0.000000                      0.0000   \n",
       "4                  0.785714                      0.9375   \n",
       "\n",
       "   avrg_listened_media_current  count_media  avrg_listened_album  \\\n",
       "0                       0.0000            1             0.000000   \n",
       "1                       1.0000            1             1.000000   \n",
       "2                       1.0000            1             1.000000   \n",
       "3                       0.0000            1             0.000000   \n",
       "4                       0.9375           30             0.882353   \n",
       "\n",
       "   avrg_listened_album_flow  avrg_listened_album_noflow  \\\n",
       "0                       0.0                    0.000000   \n",
       "1                       1.0                    1.000000   \n",
       "2                       1.0                    1.000000   \n",
       "3                       0.0                    0.000000   \n",
       "4                       0.8                    0.947368   \n",
       "\n",
       "   avrg_listened_album_current  count_album  avrg_listened_genre  \\\n",
       "0                     0.000000            1             0.688120   \n",
       "1                     1.000000            1             0.567614   \n",
       "2                     1.000000            1             0.743868   \n",
       "3                     0.000000            1             0.663092   \n",
       "4                     0.947368           34             0.663092   \n",
       "\n",
       "   avrg_listened_genre_flow  avrg_listened_genre_noflow  \\\n",
       "0                  0.596593                    0.737953   \n",
       "1                  0.548518                    0.576582   \n",
       "2                  0.663128                    0.779587   \n",
       "3                  0.601317                    0.705924   \n",
       "4                  0.601317                    0.705924   \n",
       "\n",
       "   avrg_listened_genre_current  count_genre     age_song  time_to_prev  \\\n",
       "0                     0.737953        23025  391705215.0          12.0   \n",
       "1                     0.576582         2325  339377135.0         194.0   \n",
       "2                     0.663128         4615   74275153.0          33.0   \n",
       "3                     0.705924       931953  507291698.0           6.0   \n",
       "4                     0.705924       931953  275338974.0       26052.0   \n",
       "\n",
       "   time_to_next  \n",
       "0           7.0  \n",
       "1          35.0  \n",
       "2         151.0  \n",
       "3           8.0  \n",
       "4         568.0  "
      ]
     },
     "execution_count": 113,
     "metadata": {},
     "output_type": "execute_result"
    }
   ],
   "source": [
    "combined.head()"
   ]
  },
  {
   "cell_type": "markdown",
   "metadata": {
    "run_control": {
     "frozen": false,
     "read_only": false
    }
   },
   "source": [
    "## CENTER DATA"
   ]
  },
  {
   "cell_type": "code",
   "execution_count": 114,
   "metadata": {
    "ExecuteTime": {
     "end_time": "2017-04-18T22:57:24.796829",
     "start_time": "2017-04-18T22:48:19.048016"
    },
    "collapsed": false,
    "run_control": {
     "frozen": false,
     "read_only": false
    }
   },
   "outputs": [],
   "source": [
    "combined.to_csv('temp_combined.csv')\n",
    "target.to_csv('temp_target.csv')"
   ]
  },
  {
   "cell_type": "code",
   "execution_count": 3,
   "metadata": {
    "ExecuteTime": {
     "end_time": "2017-04-18T23:04:57.251442",
     "start_time": "2017-04-19T00:02:52.432586"
    },
    "collapsed": false,
    "run_control": {
     "frozen": false,
     "read_only": false
    }
   },
   "outputs": [],
   "source": [
    "combined = pd.read_csv('temp_combined.csv')\n",
    "target = pd.read_csv('temp_target.csv', header = None)[1]"
   ]
  },
  {
   "cell_type": "code",
   "execution_count": null,
   "metadata": {
    "ExecuteTime": {
     "start_time": "2017-04-18T21:07:04.685Z"
    },
    "collapsed": false,
    "init_cell": true,
    "run_control": {
     "frozen": false,
     "read_only": false
    }
   },
   "outputs": [],
   "source": [
    "for _ in combined.columns:\n",
    "    if np.std(combined[_][:len(target)]) != 0:\n",
    "        combined[_] = (combined[_] - np.mean(combined[_][:len(target)]))/np.std(combined[_][:len(target)])"
   ]
  },
  {
   "cell_type": "markdown",
   "metadata": {
    "run_control": {
     "frozen": false,
     "read_only": false
    }
   },
   "source": [
    "<h1> IV. Modeling </h1>"
   ]
  },
  {
   "cell_type": "markdown",
   "metadata": {
    "run_control": {
     "frozen": false,
     "read_only": false
    }
   },
   "source": [
    "## Separate the modified train and test sets"
   ]
  },
  {
   "cell_type": "code",
   "execution_count": null,
   "metadata": {
    "ExecuteTime": {
     "start_time": "2017-04-18T21:07:07.316Z"
    },
    "collapsed": false,
    "run_control": {
     "frozen": false,
     "read_only": false
    }
   },
   "outputs": [],
   "source": [
    "newtrain = combined[:len(target)]\n",
    "newtest = combined[len(target):]"
   ]
  },
  {
   "cell_type": "markdown",
   "metadata": {
    "run_control": {
     "frozen": false,
     "read_only": false
    }
   },
   "source": [
    "## A function to visualize the importance of the features"
   ]
  },
  {
   "cell_type": "code",
   "execution_count": null,
   "metadata": {
    "ExecuteTime": {
     "start_time": "2017-04-18T21:07:09.408Z"
    },
    "code_folding": [],
    "collapsed": false,
    "run_control": {
     "frozen": false,
     "read_only": false
    }
   },
   "outputs": [],
   "source": [
    "def importanceVisualisation(feature_importance, predictors, firstN = 40):\n",
    "    \n",
    "    plt.rcParams[\"figure.figsize\"] = [40,10]\n",
    "    # make importances relative to max importance\n",
    "    feature_importance = 100.0 * (feature_importance / feature_importance.max())\n",
    "    sorted_idx = np.argsort(feature_importance)\n",
    "    pos = np.arange(sorted_idx.shape[0]) + .5\n",
    "    plt.subplot(1, 2, 2)\n",
    "    plt.bar(pos[-firstN:], feature_importance[sorted_idx][-firstN:], align='center')\n",
    "    plt.xticks(pos[-firstN:], predictors[sorted_idx][-firstN:], rotation='vertical')\n",
    "    plt.ylabel('Relative Importance')\n",
    "    plt.title('Variable Importance')\n",
    "    plt.show()"
   ]
  },
  {
   "cell_type": "markdown",
   "metadata": {
    "run_control": {
     "frozen": false,
     "read_only": false
    }
   },
   "source": [
    "<h1> IV - 1. Gradient Boosting </h1>"
   ]
  },
  {
   "cell_type": "code",
   "execution_count": null,
   "metadata": {
    "ExecuteTime": {
     "start_time": "2017-04-18T21:07:11.872Z"
    },
    "collapsed": false,
    "run_control": {
     "frozen": false,
     "read_only": false
    }
   },
   "outputs": [],
   "source": [
    "from sklearn import ensemble\n",
    "params = {'n_estimators': 1000, 'max_depth': 4, 'min_samples_split': 2,\n",
    "          'learning_rate': 0.01, 'loss': 'huber', 'verbose':1}\n",
    "gbr = ensemble.GradientBoostingRegressor(**params)"
   ]
  },
  {
   "cell_type": "code",
   "execution_count": null,
   "metadata": {
    "ExecuteTime": {
     "start_time": "2017-04-18T21:07:12.598Z"
    },
    "collapsed": false,
    "run_control": {
     "frozen": false,
     "read_only": false
    }
   },
   "outputs": [],
   "source": [
    "gbr.fit(newtrain, target)"
   ]
  },
  {
   "cell_type": "code",
   "execution_count": null,
   "metadata": {
    "ExecuteTime": {
     "start_time": "2017-04-18T21:07:14.235Z"
    },
    "collapsed": false,
    "run_control": {
     "frozen": false,
     "read_only": false
    }
   },
   "outputs": [],
   "source": [
    "importanceVisualisation(gbr.feature_importances_, newtrain.columns)"
   ]
  },
  {
   "cell_type": "markdown",
   "metadata": {
    "run_control": {
     "frozen": false,
     "read_only": false
    }
   },
   "source": [
    "<h1> IV - 2. XGBoost </h1>"
   ]
  },
  {
   "cell_type": "code",
   "execution_count": 22,
   "metadata": {
    "ExecuteTime": {
     "end_time": "2017-04-17T02:22:37.245908",
     "start_time": "2017-04-17T02:22:36.708113"
    },
    "collapsed": false,
    "run_control": {
     "frozen": false,
     "read_only": false
    }
   },
   "outputs": [],
   "source": [
    "from sklearn.model_selection import cross_val_predict\n",
    "\n",
    "def modelfit(alg, dtrain, predictors,useTrainCV=True, cv_folds=5, early_stopping_rounds=50, plot = False):\n",
    "    \n",
    "    if useTrainCV:\n",
    "        xgb_param = alg.get_xgb_params()\n",
    "        xgtrain = xgb.DMatrix(dtrain[predictors].values, label=target.values)\n",
    "        cvresult = xgb.cv(xgb_param, xgtrain, num_boost_round=alg.get_params()['n_estimators'], nfold=cv_folds,\n",
    "            metrics='auc', early_stopping_rounds=early_stopping_rounds)\n",
    "        alg.set_params(n_estimators=cvresult.shape[0])\n",
    "    \n",
    "    #Fit the algorithm on the data\n",
    "    alg.fit(dtrain[predictors], target, eval_metric='auc')\n",
    "        \n",
    "    #Predict training set:\n",
    "    dtrain_predictions = alg.predict(dtrain[predictors])\n",
    "    dtrain_predprob = alg.predict_proba(dtrain[predictors])[:,1]\n",
    "        \n",
    "    #Print model report:\n",
    "    print(\"\\nModel Report\")\n",
    "    print(\"Accuracy : %.4g\" % metrics.accuracy_score(target.values, dtrain_predictions))\n",
    "    print(\"AUC Score (Train): %f\" % metrics.roc_auc_score(target, dtrain_predprob))\n",
    "    predicted_cv = cross_val_predict(alg, dtrain, target, cv = 5, n_jobs = -1)\n",
    "    print('AUC Score (CV):',metrics.roc_auc_score(target, predicted_cv))\n",
    "    \n",
    "    if plot:\n",
    "        importanceVisualisation(pd.Series(alg.booster().get_fscore()), predictors)"
   ]
  },
  {
   "cell_type": "code",
   "execution_count": 27,
   "metadata": {
    "ExecuteTime": {
     "end_time": "2017-04-16T20:28:35.517307",
     "start_time": "2017-04-16T20:28:35.470792"
    },
    "collapsed": false,
    "run_control": {
     "frozen": false,
     "read_only": false
    }
   },
   "outputs": [],
   "source": [
    "predictors = newtrain.columns"
   ]
  },
  {
   "cell_type": "markdown",
   "metadata": {
    "run_control": {
     "frozen": false,
     "read_only": false
    }
   },
   "source": [
    "## FIRST MODEL"
   ]
  },
  {
   "cell_type": "code",
   "execution_count": null,
   "metadata": {
    "ExecuteTime": {
     "end_time": "2017-04-16T17:57:02.387420",
     "start_time": "2017-04-16T11:56:06.143Z"
    },
    "collapsed": false,
    "run_control": {
     "frozen": false,
     "read_only": false
    }
   },
   "outputs": [],
   "source": [
    "xgb1 = XGBClassifier(\n",
    " learning_rate =0.1,\n",
    " n_estimators=1000,\n",
    " max_depth=5,\n",
    " min_child_weight=1,\n",
    " gamma=0,\n",
    " subsample=0.8,\n",
    " colsample_bytree=0.8,\n",
    " objective= 'binary:logistic',\n",
    " nthread=-1,\n",
    " scale_pos_weight=1,\n",
    " seed=27)\n",
    "modelfit(xgb1, newtrain, predictors)"
   ]
  },
  {
   "cell_type": "markdown",
   "metadata": {
    "run_control": {
     "frozen": false,
     "read_only": false
    }
   },
   "source": [
    "## GRID SEARCH ON XGBOOST TO FIND THE BEST PARAMETERS (VERY LONG)"
   ]
  },
  {
   "cell_type": "markdown",
   "metadata": {
    "run_control": {
     "frozen": false,
     "read_only": false
    }
   },
   "source": [
    "## Grid search on 'max_depth' and 'min_child_weight'"
   ]
  },
  {
   "cell_type": "code",
   "execution_count": null,
   "metadata": {
    "ExecuteTime": {
     "end_time": "2017-04-16T17:57:02.387739",
     "start_time": "2017-04-16T11:56:06.162Z"
    },
    "collapsed": false,
    "run_control": {
     "frozen": false,
     "read_only": false
    }
   },
   "outputs": [],
   "source": [
    "# param_test1 = {\n",
    "#  'max_depth':np.array(range(3,10,2)),\n",
    "#  'min_child_weight':np.array(range(1,6,2))\n",
    "# }\n",
    "# gsearch1 = GridSearchCV(estimator = XGBClassifier( learning_rate =0.1, n_estimators=140, max_depth=5,\n",
    "#  min_child_weight=1, gamma=0, subsample=0.8, colsample_bytree=0.8,\n",
    "#  objective= 'binary:logistic', nthread=4, scale_pos_weight=1, seed=27), \n",
    "#  param_grid = param_test1, scoring='roc_auc',n_jobs=-1,iid=False, cv=5)\n",
    "# gsearch1.fit(newtrain[predictors],target)\n",
    "# gsearch1.grid_scores_, gsearch1.best_params_, gsearch1.best_score_"
   ]
  },
  {
   "cell_type": "markdown",
   "metadata": {
    "run_control": {
     "frozen": false,
     "read_only": false
    }
   },
   "source": [
    "## Finer grid search on 'max_depth' and 'min_child_weight'"
   ]
  },
  {
   "cell_type": "code",
   "execution_count": null,
   "metadata": {
    "ExecuteTime": {
     "end_time": "2017-04-16T17:57:02.388042",
     "start_time": "2017-04-16T11:56:06.182Z"
    },
    "collapsed": false,
    "run_control": {
     "frozen": false,
     "read_only": false
    }
   },
   "outputs": [],
   "source": [
    "# param_test2 = {\n",
    "#  'max_depth':[2,3,4],\n",
    "#  'min_child_weight':[2,3,4]\n",
    "# }\n",
    "# gsearch2 = GridSearchCV(estimator = XGBClassifier( learning_rate=0.1, n_estimators=140, max_depth=5,\n",
    "#  min_child_weight=2, gamma=0, subsample=0.8, colsample_bytree=0.8,\n",
    "#  objective= 'binary:logistic', nthread=-1, scale_pos_weight=1,seed=27), \n",
    "#  param_grid = param_test2, scoring='roc_auc',n_jobs=-1,iid=False, cv=5)\n",
    "# gsearch2.fit(newtrain[predictors],target)\n",
    "# gsearch2.grid_scores_, gsearch2.best_params_, gsearch2.best_score_"
   ]
  },
  {
   "cell_type": "markdown",
   "metadata": {
    "run_control": {
     "frozen": false,
     "read_only": false
    }
   },
   "source": [
    "## Grid search on 'gamma'"
   ]
  },
  {
   "cell_type": "code",
   "execution_count": null,
   "metadata": {
    "ExecuteTime": {
     "end_time": "2017-04-16T17:57:02.388367",
     "start_time": "2017-04-16T11:56:06.189Z"
    },
    "collapsed": false,
    "run_control": {
     "frozen": false,
     "read_only": false
    }
   },
   "outputs": [],
   "source": [
    "# param_test3 = {\n",
    "#  'gamma':[i/10.0 for i in range(0,5)]\n",
    "# }\n",
    "# gsearch3 = GridSearchCV(estimator = XGBClassifier( learning_rate =0.1, n_estimators=140, max_depth=4,\n",
    "#  min_child_weight=4, gamma=0, subsample=0.8, colsample_bytree=0.8,\n",
    "#  objective= 'binary:logistic', nthread=-1, scale_pos_weight=1,seed=27), \n",
    "#  param_grid = param_test3, scoring='roc_auc',n_jobs=-1,iid=False, cv=5)\n",
    "# gsearch3.fit(newtrain[predictors],target)\n",
    "# gsearch3.grid_scores_, gsearch3.best_params_, gsearch3.best_score_"
   ]
  },
  {
   "cell_type": "markdown",
   "metadata": {
    "run_control": {
     "frozen": false,
     "read_only": false
    }
   },
   "source": [
    "## Grid search on 'subsample' and 'colsample_bytree'"
   ]
  },
  {
   "cell_type": "code",
   "execution_count": null,
   "metadata": {
    "ExecuteTime": {
     "end_time": "2017-04-16T17:57:02.388665",
     "start_time": "2017-04-16T11:56:06.195Z"
    },
    "collapsed": false,
    "run_control": {
     "frozen": false,
     "read_only": false
    }
   },
   "outputs": [],
   "source": [
    "# param_test4 = { \n",
    "#  'subsample':[i/10.0 for i in range(6,11)],\n",
    "#  'colsample_bytree':[i/10.0 for i in range(6,11)]\n",
    "# }\n",
    "# gsearch4 = GridSearchCV(estimator = XGBClassifier( learning_rate =0.1, n_estimators=140, max_depth=4,\n",
    "#  min_child_weight=4, gamma=0, subsample=0.8, colsample_bytree=0.8,\n",
    "#  objective= 'binary:logistic', nthread=-1, scale_pos_weight=1,seed=27), \n",
    "#  param_grid = param_test4, scoring='roc_auc',n_jobs=-1,iid=False, cv=5)\n",
    "# gsearch4.fit(newtrain[predictors],target)\n",
    "# gsearch4.grid_scores_, gsearch4.best_params_, gsearch4.best_score_"
   ]
  },
  {
   "cell_type": "markdown",
   "metadata": {
    "run_control": {
     "frozen": false,
     "read_only": false
    }
   },
   "source": [
    "## Grid search on 'reg_alpha'"
   ]
  },
  {
   "cell_type": "code",
   "execution_count": null,
   "metadata": {
    "ExecuteTime": {
     "end_time": "2017-04-16T17:57:02.388961",
     "start_time": "2017-04-16T11:56:06.217Z"
    },
    "collapsed": false,
    "run_control": {
     "frozen": false,
     "read_only": false
    }
   },
   "outputs": [],
   "source": [
    "# param_test6 = {\n",
    "#  'reg_alpha':[1e-5, 1e-2, 0.1, 1, 100]\n",
    "# }\n",
    "# gsearch6 = GridSearchCV(estimator = XGBClassifier( learning_rate =0.1, n_estimators=140, max_depth=4,\n",
    "#  min_child_weight=4, gamma=0, subsample=1.0, colsample_bytree=0.6,\n",
    "#  objective= 'binary:logistic', nthread=-1, scale_pos_weight=1,seed=27), \n",
    "#  param_grid = param_test6, scoring='roc_auc',n_jobs=-1,iid=False, cv=5)\n",
    "# gsearch6.fit(newtrain,target)\n",
    "# gsearch6.grid_scores_, gsearch6.best_params_, gsearch6.best_score_"
   ]
  },
  {
   "cell_type": "code",
   "execution_count": null,
   "metadata": {
    "ExecuteTime": {
     "end_time": "2017-04-16T17:57:02.389261",
     "start_time": "2017-04-16T11:56:06.227Z"
    },
    "collapsed": false,
    "run_control": {
     "frozen": false,
     "read_only": false
    }
   },
   "outputs": [],
   "source": [
    "# param_test7 = {\n",
    "#  'reg_alpha':[0.5,1,2,5,10]\n",
    "# }\n",
    "# gsearch7 = GridSearchCV(estimator = XGBClassifier( learning_rate =0.1, n_estimators=140, max_depth=4,\n",
    "#  min_child_weight=4, gamma=0, subsample=1.0, colsample_bytree=0.6,\n",
    "#  objective= 'binary:logistic', nthread=-1, scale_pos_weight=1,seed=27), \n",
    "#  param_grid = param_test7, scoring='roc_auc',n_jobs=-1,iid=False, cv=5)\n",
    "# gsearch7.fit(newtrain,target)\n",
    "# gsearch7.grid_scores_, gsearch7.best_params_, gsearch7.best_score_"
   ]
  },
  {
   "cell_type": "markdown",
   "metadata": {
    "run_control": {
     "frozen": false,
     "read_only": false
    }
   },
   "source": [
    "## Grid search on 'learning_rate' and 'n_estimators'"
   ]
  },
  {
   "cell_type": "code",
   "execution_count": 209,
   "metadata": {
    "collapsed": false,
    "run_control": {
     "frozen": true,
     "read_only": true
    }
   },
   "outputs": [
    {
     "data": {
      "text/plain": [
       "([mean: 0.80282, std: 0.00984, params: {'n_estimators': 1000, 'learning_rate': 0.1},\n",
       "  mean: 0.80199, std: 0.01003, params: {'n_estimators': 5000, 'learning_rate': 0.1},\n",
       "  mean: 0.80175, std: 0.01035, params: {'n_estimators': 10000, 'learning_rate': 0.1},\n",
       "  mean: 0.81651, std: 0.00992, params: {'n_estimators': 1000, 'learning_rate': 0.01},\n",
       "  mean: 0.80989, std: 0.00944, params: {'n_estimators': 5000, 'learning_rate': 0.01},\n",
       "  mean: 0.80797, std: 0.00966, params: {'n_estimators': 10000, 'learning_rate': 0.01},\n",
       "  mean: 0.81178, std: 0.00623, params: {'n_estimators': 1000, 'learning_rate': 0.001},\n",
       "  mean: 0.81843, std: 0.00840, params: {'n_estimators': 5000, 'learning_rate': 0.001},\n",
       "  mean: 0.81649, std: 0.00936, params: {'n_estimators': 10000, 'learning_rate': 0.001}],\n",
       " {'learning_rate': 0.001, 'n_estimators': 5000},\n",
       " 0.8184288230374144)"
      ]
     },
     "execution_count": 209,
     "metadata": {},
     "output_type": "execute_result"
    }
   ],
   "source": [
    "param_test8 = {\n",
    " 'learning_rate': [0.1,0.01,0.001],\n",
    " 'n_estimators': [1000,5000,10000]\n",
    "}\n",
    "gsearch8 = GridSearchCV(estimator = XGBClassifier( learning_rate =0.1, n_estimators=140, max_depth=5,\n",
    " min_child_weight=0, gamma=0.3, subsample=0.9, reg_alpha = 0.2, colsample_bytree=0.9,\n",
    " objective= 'binary:logistic', nthread=-1, scale_pos_weight=1,seed=40), \n",
    " param_grid = param_test8, scoring='roc_auc',n_jobs=-1,iid=False, cv=5)\n",
    "gsearch8.fit(newtrain,target)\n",
    "gsearch8.grid_scores_, gsearch8.best_params_, gsearch8.best_score_"
   ]
  },
  {
   "cell_type": "markdown",
   "metadata": {
    "run_control": {
     "frozen": false,
     "read_only": false
    }
   },
   "source": [
    "## FINAL MODEL"
   ]
  },
  {
   "cell_type": "code",
   "execution_count": 28,
   "metadata": {
    "ExecuteTime": {
     "end_time": "2017-04-16T20:28:44.617957",
     "start_time": "2017-04-16T20:28:44.611256"
    },
    "collapsed": false,
    "init_cell": true,
    "run_control": {
     "frozen": false,
     "read_only": false
    }
   },
   "outputs": [],
   "source": [
    "# XgbParams = {'learning_rate': 0.001, 'n_estimators':10000, 'max_depth':6, 'min_child_weight':3, 'gamma':0,\n",
    "#             'subsample':0.9, 'colsample_bytree':0.6, 'reg_alpha':1e-5, 'objective': 'binary:logistic',\n",
    "#              'nthread':-1, 'scale_pos_weight':1}\n",
    "\n",
    "XgbParams = {'learning_rate': 0.001, 'n_estimators':1000, 'max_depth':5, 'min_child_weight':0, 'gamma':0.3,\n",
    "            'subsample':0.9, 'colsample_bytree':0.9, 'reg_alpha':0.2, 'objective': 'binary:logistic',\n",
    "             'nthread':-1, 'scale_pos_weight':1}\n",
    "\n",
    "# XgbParams = {'learning_rate': 0.01, 'n_estimators':1000, 'max_depth':4, 'min_child_weight':4, 'gamma':0,\n",
    "#             'subsample':1, 'colsample_bytree':0.6, 'reg_alpha':1, 'objective': 'binary:logistic',\n",
    "#              'nthread':-1, 'scale_pos_weight':1}"
   ]
  },
  {
   "cell_type": "code",
   "execution_count": null,
   "metadata": {
    "ExecuteTime": {
     "start_time": "2017-04-16T18:28:44.776Z"
    },
    "collapsed": false,
    "run_control": {
     "frozen": false,
     "read_only": false
    }
   },
   "outputs": [],
   "source": [
    "xgb3 = XGBClassifier(**XgbParams, seed=27)\n",
    "modelfit(xgb3, newtrain, predictors, plot = False)"
   ]
  },
  {
   "cell_type": "code",
   "execution_count": 216,
   "metadata": {
    "collapsed": false,
    "hide_input": true,
    "run_control": {
     "frozen": true,
     "read_only": true
    }
   },
   "outputs": [
    {
     "name": "stdout",
     "output_type": "stream",
     "text": [
      "\n",
      "Model Report\n",
      "Accuracy : 0.7944\n",
      "AUC Score (Train): 0.885769\n",
      "AUC Score (CV): 0.721147862905\n"
     ]
    }
   ],
   "source": [
    "xgb3 = XGBClassifier(**XgbParams, seed=40)\n",
    "modelfit(xgb3, newtrain, predictors, plot = False)"
   ]
  },
  {
   "cell_type": "markdown",
   "metadata": {
    "run_control": {
     "frozen": false,
     "read_only": false
    }
   },
   "source": [
    "<h1> VI. Final Prediction </h1> (We take the best xgboost model here)"
   ]
  },
  {
   "cell_type": "code",
   "execution_count": 41,
   "metadata": {
    "ExecuteTime": {
     "end_time": "2017-04-17T21:25:01.810949",
     "start_time": "2017-04-17T21:24:58.518556"
    },
    "collapsed": false,
    "run_control": {
     "frozen": false,
     "read_only": false
    }
   },
   "outputs": [],
   "source": [
    "gbrpred = gbr.predict(newtest)\n",
    "df_output = pd.DataFrame()\n",
    "df_output['sample_id'] = IDtest\n",
    "df_output['is_listened'] = gbrpred\n",
    "df_output[['sample_id','is_listened']].to_csv('./predictions/GBRoutput.csv', sep = \",\", index=False)"
   ]
  },
  {
   "cell_type": "code",
   "execution_count": null,
   "metadata": {
    "collapsed": false,
    "run_control": {
     "frozen": false,
     "read_only": false
    }
   },
   "outputs": [],
   "source": []
  }
 ],
 "metadata": {
  "anaconda-cloud": {},
  "kernelspec": {
   "display_name": "Python [conda root]",
   "language": "python",
   "name": "conda-root-py"
  },
  "language_info": {
   "codemirror_mode": {
    "name": "ipython",
    "version": 3
   },
   "file_extension": ".py",
   "mimetype": "text/x-python",
   "name": "python",
   "nbconvert_exporter": "python",
   "pygments_lexer": "ipython3",
   "version": "3.5.2"
  },
  "latex_envs": {
   "LaTeX_envs_menu_present": true,
   "bibliofile": "biblio.bib",
   "cite_by": "apalike",
   "current_citInitial": 1,
   "eqLabelWithNumbers": true,
   "eqNumInitial": 1,
   "hotkeys": {
    "equation": "Ctrl-E",
    "itemize": "Ctrl-I"
   },
   "labels_anchors": false,
   "latex_user_defs": false,
   "report_style_numbering": false,
   "user_envs_cfg": false
  },
  "toc": {
   "colors": {
    "hover_highlight": "#DAA520",
    "running_highlight": "#FF0000",
    "selected_highlight": "#FFD700"
   },
   "moveMenuLeft": true,
   "nav_menu": {
    "height": "512px",
    "width": "252px"
   },
   "navigate_menu": true,
   "number_sections": true,
   "sideBar": true,
   "threshold": 4,
   "toc_cell": false,
   "toc_section_display": "block",
   "toc_window_display": false
  }
 },
 "nbformat": 4,
 "nbformat_minor": 1
}
